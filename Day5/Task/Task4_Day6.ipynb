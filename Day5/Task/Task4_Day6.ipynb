{
  "nbformat": 4,
  "nbformat_minor": 0,
  "metadata": {
    "colab": {
      "name": "Task4_Day6.ipynb",
      "provenance": [],
      "collapsed_sections": []
    },
    "kernelspec": {
      "name": "python3",
      "display_name": "Python 3"
    },
    "language_info": {
      "name": "python"
    }
  },
  "cells": [
    {
      "cell_type": "markdown",
      "metadata": {
        "id": "uODtB4NSz_lF"
      },
      "source": [
        "***Name: SADDAM HUSSIN***\n",
        "\n",
        "***REG ID: GO_STP_6834***\n",
        "\n",
        "\n",
        "\n",
        "---\n",
        "\n"
      ]
    },
    {
      "cell_type": "markdown",
      "metadata": {
        "id": "9Me7bkh7gU7J"
      },
      "source": [
        "1. Import the numpy package under the name np and Print the numpy version and the configuration"
      ]
    },
    {
      "cell_type": "code",
      "metadata": {
        "id": "LYzooXlEgJc9"
      },
      "source": [
        "import numpy as np"
      ],
      "execution_count": null,
      "outputs": []
    },
    {
      "cell_type": "code",
      "metadata": {
        "colab": {
          "base_uri": "https://localhost:8080/",
          "height": 35
        },
        "id": "gypPMjp1giFN",
        "outputId": "42a4a650-b2cc-4a2b-cd4e-33ef930b40d1"
      },
      "source": [
        "np.version.version"
      ],
      "execution_count": null,
      "outputs": [
        {
          "output_type": "execute_result",
          "data": {
            "application/vnd.google.colaboratory.intrinsic+json": {
              "type": "string"
            },
            "text/plain": [
              "'1.19.5'"
            ]
          },
          "metadata": {
            "tags": []
          },
          "execution_count": 64
        }
      ]
    },
    {
      "cell_type": "code",
      "metadata": {
        "colab": {
          "base_uri": "https://localhost:8080/",
          "height": 35
        },
        "id": "2Vb9NqNThjmn",
        "outputId": "594478a7-cb4c-40da-9107-3b715a708fb6"
      },
      "source": [
        "# OR\n",
        "\n",
        "np.__version__"
      ],
      "execution_count": null,
      "outputs": [
        {
          "output_type": "execute_result",
          "data": {
            "application/vnd.google.colaboratory.intrinsic+json": {
              "type": "string"
            },
            "text/plain": [
              "'1.19.5'"
            ]
          },
          "metadata": {
            "tags": []
          },
          "execution_count": 65
        }
      ]
    },
    {
      "cell_type": "code",
      "metadata": {
        "colab": {
          "base_uri": "https://localhost:8080/"
        },
        "id": "9_kalQgxhH9M",
        "outputId": "1d544226-9945-4b82-8e86-062e4376321f"
      },
      "source": [
        "np.show_config()"
      ],
      "execution_count": null,
      "outputs": [
        {
          "output_type": "stream",
          "text": [
            "blas_mkl_info:\n",
            "  NOT AVAILABLE\n",
            "blis_info:\n",
            "  NOT AVAILABLE\n",
            "openblas_info:\n",
            "    libraries = ['openblas', 'openblas']\n",
            "    library_dirs = ['/usr/local/lib']\n",
            "    language = c\n",
            "    define_macros = [('HAVE_CBLAS', None)]\n",
            "blas_opt_info:\n",
            "    libraries = ['openblas', 'openblas']\n",
            "    library_dirs = ['/usr/local/lib']\n",
            "    language = c\n",
            "    define_macros = [('HAVE_CBLAS', None)]\n",
            "lapack_mkl_info:\n",
            "  NOT AVAILABLE\n",
            "openblas_lapack_info:\n",
            "    libraries = ['openblas', 'openblas']\n",
            "    library_dirs = ['/usr/local/lib']\n",
            "    language = c\n",
            "    define_macros = [('HAVE_CBLAS', None)]\n",
            "lapack_opt_info:\n",
            "    libraries = ['openblas', 'openblas']\n",
            "    library_dirs = ['/usr/local/lib']\n",
            "    language = c\n",
            "    define_macros = [('HAVE_CBLAS', None)]\n"
          ],
          "name": "stdout"
        }
      ]
    },
    {
      "cell_type": "markdown",
      "metadata": {
        "id": "vePuWP4yhmtK"
      },
      "source": [
        "2. Create a null vector of size 10"
      ]
    },
    {
      "cell_type": "code",
      "metadata": {
        "colab": {
          "base_uri": "https://localhost:8080/"
        },
        "id": "xmHK9QjvhmJt",
        "outputId": "28245d20-b74d-47e9-9679-2c3233d3a117"
      },
      "source": [
        "nullVector = np.zeros(10)\n",
        "print(nullVector)"
      ],
      "execution_count": null,
      "outputs": [
        {
          "output_type": "stream",
          "text": [
            "[0. 0. 0. 0. 0. 0. 0. 0. 0. 0.]\n"
          ],
          "name": "stdout"
        }
      ]
    },
    {
      "cell_type": "markdown",
      "metadata": {
        "id": "J7bo1G70iHAm"
      },
      "source": [
        "3. Create Simple 1-D array and check type and check data types in array"
      ]
    },
    {
      "cell_type": "code",
      "metadata": {
        "colab": {
          "base_uri": "https://localhost:8080/"
        },
        "id": "L7G4qlfniJ5e",
        "outputId": "880b5f3c-032b-4b24-beb7-ee95a548961c"
      },
      "source": [
        "array = np.array([1,2,3])\n",
        "print(array)\n",
        "print(type(array))\n",
        "print(array.dtype)"
      ],
      "execution_count": null,
      "outputs": [
        {
          "output_type": "stream",
          "text": [
            "[1 2 3]\n",
            "<class 'numpy.ndarray'>\n",
            "int64\n"
          ],
          "name": "stdout"
        }
      ]
    },
    {
      "cell_type": "markdown",
      "metadata": {
        "id": "jrTDboj4i02b"
      },
      "source": [
        "4. How to find number of dimensions, bytes per element and bytes of memory used?"
      ]
    },
    {
      "cell_type": "code",
      "metadata": {
        "colab": {
          "base_uri": "https://localhost:8080/"
        },
        "id": "Jewr7O0hi0bv",
        "outputId": "84dcff90-4f1f-4f94-9ef7-961bc91b3382"
      },
      "source": [
        "#Dimension of an array , 1D, 2D or 3D etc\n",
        "array.ndim"
      ],
      "execution_count": null,
      "outputs": [
        {
          "output_type": "execute_result",
          "data": {
            "text/plain": [
              "1"
            ]
          },
          "metadata": {
            "tags": []
          },
          "execution_count": 69
        }
      ]
    },
    {
      "cell_type": "code",
      "metadata": {
        "colab": {
          "base_uri": "https://localhost:8080/"
        },
        "id": "DkkKaW87jPzm",
        "outputId": "310b9585-3bf8-4465-b8ca-b27de706f8d9"
      },
      "source": [
        "array.shape"
      ],
      "execution_count": null,
      "outputs": [
        {
          "output_type": "execute_result",
          "data": {
            "text/plain": [
              "(3,)"
            ]
          },
          "metadata": {
            "tags": []
          },
          "execution_count": 70
        }
      ]
    },
    {
      "cell_type": "code",
      "metadata": {
        "colab": {
          "base_uri": "https://localhost:8080/"
        },
        "id": "eeHm6_U-jTke",
        "outputId": "b1501c14-16e8-4295-be18-3c1a582d704a"
      },
      "source": [
        "array.size"
      ],
      "execution_count": null,
      "outputs": [
        {
          "output_type": "execute_result",
          "data": {
            "text/plain": [
              "3"
            ]
          },
          "metadata": {
            "tags": []
          },
          "execution_count": 71
        }
      ]
    },
    {
      "cell_type": "code",
      "metadata": {
        "colab": {
          "base_uri": "https://localhost:8080/"
        },
        "id": "Iea8-7mJjrJi",
        "outputId": "4a71043c-dc70-44f8-c76d-05b645c8dd6d"
      },
      "source": [
        "#Memory\n",
        "import sys\n",
        "\n",
        "#Momory Used\n",
        "sys.getsizeof(array)"
      ],
      "execution_count": null,
      "outputs": [
        {
          "output_type": "execute_result",
          "data": {
            "text/plain": [
              "120"
            ]
          },
          "metadata": {
            "tags": []
          },
          "execution_count": 72
        }
      ]
    },
    {
      "cell_type": "code",
      "metadata": {
        "colab": {
          "base_uri": "https://localhost:8080/"
        },
        "id": "cS6yxCTYkKM8",
        "outputId": "752c474b-0b15-41f7-bef1-d54e1f161f75"
      },
      "source": [
        "#Bytes per element\n",
        "array.itemsize"
      ],
      "execution_count": null,
      "outputs": [
        {
          "output_type": "execute_result",
          "data": {
            "text/plain": [
              "8"
            ]
          },
          "metadata": {
            "tags": []
          },
          "execution_count": 73
        }
      ]
    },
    {
      "cell_type": "markdown",
      "metadata": {
        "id": "wf5eoVKkk5oN"
      },
      "source": [
        "5. Create a null vector of size 10 but the fifth value which is 1"
      ]
    },
    {
      "cell_type": "code",
      "metadata": {
        "colab": {
          "base_uri": "https://localhost:8080/"
        },
        "id": "JwmaQvq3k4GT",
        "outputId": "e9e1c638-7d01-4038-b4a5-572d6720adfa"
      },
      "source": [
        "vector = np.zeros(10)\n",
        "vector[4] = 1\n",
        "print(vector)"
      ],
      "execution_count": null,
      "outputs": [
        {
          "output_type": "stream",
          "text": [
            "[0. 0. 0. 0. 1. 0. 0. 0. 0. 0.]\n"
          ],
          "name": "stdout"
        }
      ]
    },
    {
      "cell_type": "markdown",
      "metadata": {
        "id": "PzFYhAPIlYrT"
      },
      "source": [
        "6. Create a vector with values ranging from 10 to 49"
      ]
    },
    {
      "cell_type": "code",
      "metadata": {
        "colab": {
          "base_uri": "https://localhost:8080/"
        },
        "id": "B1p_-jmvlbuf",
        "outputId": "3f4d1492-018b-400b-ea1b-f7d17ff27685"
      },
      "source": [
        "data = np.arange(10,50)\n",
        "data"
      ],
      "execution_count": null,
      "outputs": [
        {
          "output_type": "execute_result",
          "data": {
            "text/plain": [
              "array([10, 11, 12, 13, 14, 15, 16, 17, 18, 19, 20, 21, 22, 23, 24, 25, 26,\n",
              "       27, 28, 29, 30, 31, 32, 33, 34, 35, 36, 37, 38, 39, 40, 41, 42, 43,\n",
              "       44, 45, 46, 47, 48, 49])"
            ]
          },
          "metadata": {
            "tags": []
          },
          "execution_count": 75
        }
      ]
    },
    {
      "cell_type": "markdown",
      "metadata": {
        "id": "Dri0WxYSmPYN"
      },
      "source": [
        "7. Reverse a vector (first element becomes last)"
      ]
    },
    {
      "cell_type": "code",
      "metadata": {
        "colab": {
          "base_uri": "https://localhost:8080/"
        },
        "id": "ascJvEKYmP9R",
        "outputId": "1fa4442a-d6ee-4fe2-e753-a441dcbc4727"
      },
      "source": [
        "print(data[::-1])"
      ],
      "execution_count": null,
      "outputs": [
        {
          "output_type": "stream",
          "text": [
            "[49 48 47 46 45 44 43 42 41 40 39 38 37 36 35 34 33 32 31 30 29 28 27 26\n",
            " 25 24 23 22 21 20 19 18 17 16 15 14 13 12 11 10]\n"
          ],
          "name": "stdout"
        }
      ]
    },
    {
      "cell_type": "markdown",
      "metadata": {
        "id": "BvkndUyanrdo"
      },
      "source": [
        "8. Create a 3x3 matrix with values ranging from 0 to 8"
      ]
    },
    {
      "cell_type": "code",
      "metadata": {
        "colab": {
          "base_uri": "https://localhost:8080/"
        },
        "id": "c5Pl0KrUnstr",
        "outputId": "0972d775-fb42-4298-9602-457996ff936c"
      },
      "source": [
        "data = np.array([[0,1,2],[3,4,5],[6,7,8]])\n",
        "data"
      ],
      "execution_count": null,
      "outputs": [
        {
          "output_type": "execute_result",
          "data": {
            "text/plain": [
              "array([[0, 1, 2],\n",
              "       [3, 4, 5],\n",
              "       [6, 7, 8]])"
            ]
          },
          "metadata": {
            "tags": []
          },
          "execution_count": 77
        }
      ]
    },
    {
      "cell_type": "code",
      "metadata": {
        "colab": {
          "base_uri": "https://localhost:8080/"
        },
        "id": "M3I9QBMmpDHL",
        "outputId": "e7d10773-ee15-45fc-eca9-36c53d8d69c7"
      },
      "source": [
        "#OR\n",
        "data = np.arange(9)\n",
        "newVector = data.reshape(3,3)\n",
        "newVector"
      ],
      "execution_count": null,
      "outputs": [
        {
          "output_type": "execute_result",
          "data": {
            "text/plain": [
              "array([[0, 1, 2],\n",
              "       [3, 4, 5],\n",
              "       [6, 7, 8]])"
            ]
          },
          "metadata": {
            "tags": []
          },
          "execution_count": 78
        }
      ]
    },
    {
      "cell_type": "markdown",
      "metadata": {
        "id": "a-7r3DB1pSR_"
      },
      "source": [
        "9. Find indices of non-zero elements from [1,2,0,0,4,0]"
      ]
    },
    {
      "cell_type": "code",
      "metadata": {
        "colab": {
          "base_uri": "https://localhost:8080/"
        },
        "id": "N89LV8zfpW0k",
        "outputId": "17690159-fc3e-47bc-c9d6-336360b96366"
      },
      "source": [
        "data = np.array([1,2,0,0,4,0])\n",
        "\n",
        "#indices of non zero element\n",
        "indices = np.nonzero(data)\n",
        "print(indices)\n",
        "\n",
        "#non zero elements\n",
        "print(data[indices])"
      ],
      "execution_count": null,
      "outputs": [
        {
          "output_type": "stream",
          "text": [
            "(array([0, 1, 4]),)\n",
            "[1 2 4]\n"
          ],
          "name": "stdout"
        }
      ]
    },
    {
      "cell_type": "markdown",
      "metadata": {
        "id": "p1JFA_Zcqram"
      },
      "source": [
        "10. Create a 3x3 identity matrix"
      ]
    },
    {
      "cell_type": "code",
      "metadata": {
        "colab": {
          "base_uri": "https://localhost:8080/"
        },
        "id": "4XOwcggRqu_f",
        "outputId": "2b6697e3-1d51-4627-9923-751b95228796"
      },
      "source": [
        "data = np.ones(9)\n",
        "print(data.reshape(3,3))"
      ],
      "execution_count": null,
      "outputs": [
        {
          "output_type": "stream",
          "text": [
            "[[1. 1. 1.]\n",
            " [1. 1. 1.]\n",
            " [1. 1. 1.]]\n"
          ],
          "name": "stdout"
        }
      ]
    },
    {
      "cell_type": "markdown",
      "metadata": {
        "id": "DyLT1bUbrDG7"
      },
      "source": [
        "11. Create a 3x3x3 array with random values"
      ]
    },
    {
      "cell_type": "code",
      "metadata": {
        "colab": {
          "base_uri": "https://localhost:8080/"
        },
        "id": "Btj7n84mrGqn",
        "outputId": "4fd55827-811c-4c62-afa7-60218a903222"
      },
      "source": [
        "data = np.random.random(size=[3,3,3])\n",
        "data"
      ],
      "execution_count": null,
      "outputs": [
        {
          "output_type": "execute_result",
          "data": {
            "text/plain": [
              "array([[[0.72336429, 0.47527545, 0.0674571 ],\n",
              "        [0.79256558, 0.91566728, 0.36013676],\n",
              "        [0.88668849, 0.5176543 , 0.66976295]],\n",
              "\n",
              "       [[0.18193849, 0.72853061, 0.08888202],\n",
              "        [0.7866261 , 0.94460196, 0.8763229 ],\n",
              "        [0.78339597, 0.95499859, 0.35494576]],\n",
              "\n",
              "       [[0.15490929, 0.83367569, 0.20380429],\n",
              "        [0.50687942, 0.4360467 , 0.50547629],\n",
              "        [0.48764912, 0.10373019, 0.97632764]]])"
            ]
          },
          "metadata": {
            "tags": []
          },
          "execution_count": 81
        }
      ]
    },
    {
      "cell_type": "markdown",
      "metadata": {
        "id": "L6133M-osELj"
      },
      "source": [
        "12. Create a 10x10 array with random values and find the minimum and maximum values"
      ]
    },
    {
      "cell_type": "code",
      "metadata": {
        "colab": {
          "base_uri": "https://localhost:8080/"
        },
        "id": "_Qo5iwyLsHr1",
        "outputId": "b18ed01a-1b01-4ef2-c735-b0cedf5535a6"
      },
      "source": [
        "data = np.random.random((10,10))\n",
        "max = data.max()\n",
        "print(max)\n",
        "\n",
        "min = data.min()\n",
        "print(min)"
      ],
      "execution_count": null,
      "outputs": [
        {
          "output_type": "stream",
          "text": [
            "0.9846445112530668\n",
            "0.03835439992038969\n"
          ],
          "name": "stdout"
        }
      ]
    },
    {
      "cell_type": "markdown",
      "metadata": {
        "id": "xIKlPc1yso58"
      },
      "source": [
        "13. Create a random vector of size 30 and find the mean value"
      ]
    },
    {
      "cell_type": "code",
      "metadata": {
        "colab": {
          "base_uri": "https://localhost:8080/"
        },
        "id": "ttLzatUCsp-d",
        "outputId": "b92071cf-7349-43f1-f766-b1118e406e25"
      },
      "source": [
        "data = np.array(30)\n",
        "data.mean()"
      ],
      "execution_count": null,
      "outputs": [
        {
          "output_type": "execute_result",
          "data": {
            "text/plain": [
              "30.0"
            ]
          },
          "metadata": {
            "tags": []
          },
          "execution_count": 83
        }
      ]
    },
    {
      "cell_type": "markdown",
      "metadata": {
        "id": "7gz2dmd-s7-0"
      },
      "source": [
        "14. Create a 2d array with 1 on the border and 0 inside"
      ]
    },
    {
      "cell_type": "code",
      "metadata": {
        "colab": {
          "base_uri": "https://localhost:8080/"
        },
        "id": "IZjnlkQis-yw",
        "outputId": "3d9f07ba-2fbf-4442-9792-7e1b3cb9c92c"
      },
      "source": [
        "data = np.array([[1,1,1],[1,0,1],[1,1,1]])\n",
        "data"
      ],
      "execution_count": null,
      "outputs": [
        {
          "output_type": "execute_result",
          "data": {
            "text/plain": [
              "array([[1, 1, 1],\n",
              "       [1, 0, 1],\n",
              "       [1, 1, 1]])"
            ]
          },
          "metadata": {
            "tags": []
          },
          "execution_count": 84
        }
      ]
    },
    {
      "cell_type": "code",
      "metadata": {
        "colab": {
          "base_uri": "https://localhost:8080/"
        },
        "id": "JExJrSR3tzNs",
        "outputId": "6ca87631-615e-44e0-81ff-80b44fe13de1"
      },
      "source": [
        "#OR\n",
        "data = np.ones([3,3])\n",
        "print(\"Before Zero \")\n",
        "print(data)\n",
        "data[1:-1,1:-1] = 0\n",
        "print(\"\\nAfter Zero \")\n",
        "print(data)"
      ],
      "execution_count": null,
      "outputs": [
        {
          "output_type": "stream",
          "text": [
            "Before Zero \n",
            "[[1. 1. 1.]\n",
            " [1. 1. 1.]\n",
            " [1. 1. 1.]]\n",
            "\n",
            "After Zero \n",
            "[[1. 1. 1.]\n",
            " [1. 0. 1.]\n",
            " [1. 1. 1.]]\n"
          ],
          "name": "stdout"
        }
      ]
    },
    {
      "cell_type": "markdown",
      "metadata": {
        "id": "qx6TqJpIuiWE"
      },
      "source": [
        "15. How to add a border (filled with 0's) around an existing array? "
      ]
    },
    {
      "cell_type": "code",
      "metadata": {
        "colab": {
          "base_uri": "https://localhost:8080/"
        },
        "id": "lu6ua9lwunhz",
        "outputId": "2827a41c-6766-4159-c2ca-f7d96a0d1cb6"
      },
      "source": [
        "#OR\n",
        "data = np.zeros([4,4])\n",
        "print(\"Before Zero \")\n",
        "print(data)\n",
        "\n",
        "data[1:-1,1:-1] = 1\n",
        "print(\"\\nAfter Zero \")\n",
        "print(data)"
      ],
      "execution_count": null,
      "outputs": [
        {
          "output_type": "stream",
          "text": [
            "Before Zero \n",
            "[[0. 0. 0. 0.]\n",
            " [0. 0. 0. 0.]\n",
            " [0. 0. 0. 0.]\n",
            " [0. 0. 0. 0.]]\n",
            "\n",
            "After Zero \n",
            "[[0. 0. 0. 0.]\n",
            " [0. 1. 1. 0.]\n",
            " [0. 1. 1. 0.]\n",
            " [0. 0. 0. 0.]]\n"
          ],
          "name": "stdout"
        }
      ]
    },
    {
      "cell_type": "code",
      "metadata": {
        "colab": {
          "base_uri": "https://localhost:8080/"
        },
        "id": "SlnCHK8savSr",
        "outputId": "b7ae5110-6f0b-4a9f-bba2-8ca2fc2d3a5e"
      },
      "source": [
        "#OR\n",
        "a = np.arange(1,17).reshape(4,4)\n",
        "print(a)\n",
        "\n",
        "a = np.pad(a, pad_width=1, mode='constant', constant_values=0)\n",
        "print(a)"
      ],
      "execution_count": null,
      "outputs": [
        {
          "output_type": "stream",
          "text": [
            "[[ 1  2  3  4]\n",
            " [ 5  6  7  8]\n",
            " [ 9 10 11 12]\n",
            " [13 14 15 16]]\n",
            "[[ 0  0  0  0  0  0]\n",
            " [ 0  1  2  3  4  0]\n",
            " [ 0  5  6  7  8  0]\n",
            " [ 0  9 10 11 12  0]\n",
            " [ 0 13 14 15 16  0]\n",
            " [ 0  0  0  0  0  0]]\n"
          ],
          "name": "stdout"
        }
      ]
    },
    {
      "cell_type": "markdown",
      "metadata": {
        "id": "xEQbqWmNu11Z"
      },
      "source": [
        "16. How to Accessing/Changing specific elements, rows, columns, etc in Numpy array?\n",
        "\n",
        "Example -\n",
        "\n",
        "[[ 1 2 3 4 5 6 7] [ 8 9 10 11 12 13 14]]\n",
        "\n",
        "Get 13, get first row only, get 3rd column only, get [2, 4, 6], replace 13 by 20\n",
        "\n"
      ]
    },
    {
      "cell_type": "code",
      "metadata": {
        "colab": {
          "base_uri": "https://localhost:8080/"
        },
        "id": "vo_op8xou5zo",
        "outputId": "4de647f3-dace-4793-abea-0d0798eb601b"
      },
      "source": [
        "data = np.array([[1,2,3, 4, 5, 6, 7], [8, 9, 10, 11, 12, 13, 14]])\n",
        "data"
      ],
      "execution_count": null,
      "outputs": [
        {
          "output_type": "execute_result",
          "data": {
            "text/plain": [
              "array([[ 1,  2,  3,  4,  5,  6,  7],\n",
              "       [ 8,  9, 10, 11, 12, 13, 14]])"
            ]
          },
          "metadata": {
            "tags": []
          },
          "execution_count": 89
        }
      ]
    },
    {
      "cell_type": "code",
      "metadata": {
        "colab": {
          "base_uri": "https://localhost:8080/"
        },
        "id": "W55KQNSbv94l",
        "outputId": "60e92521-75aa-4c53-b1f9-96fcbd54f8db"
      },
      "source": [
        "data[1,5]"
      ],
      "execution_count": null,
      "outputs": [
        {
          "output_type": "execute_result",
          "data": {
            "text/plain": [
              "13"
            ]
          },
          "metadata": {
            "tags": []
          },
          "execution_count": 90
        }
      ]
    },
    {
      "cell_type": "code",
      "metadata": {
        "colab": {
          "base_uri": "https://localhost:8080/"
        },
        "id": "yuJfayoEvaUQ",
        "outputId": "c18fcd8b-2f65-43e3-c600-545c98db4002"
      },
      "source": [
        "data[0,:]"
      ],
      "execution_count": null,
      "outputs": [
        {
          "output_type": "execute_result",
          "data": {
            "text/plain": [
              "array([1, 2, 3, 4, 5, 6, 7])"
            ]
          },
          "metadata": {
            "tags": []
          },
          "execution_count": 91
        }
      ]
    },
    {
      "cell_type": "code",
      "metadata": {
        "colab": {
          "base_uri": "https://localhost:8080/"
        },
        "id": "XqMBBePJvx0z",
        "outputId": "03a91542-2fc6-4aed-c994-13c108ba03be"
      },
      "source": [
        "data[:,2]"
      ],
      "execution_count": null,
      "outputs": [
        {
          "output_type": "execute_result",
          "data": {
            "text/plain": [
              "array([ 3, 10])"
            ]
          },
          "metadata": {
            "tags": []
          },
          "execution_count": 92
        }
      ]
    },
    {
      "cell_type": "code",
      "metadata": {
        "colab": {
          "base_uri": "https://localhost:8080/"
        },
        "id": "B5Kk492pwKJE",
        "outputId": "5ee3051e-3f97-4b8d-92b7-92cb671d7705"
      },
      "source": [
        "data[0,[1,3,5]]"
      ],
      "execution_count": null,
      "outputs": [
        {
          "output_type": "execute_result",
          "data": {
            "text/plain": [
              "array([2, 4, 6])"
            ]
          },
          "metadata": {
            "tags": []
          },
          "execution_count": 93
        }
      ]
    },
    {
      "cell_type": "code",
      "metadata": {
        "colab": {
          "base_uri": "https://localhost:8080/"
        },
        "id": "pjmw2-rOw3yk",
        "outputId": "deff9665-761e-4833-83cc-b74cb088cc8d"
      },
      "source": [
        "data[1,5] = 20\n",
        "data"
      ],
      "execution_count": null,
      "outputs": [
        {
          "output_type": "execute_result",
          "data": {
            "text/plain": [
              "array([[ 1,  2,  3,  4,  5,  6,  7],\n",
              "       [ 8,  9, 10, 11, 12, 20, 14]])"
            ]
          },
          "metadata": {
            "tags": []
          },
          "execution_count": 94
        }
      ]
    },
    {
      "cell_type": "markdown",
      "metadata": {
        "id": "F6i24OBivmMc"
      },
      "source": [
        "17. How to Convert a 1D array to a 2D array with 2 rows"
      ]
    },
    {
      "cell_type": "code",
      "metadata": {
        "colab": {
          "base_uri": "https://localhost:8080/"
        },
        "id": "zuvot9V0xBJ8",
        "outputId": "ddefc21c-0d07-45aa-db6f-31487aaad3d3"
      },
      "source": [
        "oneDArray = np.arange(8)\n",
        "twoDArray = oneDArray.reshape([2,4])\n",
        "twoDArray"
      ],
      "execution_count": null,
      "outputs": [
        {
          "output_type": "execute_result",
          "data": {
            "text/plain": [
              "array([[0, 1, 2, 3],\n",
              "       [4, 5, 6, 7]])"
            ]
          },
          "metadata": {
            "tags": []
          },
          "execution_count": 95
        }
      ]
    },
    {
      "cell_type": "markdown",
      "metadata": {
        "id": "4BZf7_1HxpLR"
      },
      "source": [
        "18. Create the following pattern without hardcoding. Use only numpy functions and the below input array a.\n",
        "\n",
        "Input:\n",
        "\n",
        "a = np.array([1,2,3])`\n",
        "\n",
        "Desired Output:\n",
        "\n",
        "array([1, 1, 1, 2, 2, 2, 3, 3, 3, 1, 2, 3, 1, 2, 3, 1, 2, 3])\n"
      ]
    },
    {
      "cell_type": "code",
      "metadata": {
        "colab": {
          "base_uri": "https://localhost:8080/"
        },
        "id": "JsmIHfbuybZL",
        "outputId": "fecffdc4-5bf9-46a6-8d10-9548a8b9ad65"
      },
      "source": [
        "a = np.array([1,2,3])\n",
        "np.r_[np.repeat(a, 3), np.tile(a, 3)]"
      ],
      "execution_count": null,
      "outputs": [
        {
          "output_type": "execute_result",
          "data": {
            "text/plain": [
              "array([1, 1, 1, 2, 2, 2, 3, 3, 3, 1, 2, 3, 1, 2, 3, 1, 2, 3])"
            ]
          },
          "metadata": {
            "tags": []
          },
          "execution_count": 96
        }
      ]
    },
    {
      "cell_type": "markdown",
      "metadata": {
        "id": "S1MD5qavy65e"
      },
      "source": [
        "19. Write a program to show how Numpy taking less memory compared to Python List?"
      ]
    },
    {
      "cell_type": "code",
      "metadata": {
        "colab": {
          "base_uri": "https://localhost:8080/"
        },
        "id": "XePtiZSOy-wL",
        "outputId": "0e0a2e0e-0fae-4f02-9f04-d8bbf638f008"
      },
      "source": [
        "l = range(8000)\n",
        "print(type(l))\n",
        "import sys\n",
        "a = 10\n",
        "print(\"For List\")\n",
        "print(sys.getsizeof(a)) # momery located to a\n",
        "print(sys.getsizeof(a)*len(l))\n",
        "\n",
        "print('\\n')\n",
        "print(\"For Numpy\")\n",
        "a1 = np.arange(8000)\n",
        "print(a1.size)\n",
        "print(a1.size*a1.itemsize)"
      ],
      "execution_count": null,
      "outputs": [
        {
          "output_type": "stream",
          "text": [
            "<class 'range'>\n",
            "For List\n",
            "28\n",
            "224000\n",
            "\n",
            "\n",
            "For Numpy\n",
            "8000\n",
            "64000\n"
          ],
          "name": "stdout"
        }
      ]
    },
    {
      "cell_type": "markdown",
      "metadata": {
        "id": "tbN8a4x0y_Pu"
      },
      "source": [
        "20. Write a program to show how Numpy taking less time compared to Python List?"
      ]
    },
    {
      "cell_type": "code",
      "metadata": {
        "id": "r5Epqqq3zv0X"
      },
      "source": [
        "import time\n",
        "import sys"
      ],
      "execution_count": null,
      "outputs": []
    },
    {
      "cell_type": "code",
      "metadata": {
        "colab": {
          "base_uri": "https://localhost:8080/"
        },
        "id": "-z_zWYNizw46",
        "outputId": "372a5f90-517b-41eb-f028-285e179783a1"
      },
      "source": [
        "size = 100000\n",
        "l1 = range(size)\n",
        "l2 = range(size)\n",
        "\n",
        "n1 = np.arange(size)\n",
        "n2 = np.arange(size)\n",
        "\n",
        "#list itemwise sum\n",
        "start = time.time()\n",
        "result = [ (x +y) for x,y in zip(l1,l2)]\n",
        "print((time.time() - start)*1000)\n",
        "\n",
        "#numpy array itemwise sum\n",
        "start = time.time()\n",
        "result = n1+n2\n",
        "print((time.time() - start)*1000)"
      ],
      "execution_count": null,
      "outputs": [
        {
          "output_type": "stream",
          "text": [
            "20.681381225585938\n",
            "2.5787353515625\n"
          ],
          "name": "stdout"
        }
      ]
    }
  ]
}