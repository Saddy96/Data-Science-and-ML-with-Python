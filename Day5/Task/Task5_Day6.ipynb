{
  "nbformat": 4,
  "nbformat_minor": 0,
  "metadata": {
    "colab": {
      "name": "Task5_Day6.ipynb",
      "provenance": [],
      "collapsed_sections": []
    },
    "kernelspec": {
      "name": "python3",
      "display_name": "Python 3"
    },
    "language_info": {
      "name": "python"
    }
  },
  "cells": [
    {
      "cell_type": "markdown",
      "metadata": {
        "id": "CfvGAVzpuUBK"
      },
      "source": [
        "***NAME: SADDAM HUSSAIN***\n",
        "\n",
        "***REG ID: GO_STP_6834***\n",
        "\n",
        "---\n",
        "\n"
      ]
    },
    {
      "cell_type": "markdown",
      "metadata": {
        "id": "UVqW38k81Vlq"
      },
      "source": [
        "1. Load the IMDb Dataset and read"
      ]
    },
    {
      "cell_type": "code",
      "metadata": {
        "id": "PKhv3aqQ0hv3"
      },
      "source": [
        "import numpy as np\n",
        "import pandas as pd"
      ],
      "execution_count": null,
      "outputs": []
    },
    {
      "cell_type": "code",
      "metadata": {
        "id": "_GlH9vT81U3o"
      },
      "source": [
        "df = pd.read_csv('/content/IMDB-Movie-Data.csv')"
      ],
      "execution_count": null,
      "outputs": []
    },
    {
      "cell_type": "markdown",
      "metadata": {
        "id": "gTmnfEDB1jGY"
      },
      "source": [
        "2. View the dataset"
      ]
    },
    {
      "cell_type": "code",
      "metadata": {
        "colab": {
          "base_uri": "https://localhost:8080/",
          "height": 742
        },
        "id": "LAPmY4mn1jf3",
        "outputId": "f57abfe5-ecf9-4af8-dd74-2d46167ab590"
      },
      "source": [
        "df"
      ],
      "execution_count": null,
      "outputs": [
        {
          "output_type": "execute_result",
          "data": {
            "text/html": [
              "<div>\n",
              "<style scoped>\n",
              "    .dataframe tbody tr th:only-of-type {\n",
              "        vertical-align: middle;\n",
              "    }\n",
              "\n",
              "    .dataframe tbody tr th {\n",
              "        vertical-align: top;\n",
              "    }\n",
              "\n",
              "    .dataframe thead th {\n",
              "        text-align: right;\n",
              "    }\n",
              "</style>\n",
              "<table border=\"1\" class=\"dataframe\">\n",
              "  <thead>\n",
              "    <tr style=\"text-align: right;\">\n",
              "      <th></th>\n",
              "      <th>Rank</th>\n",
              "      <th>Title</th>\n",
              "      <th>Genre</th>\n",
              "      <th>Description</th>\n",
              "      <th>Director</th>\n",
              "      <th>Actors</th>\n",
              "      <th>Year</th>\n",
              "      <th>Runtime (Minutes)</th>\n",
              "      <th>Rating</th>\n",
              "      <th>Votes</th>\n",
              "      <th>Revenue (Millions)</th>\n",
              "      <th>Metascore</th>\n",
              "    </tr>\n",
              "  </thead>\n",
              "  <tbody>\n",
              "    <tr>\n",
              "      <th>0</th>\n",
              "      <td>1</td>\n",
              "      <td>Guardians of the Galaxy</td>\n",
              "      <td>Action,Adventure,Sci-Fi</td>\n",
              "      <td>A group of intergalactic criminals are forced ...</td>\n",
              "      <td>James Gunn</td>\n",
              "      <td>Chris Pratt, Vin Diesel, Bradley Cooper, Zoe S...</td>\n",
              "      <td>2014</td>\n",
              "      <td>121</td>\n",
              "      <td>8.1</td>\n",
              "      <td>757074</td>\n",
              "      <td>333.13</td>\n",
              "      <td>76.0</td>\n",
              "    </tr>\n",
              "    <tr>\n",
              "      <th>1</th>\n",
              "      <td>2</td>\n",
              "      <td>Prometheus</td>\n",
              "      <td>Adventure,Mystery,Sci-Fi</td>\n",
              "      <td>Following clues to the origin of mankind, a te...</td>\n",
              "      <td>Ridley Scott</td>\n",
              "      <td>Noomi Rapace, Logan Marshall-Green, Michael Fa...</td>\n",
              "      <td>2012</td>\n",
              "      <td>124</td>\n",
              "      <td>7.0</td>\n",
              "      <td>485820</td>\n",
              "      <td>126.46</td>\n",
              "      <td>65.0</td>\n",
              "    </tr>\n",
              "    <tr>\n",
              "      <th>2</th>\n",
              "      <td>3</td>\n",
              "      <td>Split</td>\n",
              "      <td>Horror,Thriller</td>\n",
              "      <td>Three girls are kidnapped by a man with a diag...</td>\n",
              "      <td>M. Night Shyamalan</td>\n",
              "      <td>James McAvoy, Anya Taylor-Joy, Haley Lu Richar...</td>\n",
              "      <td>2016</td>\n",
              "      <td>117</td>\n",
              "      <td>7.3</td>\n",
              "      <td>157606</td>\n",
              "      <td>138.12</td>\n",
              "      <td>62.0</td>\n",
              "    </tr>\n",
              "    <tr>\n",
              "      <th>3</th>\n",
              "      <td>4</td>\n",
              "      <td>Sing</td>\n",
              "      <td>Animation,Comedy,Family</td>\n",
              "      <td>In a city of humanoid animals, a hustling thea...</td>\n",
              "      <td>Christophe Lourdelet</td>\n",
              "      <td>Matthew McConaughey,Reese Witherspoon, Seth Ma...</td>\n",
              "      <td>2016</td>\n",
              "      <td>108</td>\n",
              "      <td>7.2</td>\n",
              "      <td>60545</td>\n",
              "      <td>270.32</td>\n",
              "      <td>59.0</td>\n",
              "    </tr>\n",
              "    <tr>\n",
              "      <th>4</th>\n",
              "      <td>5</td>\n",
              "      <td>Suicide Squad</td>\n",
              "      <td>Action,Adventure,Fantasy</td>\n",
              "      <td>A secret government agency recruits some of th...</td>\n",
              "      <td>David Ayer</td>\n",
              "      <td>Will Smith, Jared Leto, Margot Robbie, Viola D...</td>\n",
              "      <td>2016</td>\n",
              "      <td>123</td>\n",
              "      <td>6.2</td>\n",
              "      <td>393727</td>\n",
              "      <td>325.02</td>\n",
              "      <td>40.0</td>\n",
              "    </tr>\n",
              "    <tr>\n",
              "      <th>...</th>\n",
              "      <td>...</td>\n",
              "      <td>...</td>\n",
              "      <td>...</td>\n",
              "      <td>...</td>\n",
              "      <td>...</td>\n",
              "      <td>...</td>\n",
              "      <td>...</td>\n",
              "      <td>...</td>\n",
              "      <td>...</td>\n",
              "      <td>...</td>\n",
              "      <td>...</td>\n",
              "      <td>...</td>\n",
              "    </tr>\n",
              "    <tr>\n",
              "      <th>995</th>\n",
              "      <td>996</td>\n",
              "      <td>Secret in Their Eyes</td>\n",
              "      <td>Crime,Drama,Mystery</td>\n",
              "      <td>A tight-knit team of rising investigators, alo...</td>\n",
              "      <td>Billy Ray</td>\n",
              "      <td>Chiwetel Ejiofor, Nicole Kidman, Julia Roberts...</td>\n",
              "      <td>2015</td>\n",
              "      <td>111</td>\n",
              "      <td>6.2</td>\n",
              "      <td>27585</td>\n",
              "      <td>NaN</td>\n",
              "      <td>45.0</td>\n",
              "    </tr>\n",
              "    <tr>\n",
              "      <th>996</th>\n",
              "      <td>997</td>\n",
              "      <td>Hostel: Part II</td>\n",
              "      <td>Horror</td>\n",
              "      <td>Three American college students studying abroa...</td>\n",
              "      <td>Eli Roth</td>\n",
              "      <td>Lauren German, Heather Matarazzo, Bijou Philli...</td>\n",
              "      <td>2007</td>\n",
              "      <td>94</td>\n",
              "      <td>5.5</td>\n",
              "      <td>73152</td>\n",
              "      <td>17.54</td>\n",
              "      <td>46.0</td>\n",
              "    </tr>\n",
              "    <tr>\n",
              "      <th>997</th>\n",
              "      <td>998</td>\n",
              "      <td>Step Up 2: The Streets</td>\n",
              "      <td>Drama,Music,Romance</td>\n",
              "      <td>Romantic sparks occur between two dance studen...</td>\n",
              "      <td>Jon M. Chu</td>\n",
              "      <td>Robert Hoffman, Briana Evigan, Cassie Ventura,...</td>\n",
              "      <td>2008</td>\n",
              "      <td>98</td>\n",
              "      <td>6.2</td>\n",
              "      <td>70699</td>\n",
              "      <td>58.01</td>\n",
              "      <td>50.0</td>\n",
              "    </tr>\n",
              "    <tr>\n",
              "      <th>998</th>\n",
              "      <td>999</td>\n",
              "      <td>Search Party</td>\n",
              "      <td>Adventure,Comedy</td>\n",
              "      <td>A pair of friends embark on a mission to reuni...</td>\n",
              "      <td>Scot Armstrong</td>\n",
              "      <td>Adam Pally, T.J. Miller, Thomas Middleditch,Sh...</td>\n",
              "      <td>2014</td>\n",
              "      <td>93</td>\n",
              "      <td>5.6</td>\n",
              "      <td>4881</td>\n",
              "      <td>NaN</td>\n",
              "      <td>22.0</td>\n",
              "    </tr>\n",
              "    <tr>\n",
              "      <th>999</th>\n",
              "      <td>1000</td>\n",
              "      <td>Nine Lives</td>\n",
              "      <td>Comedy,Family,Fantasy</td>\n",
              "      <td>A stuffy businessman finds himself trapped ins...</td>\n",
              "      <td>Barry Sonnenfeld</td>\n",
              "      <td>Kevin Spacey, Jennifer Garner, Robbie Amell,Ch...</td>\n",
              "      <td>2016</td>\n",
              "      <td>87</td>\n",
              "      <td>5.3</td>\n",
              "      <td>12435</td>\n",
              "      <td>19.64</td>\n",
              "      <td>11.0</td>\n",
              "    </tr>\n",
              "  </tbody>\n",
              "</table>\n",
              "<p>1000 rows × 12 columns</p>\n",
              "</div>"
            ],
            "text/plain": [
              "     Rank                    Title  ... Revenue (Millions) Metascore\n",
              "0       1  Guardians of the Galaxy  ...             333.13      76.0\n",
              "1       2               Prometheus  ...             126.46      65.0\n",
              "2       3                    Split  ...             138.12      62.0\n",
              "3       4                     Sing  ...             270.32      59.0\n",
              "4       5            Suicide Squad  ...             325.02      40.0\n",
              "..    ...                      ...  ...                ...       ...\n",
              "995   996     Secret in Their Eyes  ...                NaN      45.0\n",
              "996   997          Hostel: Part II  ...              17.54      46.0\n",
              "997   998   Step Up 2: The Streets  ...              58.01      50.0\n",
              "998   999             Search Party  ...                NaN      22.0\n",
              "999  1000               Nine Lives  ...              19.64      11.0\n",
              "\n",
              "[1000 rows x 12 columns]"
            ]
          },
          "metadata": {
            "tags": []
          },
          "execution_count": 3
        }
      ]
    },
    {
      "cell_type": "code",
      "metadata": {
        "colab": {
          "base_uri": "https://localhost:8080/",
          "height": 162
        },
        "id": "eogH72uQ15gY",
        "outputId": "18f91125-69bf-4232-b42c-3cac7d0ce737"
      },
      "source": [
        "#Top 2 datas\n",
        "df.head(2)"
      ],
      "execution_count": null,
      "outputs": [
        {
          "output_type": "execute_result",
          "data": {
            "text/html": [
              "<div>\n",
              "<style scoped>\n",
              "    .dataframe tbody tr th:only-of-type {\n",
              "        vertical-align: middle;\n",
              "    }\n",
              "\n",
              "    .dataframe tbody tr th {\n",
              "        vertical-align: top;\n",
              "    }\n",
              "\n",
              "    .dataframe thead th {\n",
              "        text-align: right;\n",
              "    }\n",
              "</style>\n",
              "<table border=\"1\" class=\"dataframe\">\n",
              "  <thead>\n",
              "    <tr style=\"text-align: right;\">\n",
              "      <th></th>\n",
              "      <th>Rank</th>\n",
              "      <th>Title</th>\n",
              "      <th>Genre</th>\n",
              "      <th>Description</th>\n",
              "      <th>Director</th>\n",
              "      <th>Actors</th>\n",
              "      <th>Year</th>\n",
              "      <th>Runtime (Minutes)</th>\n",
              "      <th>Rating</th>\n",
              "      <th>Votes</th>\n",
              "      <th>Revenue (Millions)</th>\n",
              "      <th>Metascore</th>\n",
              "    </tr>\n",
              "  </thead>\n",
              "  <tbody>\n",
              "    <tr>\n",
              "      <th>0</th>\n",
              "      <td>1</td>\n",
              "      <td>Guardians of the Galaxy</td>\n",
              "      <td>Action,Adventure,Sci-Fi</td>\n",
              "      <td>A group of intergalactic criminals are forced ...</td>\n",
              "      <td>James Gunn</td>\n",
              "      <td>Chris Pratt, Vin Diesel, Bradley Cooper, Zoe S...</td>\n",
              "      <td>2014</td>\n",
              "      <td>121</td>\n",
              "      <td>8.1</td>\n",
              "      <td>757074</td>\n",
              "      <td>333.13</td>\n",
              "      <td>76.0</td>\n",
              "    </tr>\n",
              "    <tr>\n",
              "      <th>1</th>\n",
              "      <td>2</td>\n",
              "      <td>Prometheus</td>\n",
              "      <td>Adventure,Mystery,Sci-Fi</td>\n",
              "      <td>Following clues to the origin of mankind, a te...</td>\n",
              "      <td>Ridley Scott</td>\n",
              "      <td>Noomi Rapace, Logan Marshall-Green, Michael Fa...</td>\n",
              "      <td>2012</td>\n",
              "      <td>124</td>\n",
              "      <td>7.0</td>\n",
              "      <td>485820</td>\n",
              "      <td>126.46</td>\n",
              "      <td>65.0</td>\n",
              "    </tr>\n",
              "  </tbody>\n",
              "</table>\n",
              "</div>"
            ],
            "text/plain": [
              "   Rank                    Title  ... Revenue (Millions) Metascore\n",
              "0     1  Guardians of the Galaxy  ...             333.13      76.0\n",
              "1     2               Prometheus  ...             126.46      65.0\n",
              "\n",
              "[2 rows x 12 columns]"
            ]
          },
          "metadata": {
            "tags": []
          },
          "execution_count": 4
        }
      ]
    },
    {
      "cell_type": "code",
      "metadata": {
        "colab": {
          "base_uri": "https://localhost:8080/",
          "height": 162
        },
        "id": "3JCuHMzm2fMX",
        "outputId": "20696f22-d376-4b44-a642-9b4c468d1cfe"
      },
      "source": [
        "#Bottom 2 datas\n",
        "df.tail(2)"
      ],
      "execution_count": null,
      "outputs": [
        {
          "output_type": "execute_result",
          "data": {
            "text/html": [
              "<div>\n",
              "<style scoped>\n",
              "    .dataframe tbody tr th:only-of-type {\n",
              "        vertical-align: middle;\n",
              "    }\n",
              "\n",
              "    .dataframe tbody tr th {\n",
              "        vertical-align: top;\n",
              "    }\n",
              "\n",
              "    .dataframe thead th {\n",
              "        text-align: right;\n",
              "    }\n",
              "</style>\n",
              "<table border=\"1\" class=\"dataframe\">\n",
              "  <thead>\n",
              "    <tr style=\"text-align: right;\">\n",
              "      <th></th>\n",
              "      <th>Rank</th>\n",
              "      <th>Title</th>\n",
              "      <th>Genre</th>\n",
              "      <th>Description</th>\n",
              "      <th>Director</th>\n",
              "      <th>Actors</th>\n",
              "      <th>Year</th>\n",
              "      <th>Runtime (Minutes)</th>\n",
              "      <th>Rating</th>\n",
              "      <th>Votes</th>\n",
              "      <th>Revenue (Millions)</th>\n",
              "      <th>Metascore</th>\n",
              "    </tr>\n",
              "  </thead>\n",
              "  <tbody>\n",
              "    <tr>\n",
              "      <th>998</th>\n",
              "      <td>999</td>\n",
              "      <td>Search Party</td>\n",
              "      <td>Adventure,Comedy</td>\n",
              "      <td>A pair of friends embark on a mission to reuni...</td>\n",
              "      <td>Scot Armstrong</td>\n",
              "      <td>Adam Pally, T.J. Miller, Thomas Middleditch,Sh...</td>\n",
              "      <td>2014</td>\n",
              "      <td>93</td>\n",
              "      <td>5.6</td>\n",
              "      <td>4881</td>\n",
              "      <td>NaN</td>\n",
              "      <td>22.0</td>\n",
              "    </tr>\n",
              "    <tr>\n",
              "      <th>999</th>\n",
              "      <td>1000</td>\n",
              "      <td>Nine Lives</td>\n",
              "      <td>Comedy,Family,Fantasy</td>\n",
              "      <td>A stuffy businessman finds himself trapped ins...</td>\n",
              "      <td>Barry Sonnenfeld</td>\n",
              "      <td>Kevin Spacey, Jennifer Garner, Robbie Amell,Ch...</td>\n",
              "      <td>2016</td>\n",
              "      <td>87</td>\n",
              "      <td>5.3</td>\n",
              "      <td>12435</td>\n",
              "      <td>19.64</td>\n",
              "      <td>11.0</td>\n",
              "    </tr>\n",
              "  </tbody>\n",
              "</table>\n",
              "</div>"
            ],
            "text/plain": [
              "     Rank         Title  ... Revenue (Millions) Metascore\n",
              "998   999  Search Party  ...                NaN      22.0\n",
              "999  1000    Nine Lives  ...              19.64      11.0\n",
              "\n",
              "[2 rows x 12 columns]"
            ]
          },
          "metadata": {
            "tags": []
          },
          "execution_count": 5
        }
      ]
    },
    {
      "cell_type": "markdown",
      "metadata": {
        "id": "T1bEJgzf2RAw"
      },
      "source": [
        "3. Understand some basic information about the dataset and Inspect the dataframe Inspect the dataframe's columns, shapes, variable types etc."
      ]
    },
    {
      "cell_type": "code",
      "metadata": {
        "colab": {
          "base_uri": "https://localhost:8080/"
        },
        "id": "67hgC5eb2kk5",
        "outputId": "e33fd315-270c-4038-d108-dfc18d572a2c"
      },
      "source": [
        "df.ndim"
      ],
      "execution_count": null,
      "outputs": [
        {
          "output_type": "execute_result",
          "data": {
            "text/plain": [
              "2"
            ]
          },
          "metadata": {
            "tags": []
          },
          "execution_count": 6
        }
      ]
    },
    {
      "cell_type": "code",
      "metadata": {
        "colab": {
          "base_uri": "https://localhost:8080/"
        },
        "id": "bywOMxmJ2pTy",
        "outputId": "42da5b41-a2d6-482a-f442-e1104af35fb8"
      },
      "source": [
        "#No of rows and columns\n",
        "df.shape"
      ],
      "execution_count": null,
      "outputs": [
        {
          "output_type": "execute_result",
          "data": {
            "text/plain": [
              "(1000, 12)"
            ]
          },
          "metadata": {
            "tags": []
          },
          "execution_count": 7
        }
      ]
    },
    {
      "cell_type": "code",
      "metadata": {
        "colab": {
          "base_uri": "https://localhost:8080/"
        },
        "id": "PS3bgn4r2uRn",
        "outputId": "05101af7-6cc1-43f2-dd33-c1bc3648782a"
      },
      "source": [
        "# Total no of data elements\n",
        "df.size"
      ],
      "execution_count": null,
      "outputs": [
        {
          "output_type": "execute_result",
          "data": {
            "text/plain": [
              "12000"
            ]
          },
          "metadata": {
            "tags": []
          },
          "execution_count": 8
        }
      ]
    },
    {
      "cell_type": "code",
      "metadata": {
        "colab": {
          "base_uri": "https://localhost:8080/"
        },
        "id": "letEPR6q20Fc",
        "outputId": "31249098-4d49-4617-d2e0-18315375e23f"
      },
      "source": [
        "# Get all the columns\n",
        "df.columns"
      ],
      "execution_count": null,
      "outputs": [
        {
          "output_type": "execute_result",
          "data": {
            "text/plain": [
              "Index(['Rank', 'Title', 'Genre', 'Description', 'Director', 'Actors', 'Year',\n",
              "       'Runtime (Minutes)', 'Rating', 'Votes', 'Revenue (Millions)',\n",
              "       'Metascore'],\n",
              "      dtype='object')"
            ]
          },
          "metadata": {
            "tags": []
          },
          "execution_count": 9
        }
      ]
    },
    {
      "cell_type": "code",
      "metadata": {
        "colab": {
          "base_uri": "https://localhost:8080/"
        },
        "id": "xPwES0rU283y",
        "outputId": "18fcc072-4d41-4e7a-df58-f59054a722dd"
      },
      "source": [
        "#rows index and column names\n",
        "df.axes"
      ],
      "execution_count": null,
      "outputs": [
        {
          "output_type": "execute_result",
          "data": {
            "text/plain": [
              "[RangeIndex(start=0, stop=1000, step=1),\n",
              " Index(['Rank', 'Title', 'Genre', 'Description', 'Director', 'Actors', 'Year',\n",
              "        'Runtime (Minutes)', 'Rating', 'Votes', 'Revenue (Millions)',\n",
              "        'Metascore'],\n",
              "       dtype='object')]"
            ]
          },
          "metadata": {
            "tags": []
          },
          "execution_count": 10
        }
      ]
    },
    {
      "cell_type": "code",
      "metadata": {
        "colab": {
          "base_uri": "https://localhost:8080/"
        },
        "id": "X5H27xL33TAy",
        "outputId": "f0c9972e-9c00-4a7d-9f1e-46534688d797"
      },
      "source": [
        "type(df)"
      ],
      "execution_count": null,
      "outputs": [
        {
          "output_type": "execute_result",
          "data": {
            "text/plain": [
              "pandas.core.frame.DataFrame"
            ]
          },
          "metadata": {
            "tags": []
          },
          "execution_count": 11
        }
      ]
    },
    {
      "cell_type": "code",
      "metadata": {
        "colab": {
          "base_uri": "https://localhost:8080/"
        },
        "id": "jQn04r8x3du_",
        "outputId": "c13400d1-1dec-4be8-a4dc-363f9f166428"
      },
      "source": [
        "df.dtypes"
      ],
      "execution_count": null,
      "outputs": [
        {
          "output_type": "execute_result",
          "data": {
            "text/plain": [
              "Rank                    int64\n",
              "Title                  object\n",
              "Genre                  object\n",
              "Description            object\n",
              "Director               object\n",
              "Actors                 object\n",
              "Year                    int64\n",
              "Runtime (Minutes)       int64\n",
              "Rating                float64\n",
              "Votes                   int64\n",
              "Revenue (Millions)    float64\n",
              "Metascore             float64\n",
              "dtype: object"
            ]
          },
          "metadata": {
            "tags": []
          },
          "execution_count": 12
        }
      ]
    },
    {
      "cell_type": "code",
      "metadata": {
        "colab": {
          "base_uri": "https://localhost:8080/"
        },
        "id": "aqKCn6Dn6ME5",
        "outputId": "fd4b41df-ca93-4b01-b260-e2cf557ce4c9"
      },
      "source": [
        "df.info()"
      ],
      "execution_count": null,
      "outputs": [
        {
          "output_type": "stream",
          "text": [
            "<class 'pandas.core.frame.DataFrame'>\n",
            "RangeIndex: 1000 entries, 0 to 999\n",
            "Data columns (total 12 columns):\n",
            " #   Column              Non-Null Count  Dtype  \n",
            "---  ------              --------------  -----  \n",
            " 0   Rank                1000 non-null   int64  \n",
            " 1   Title               1000 non-null   object \n",
            " 2   Genre               1000 non-null   object \n",
            " 3   Description         1000 non-null   object \n",
            " 4   Director            1000 non-null   object \n",
            " 5   Actors              1000 non-null   object \n",
            " 6   Year                1000 non-null   int64  \n",
            " 7   Runtime (Minutes)   1000 non-null   int64  \n",
            " 8   Rating              1000 non-null   float64\n",
            " 9   Votes               1000 non-null   int64  \n",
            " 10  Revenue (Millions)  872 non-null    float64\n",
            " 11  Metascore           936 non-null    float64\n",
            "dtypes: float64(3), int64(4), object(5)\n",
            "memory usage: 93.9+ KB\n"
          ],
          "name": "stdout"
        }
      ]
    },
    {
      "cell_type": "code",
      "metadata": {
        "colab": {
          "base_uri": "https://localhost:8080/",
          "height": 297
        },
        "id": "z4ngY7di7Wty",
        "outputId": "4284d738-ac28-4578-e392-ac7c37c1b31b"
      },
      "source": [
        "df.describe()"
      ],
      "execution_count": null,
      "outputs": [
        {
          "output_type": "execute_result",
          "data": {
            "text/html": [
              "<div>\n",
              "<style scoped>\n",
              "    .dataframe tbody tr th:only-of-type {\n",
              "        vertical-align: middle;\n",
              "    }\n",
              "\n",
              "    .dataframe tbody tr th {\n",
              "        vertical-align: top;\n",
              "    }\n",
              "\n",
              "    .dataframe thead th {\n",
              "        text-align: right;\n",
              "    }\n",
              "</style>\n",
              "<table border=\"1\" class=\"dataframe\">\n",
              "  <thead>\n",
              "    <tr style=\"text-align: right;\">\n",
              "      <th></th>\n",
              "      <th>Rank</th>\n",
              "      <th>Year</th>\n",
              "      <th>Runtime (Minutes)</th>\n",
              "      <th>Rating</th>\n",
              "      <th>Votes</th>\n",
              "      <th>Revenue (Millions)</th>\n",
              "      <th>Metascore</th>\n",
              "    </tr>\n",
              "  </thead>\n",
              "  <tbody>\n",
              "    <tr>\n",
              "      <th>count</th>\n",
              "      <td>1000.000000</td>\n",
              "      <td>1000.000000</td>\n",
              "      <td>1000.000000</td>\n",
              "      <td>1000.000000</td>\n",
              "      <td>1.000000e+03</td>\n",
              "      <td>872.000000</td>\n",
              "      <td>936.000000</td>\n",
              "    </tr>\n",
              "    <tr>\n",
              "      <th>mean</th>\n",
              "      <td>500.500000</td>\n",
              "      <td>2012.783000</td>\n",
              "      <td>113.172000</td>\n",
              "      <td>6.723200</td>\n",
              "      <td>1.698083e+05</td>\n",
              "      <td>82.956376</td>\n",
              "      <td>58.985043</td>\n",
              "    </tr>\n",
              "    <tr>\n",
              "      <th>std</th>\n",
              "      <td>288.819436</td>\n",
              "      <td>3.205962</td>\n",
              "      <td>18.810908</td>\n",
              "      <td>0.945429</td>\n",
              "      <td>1.887626e+05</td>\n",
              "      <td>103.253540</td>\n",
              "      <td>17.194757</td>\n",
              "    </tr>\n",
              "    <tr>\n",
              "      <th>min</th>\n",
              "      <td>1.000000</td>\n",
              "      <td>2006.000000</td>\n",
              "      <td>66.000000</td>\n",
              "      <td>1.900000</td>\n",
              "      <td>6.100000e+01</td>\n",
              "      <td>0.000000</td>\n",
              "      <td>11.000000</td>\n",
              "    </tr>\n",
              "    <tr>\n",
              "      <th>25%</th>\n",
              "      <td>250.750000</td>\n",
              "      <td>2010.000000</td>\n",
              "      <td>100.000000</td>\n",
              "      <td>6.200000</td>\n",
              "      <td>3.630900e+04</td>\n",
              "      <td>13.270000</td>\n",
              "      <td>47.000000</td>\n",
              "    </tr>\n",
              "    <tr>\n",
              "      <th>50%</th>\n",
              "      <td>500.500000</td>\n",
              "      <td>2014.000000</td>\n",
              "      <td>111.000000</td>\n",
              "      <td>6.800000</td>\n",
              "      <td>1.107990e+05</td>\n",
              "      <td>47.985000</td>\n",
              "      <td>59.500000</td>\n",
              "    </tr>\n",
              "    <tr>\n",
              "      <th>75%</th>\n",
              "      <td>750.250000</td>\n",
              "      <td>2016.000000</td>\n",
              "      <td>123.000000</td>\n",
              "      <td>7.400000</td>\n",
              "      <td>2.399098e+05</td>\n",
              "      <td>113.715000</td>\n",
              "      <td>72.000000</td>\n",
              "    </tr>\n",
              "    <tr>\n",
              "      <th>max</th>\n",
              "      <td>1000.000000</td>\n",
              "      <td>2016.000000</td>\n",
              "      <td>191.000000</td>\n",
              "      <td>9.000000</td>\n",
              "      <td>1.791916e+06</td>\n",
              "      <td>936.630000</td>\n",
              "      <td>100.000000</td>\n",
              "    </tr>\n",
              "  </tbody>\n",
              "</table>\n",
              "</div>"
            ],
            "text/plain": [
              "              Rank         Year  ...  Revenue (Millions)   Metascore\n",
              "count  1000.000000  1000.000000  ...          872.000000  936.000000\n",
              "mean    500.500000  2012.783000  ...           82.956376   58.985043\n",
              "std     288.819436     3.205962  ...          103.253540   17.194757\n",
              "min       1.000000  2006.000000  ...            0.000000   11.000000\n",
              "25%     250.750000  2010.000000  ...           13.270000   47.000000\n",
              "50%     500.500000  2014.000000  ...           47.985000   59.500000\n",
              "75%     750.250000  2016.000000  ...          113.715000   72.000000\n",
              "max    1000.000000  2016.000000  ...          936.630000  100.000000\n",
              "\n",
              "[8 rows x 7 columns]"
            ]
          },
          "metadata": {
            "tags": []
          },
          "execution_count": 14
        }
      ]
    },
    {
      "cell_type": "markdown",
      "metadata": {
        "id": "Y6XHf8Vi3gQZ"
      },
      "source": [
        "4. Data Selection – Indexing and Slicing data"
      ]
    },
    {
      "cell_type": "code",
      "metadata": {
        "id": "rloVQlDT3jFU",
        "colab": {
          "base_uri": "https://localhost:8080/"
        },
        "outputId": "b2536db3-72b0-48bf-97c5-a829d6a957f7"
      },
      "source": [
        "# Rank (1st Column) Columns\n",
        "df['Rank']"
      ],
      "execution_count": null,
      "outputs": [
        {
          "output_type": "execute_result",
          "data": {
            "text/plain": [
              "0         1\n",
              "1         2\n",
              "2         3\n",
              "3         4\n",
              "4         5\n",
              "       ... \n",
              "995     996\n",
              "996     997\n",
              "997     998\n",
              "998     999\n",
              "999    1000\n",
              "Name: Rank, Length: 1000, dtype: int64"
            ]
          },
          "metadata": {
            "tags": []
          },
          "execution_count": 15
        }
      ]
    },
    {
      "cell_type": "code",
      "metadata": {
        "colab": {
          "base_uri": "https://localhost:8080/",
          "height": 419
        },
        "id": "Gx-68ctDswjH",
        "outputId": "26b9e0ff-8691-4bf3-cd4c-0ef58da56d6b"
      },
      "source": [
        "# Rank,Title, Genre and Year Columns- Returns more than one columns\n",
        "df[['Rank','Title','Genre','Year']]"
      ],
      "execution_count": null,
      "outputs": [
        {
          "output_type": "execute_result",
          "data": {
            "text/html": [
              "<div>\n",
              "<style scoped>\n",
              "    .dataframe tbody tr th:only-of-type {\n",
              "        vertical-align: middle;\n",
              "    }\n",
              "\n",
              "    .dataframe tbody tr th {\n",
              "        vertical-align: top;\n",
              "    }\n",
              "\n",
              "    .dataframe thead th {\n",
              "        text-align: right;\n",
              "    }\n",
              "</style>\n",
              "<table border=\"1\" class=\"dataframe\">\n",
              "  <thead>\n",
              "    <tr style=\"text-align: right;\">\n",
              "      <th></th>\n",
              "      <th>Rank</th>\n",
              "      <th>Title</th>\n",
              "      <th>Genre</th>\n",
              "      <th>Year</th>\n",
              "    </tr>\n",
              "  </thead>\n",
              "  <tbody>\n",
              "    <tr>\n",
              "      <th>0</th>\n",
              "      <td>1</td>\n",
              "      <td>Guardians of the Galaxy</td>\n",
              "      <td>Action,Adventure,Sci-Fi</td>\n",
              "      <td>2014</td>\n",
              "    </tr>\n",
              "    <tr>\n",
              "      <th>1</th>\n",
              "      <td>2</td>\n",
              "      <td>Prometheus</td>\n",
              "      <td>Adventure,Mystery,Sci-Fi</td>\n",
              "      <td>2012</td>\n",
              "    </tr>\n",
              "    <tr>\n",
              "      <th>2</th>\n",
              "      <td>3</td>\n",
              "      <td>Split</td>\n",
              "      <td>Horror,Thriller</td>\n",
              "      <td>2016</td>\n",
              "    </tr>\n",
              "    <tr>\n",
              "      <th>3</th>\n",
              "      <td>4</td>\n",
              "      <td>Sing</td>\n",
              "      <td>Animation,Comedy,Family</td>\n",
              "      <td>2016</td>\n",
              "    </tr>\n",
              "    <tr>\n",
              "      <th>4</th>\n",
              "      <td>5</td>\n",
              "      <td>Suicide Squad</td>\n",
              "      <td>Action,Adventure,Fantasy</td>\n",
              "      <td>2016</td>\n",
              "    </tr>\n",
              "    <tr>\n",
              "      <th>...</th>\n",
              "      <td>...</td>\n",
              "      <td>...</td>\n",
              "      <td>...</td>\n",
              "      <td>...</td>\n",
              "    </tr>\n",
              "    <tr>\n",
              "      <th>995</th>\n",
              "      <td>996</td>\n",
              "      <td>Secret in Their Eyes</td>\n",
              "      <td>Crime,Drama,Mystery</td>\n",
              "      <td>2015</td>\n",
              "    </tr>\n",
              "    <tr>\n",
              "      <th>996</th>\n",
              "      <td>997</td>\n",
              "      <td>Hostel: Part II</td>\n",
              "      <td>Horror</td>\n",
              "      <td>2007</td>\n",
              "    </tr>\n",
              "    <tr>\n",
              "      <th>997</th>\n",
              "      <td>998</td>\n",
              "      <td>Step Up 2: The Streets</td>\n",
              "      <td>Drama,Music,Romance</td>\n",
              "      <td>2008</td>\n",
              "    </tr>\n",
              "    <tr>\n",
              "      <th>998</th>\n",
              "      <td>999</td>\n",
              "      <td>Search Party</td>\n",
              "      <td>Adventure,Comedy</td>\n",
              "      <td>2014</td>\n",
              "    </tr>\n",
              "    <tr>\n",
              "      <th>999</th>\n",
              "      <td>1000</td>\n",
              "      <td>Nine Lives</td>\n",
              "      <td>Comedy,Family,Fantasy</td>\n",
              "      <td>2016</td>\n",
              "    </tr>\n",
              "  </tbody>\n",
              "</table>\n",
              "<p>1000 rows × 4 columns</p>\n",
              "</div>"
            ],
            "text/plain": [
              "     Rank                    Title                     Genre  Year\n",
              "0       1  Guardians of the Galaxy   Action,Adventure,Sci-Fi  2014\n",
              "1       2               Prometheus  Adventure,Mystery,Sci-Fi  2012\n",
              "2       3                    Split           Horror,Thriller  2016\n",
              "3       4                     Sing   Animation,Comedy,Family  2016\n",
              "4       5            Suicide Squad  Action,Adventure,Fantasy  2016\n",
              "..    ...                      ...                       ...   ...\n",
              "995   996     Secret in Their Eyes       Crime,Drama,Mystery  2015\n",
              "996   997          Hostel: Part II                    Horror  2007\n",
              "997   998   Step Up 2: The Streets       Drama,Music,Romance  2008\n",
              "998   999             Search Party          Adventure,Comedy  2014\n",
              "999  1000               Nine Lives     Comedy,Family,Fantasy  2016\n",
              "\n",
              "[1000 rows x 4 columns]"
            ]
          },
          "metadata": {
            "tags": []
          },
          "execution_count": 16
        }
      ]
    },
    {
      "cell_type": "code",
      "metadata": {
        "colab": {
          "base_uri": "https://localhost:8080/",
          "height": 111
        },
        "id": "LHTfIy3o9P-e",
        "outputId": "78289cfd-bb25-4a24-a893-24e213ec793f"
      },
      "source": [
        "df[10:12][['Rank','Title','Genre','Year']]"
      ],
      "execution_count": null,
      "outputs": [
        {
          "output_type": "execute_result",
          "data": {
            "text/html": [
              "<div>\n",
              "<style scoped>\n",
              "    .dataframe tbody tr th:only-of-type {\n",
              "        vertical-align: middle;\n",
              "    }\n",
              "\n",
              "    .dataframe tbody tr th {\n",
              "        vertical-align: top;\n",
              "    }\n",
              "\n",
              "    .dataframe thead th {\n",
              "        text-align: right;\n",
              "    }\n",
              "</style>\n",
              "<table border=\"1\" class=\"dataframe\">\n",
              "  <thead>\n",
              "    <tr style=\"text-align: right;\">\n",
              "      <th></th>\n",
              "      <th>Rank</th>\n",
              "      <th>Title</th>\n",
              "      <th>Genre</th>\n",
              "      <th>Year</th>\n",
              "    </tr>\n",
              "  </thead>\n",
              "  <tbody>\n",
              "    <tr>\n",
              "      <th>10</th>\n",
              "      <td>11</td>\n",
              "      <td>Fantastic Beasts and Where to Find Them</td>\n",
              "      <td>Adventure,Family,Fantasy</td>\n",
              "      <td>2016</td>\n",
              "    </tr>\n",
              "    <tr>\n",
              "      <th>11</th>\n",
              "      <td>12</td>\n",
              "      <td>Hidden Figures</td>\n",
              "      <td>Biography,Drama,History</td>\n",
              "      <td>2016</td>\n",
              "    </tr>\n",
              "  </tbody>\n",
              "</table>\n",
              "</div>"
            ],
            "text/plain": [
              "    Rank  ...  Year\n",
              "10    11  ...  2016\n",
              "11    12  ...  2016\n",
              "\n",
              "[2 rows x 4 columns]"
            ]
          },
          "metadata": {
            "tags": []
          },
          "execution_count": 17
        }
      ]
    },
    {
      "cell_type": "code",
      "metadata": {
        "colab": {
          "base_uri": "https://localhost:8080/",
          "height": 196
        },
        "id": "eZOtYAess-eo",
        "outputId": "831b78c4-cc4d-4807-eb9d-b96443d8f50d"
      },
      "source": [
        "# Get data from row 20 to 24\n",
        "df[10:12]"
      ],
      "execution_count": null,
      "outputs": [
        {
          "output_type": "execute_result",
          "data": {
            "text/html": [
              "<div>\n",
              "<style scoped>\n",
              "    .dataframe tbody tr th:only-of-type {\n",
              "        vertical-align: middle;\n",
              "    }\n",
              "\n",
              "    .dataframe tbody tr th {\n",
              "        vertical-align: top;\n",
              "    }\n",
              "\n",
              "    .dataframe thead th {\n",
              "        text-align: right;\n",
              "    }\n",
              "</style>\n",
              "<table border=\"1\" class=\"dataframe\">\n",
              "  <thead>\n",
              "    <tr style=\"text-align: right;\">\n",
              "      <th></th>\n",
              "      <th>Rank</th>\n",
              "      <th>Title</th>\n",
              "      <th>Genre</th>\n",
              "      <th>Description</th>\n",
              "      <th>Director</th>\n",
              "      <th>Actors</th>\n",
              "      <th>Year</th>\n",
              "      <th>Runtime (Minutes)</th>\n",
              "      <th>Rating</th>\n",
              "      <th>Votes</th>\n",
              "      <th>Revenue (Millions)</th>\n",
              "      <th>Metascore</th>\n",
              "    </tr>\n",
              "  </thead>\n",
              "  <tbody>\n",
              "    <tr>\n",
              "      <th>10</th>\n",
              "      <td>11</td>\n",
              "      <td>Fantastic Beasts and Where to Find Them</td>\n",
              "      <td>Adventure,Family,Fantasy</td>\n",
              "      <td>The adventures of writer Newt Scamander in New...</td>\n",
              "      <td>David Yates</td>\n",
              "      <td>Eddie Redmayne, Katherine Waterston, Alison Su...</td>\n",
              "      <td>2016</td>\n",
              "      <td>133</td>\n",
              "      <td>7.5</td>\n",
              "      <td>232072</td>\n",
              "      <td>234.02</td>\n",
              "      <td>66.0</td>\n",
              "    </tr>\n",
              "    <tr>\n",
              "      <th>11</th>\n",
              "      <td>12</td>\n",
              "      <td>Hidden Figures</td>\n",
              "      <td>Biography,Drama,History</td>\n",
              "      <td>The story of a team of female African-American...</td>\n",
              "      <td>Theodore Melfi</td>\n",
              "      <td>Taraji P. Henson, Octavia Spencer, Janelle Mon...</td>\n",
              "      <td>2016</td>\n",
              "      <td>127</td>\n",
              "      <td>7.8</td>\n",
              "      <td>93103</td>\n",
              "      <td>169.27</td>\n",
              "      <td>74.0</td>\n",
              "    </tr>\n",
              "  </tbody>\n",
              "</table>\n",
              "</div>"
            ],
            "text/plain": [
              "    Rank  ... Metascore\n",
              "10    11  ...      66.0\n",
              "11    12  ...      74.0\n",
              "\n",
              "[2 rows x 12 columns]"
            ]
          },
          "metadata": {
            "tags": []
          },
          "execution_count": 18
        }
      ]
    },
    {
      "cell_type": "code",
      "metadata": {
        "colab": {
          "base_uri": "https://localhost:8080/"
        },
        "id": "Uh-af8JvtON-",
        "outputId": "7bd903bc-3c5f-4c82-fb00-9564d10ca000"
      },
      "source": [
        "#1st Row\n",
        "df.iloc[0]"
      ],
      "execution_count": null,
      "outputs": [
        {
          "output_type": "execute_result",
          "data": {
            "text/plain": [
              "Rank                                                                  1\n",
              "Title                                           Guardians of the Galaxy\n",
              "Genre                                           Action,Adventure,Sci-Fi\n",
              "Description           A group of intergalactic criminals are forced ...\n",
              "Director                                                     James Gunn\n",
              "Actors                Chris Pratt, Vin Diesel, Bradley Cooper, Zoe S...\n",
              "Year                                                               2014\n",
              "Runtime (Minutes)                                                   121\n",
              "Rating                                                              8.1\n",
              "Votes                                                            757074\n",
              "Revenue (Millions)                                               333.13\n",
              "Metascore                                                            76\n",
              "Name: 0, dtype: object"
            ]
          },
          "metadata": {
            "tags": []
          },
          "execution_count": 19
        }
      ]
    },
    {
      "cell_type": "code",
      "metadata": {
        "colab": {
          "base_uri": "https://localhost:8080/",
          "height": 196
        },
        "id": "stc2afNHtkFj",
        "outputId": "7e2cf4d2-e53b-425c-a7be-cf5d68b0615e"
      },
      "source": [
        "#  Two rows for all columns\n",
        "df.iloc[10:12]"
      ],
      "execution_count": null,
      "outputs": [
        {
          "output_type": "execute_result",
          "data": {
            "text/html": [
              "<div>\n",
              "<style scoped>\n",
              "    .dataframe tbody tr th:only-of-type {\n",
              "        vertical-align: middle;\n",
              "    }\n",
              "\n",
              "    .dataframe tbody tr th {\n",
              "        vertical-align: top;\n",
              "    }\n",
              "\n",
              "    .dataframe thead th {\n",
              "        text-align: right;\n",
              "    }\n",
              "</style>\n",
              "<table border=\"1\" class=\"dataframe\">\n",
              "  <thead>\n",
              "    <tr style=\"text-align: right;\">\n",
              "      <th></th>\n",
              "      <th>Rank</th>\n",
              "      <th>Title</th>\n",
              "      <th>Genre</th>\n",
              "      <th>Description</th>\n",
              "      <th>Director</th>\n",
              "      <th>Actors</th>\n",
              "      <th>Year</th>\n",
              "      <th>Runtime (Minutes)</th>\n",
              "      <th>Rating</th>\n",
              "      <th>Votes</th>\n",
              "      <th>Revenue (Millions)</th>\n",
              "      <th>Metascore</th>\n",
              "    </tr>\n",
              "  </thead>\n",
              "  <tbody>\n",
              "    <tr>\n",
              "      <th>10</th>\n",
              "      <td>11</td>\n",
              "      <td>Fantastic Beasts and Where to Find Them</td>\n",
              "      <td>Adventure,Family,Fantasy</td>\n",
              "      <td>The adventures of writer Newt Scamander in New...</td>\n",
              "      <td>David Yates</td>\n",
              "      <td>Eddie Redmayne, Katherine Waterston, Alison Su...</td>\n",
              "      <td>2016</td>\n",
              "      <td>133</td>\n",
              "      <td>7.5</td>\n",
              "      <td>232072</td>\n",
              "      <td>234.02</td>\n",
              "      <td>66.0</td>\n",
              "    </tr>\n",
              "    <tr>\n",
              "      <th>11</th>\n",
              "      <td>12</td>\n",
              "      <td>Hidden Figures</td>\n",
              "      <td>Biography,Drama,History</td>\n",
              "      <td>The story of a team of female African-American...</td>\n",
              "      <td>Theodore Melfi</td>\n",
              "      <td>Taraji P. Henson, Octavia Spencer, Janelle Mon...</td>\n",
              "      <td>2016</td>\n",
              "      <td>127</td>\n",
              "      <td>7.8</td>\n",
              "      <td>93103</td>\n",
              "      <td>169.27</td>\n",
              "      <td>74.0</td>\n",
              "    </tr>\n",
              "  </tbody>\n",
              "</table>\n",
              "</div>"
            ],
            "text/plain": [
              "    Rank  ... Metascore\n",
              "10    11  ...      66.0\n",
              "11    12  ...      74.0\n",
              "\n",
              "[2 rows x 12 columns]"
            ]
          },
          "metadata": {
            "tags": []
          },
          "execution_count": 20
        }
      ]
    },
    {
      "cell_type": "code",
      "metadata": {
        "colab": {
          "base_uri": "https://localhost:8080/",
          "height": 173
        },
        "id": "ZCclw05vttxs",
        "outputId": "86e01b17-d1f0-4622-e6ce-4eff028c03cf"
      },
      "source": [
        "# Get only 0, 4, 7th columns for 10 to 13 data points\n",
        "df.iloc[10:14,[0,4,7]]"
      ],
      "execution_count": null,
      "outputs": [
        {
          "output_type": "execute_result",
          "data": {
            "text/html": [
              "<div>\n",
              "<style scoped>\n",
              "    .dataframe tbody tr th:only-of-type {\n",
              "        vertical-align: middle;\n",
              "    }\n",
              "\n",
              "    .dataframe tbody tr th {\n",
              "        vertical-align: top;\n",
              "    }\n",
              "\n",
              "    .dataframe thead th {\n",
              "        text-align: right;\n",
              "    }\n",
              "</style>\n",
              "<table border=\"1\" class=\"dataframe\">\n",
              "  <thead>\n",
              "    <tr style=\"text-align: right;\">\n",
              "      <th></th>\n",
              "      <th>Rank</th>\n",
              "      <th>Director</th>\n",
              "      <th>Runtime (Minutes)</th>\n",
              "    </tr>\n",
              "  </thead>\n",
              "  <tbody>\n",
              "    <tr>\n",
              "      <th>10</th>\n",
              "      <td>11</td>\n",
              "      <td>David Yates</td>\n",
              "      <td>133</td>\n",
              "    </tr>\n",
              "    <tr>\n",
              "      <th>11</th>\n",
              "      <td>12</td>\n",
              "      <td>Theodore Melfi</td>\n",
              "      <td>127</td>\n",
              "    </tr>\n",
              "    <tr>\n",
              "      <th>12</th>\n",
              "      <td>13</td>\n",
              "      <td>Gareth Edwards</td>\n",
              "      <td>133</td>\n",
              "    </tr>\n",
              "    <tr>\n",
              "      <th>13</th>\n",
              "      <td>14</td>\n",
              "      <td>Ron Clements</td>\n",
              "      <td>107</td>\n",
              "    </tr>\n",
              "  </tbody>\n",
              "</table>\n",
              "</div>"
            ],
            "text/plain": [
              "    Rank        Director  Runtime (Minutes)\n",
              "10    11     David Yates                133\n",
              "11    12  Theodore Melfi                127\n",
              "12    13  Gareth Edwards                133\n",
              "13    14    Ron Clements                107"
            ]
          },
          "metadata": {
            "tags": []
          },
          "execution_count": 21
        }
      ]
    },
    {
      "cell_type": "markdown",
      "metadata": {
        "id": "BFYbAqiyuHJj"
      },
      "source": [
        "5. Data Selection – Based on Conditional filtering"
      ]
    },
    {
      "cell_type": "code",
      "metadata": {
        "colab": {
          "base_uri": "https://localhost:8080/",
          "height": 456
        },
        "id": "WGZ-Wijkt_Bl",
        "outputId": "a11fa415-3465-4ed3-e0c9-2bb78b6d0b84"
      },
      "source": [
        "df[df['Rating']>8.5]"
      ],
      "execution_count": null,
      "outputs": [
        {
          "output_type": "execute_result",
          "data": {
            "text/html": [
              "<div>\n",
              "<style scoped>\n",
              "    .dataframe tbody tr th:only-of-type {\n",
              "        vertical-align: middle;\n",
              "    }\n",
              "\n",
              "    .dataframe tbody tr th {\n",
              "        vertical-align: top;\n",
              "    }\n",
              "\n",
              "    .dataframe thead th {\n",
              "        text-align: right;\n",
              "    }\n",
              "</style>\n",
              "<table border=\"1\" class=\"dataframe\">\n",
              "  <thead>\n",
              "    <tr style=\"text-align: right;\">\n",
              "      <th></th>\n",
              "      <th>Rank</th>\n",
              "      <th>Title</th>\n",
              "      <th>Genre</th>\n",
              "      <th>Description</th>\n",
              "      <th>Director</th>\n",
              "      <th>Actors</th>\n",
              "      <th>Year</th>\n",
              "      <th>Runtime (Minutes)</th>\n",
              "      <th>Rating</th>\n",
              "      <th>Votes</th>\n",
              "      <th>Revenue (Millions)</th>\n",
              "      <th>Metascore</th>\n",
              "    </tr>\n",
              "  </thead>\n",
              "  <tbody>\n",
              "    <tr>\n",
              "      <th>36</th>\n",
              "      <td>37</td>\n",
              "      <td>Interstellar</td>\n",
              "      <td>Adventure,Drama,Sci-Fi</td>\n",
              "      <td>A team of explorers travel through a wormhole ...</td>\n",
              "      <td>Christopher Nolan</td>\n",
              "      <td>Matthew McConaughey, Anne Hathaway, Jessica Ch...</td>\n",
              "      <td>2014</td>\n",
              "      <td>169</td>\n",
              "      <td>8.6</td>\n",
              "      <td>1047747</td>\n",
              "      <td>187.99</td>\n",
              "      <td>74.0</td>\n",
              "    </tr>\n",
              "    <tr>\n",
              "      <th>54</th>\n",
              "      <td>55</td>\n",
              "      <td>The Dark Knight</td>\n",
              "      <td>Action,Crime,Drama</td>\n",
              "      <td>When the menace known as the Joker wreaks havo...</td>\n",
              "      <td>Christopher Nolan</td>\n",
              "      <td>Christian Bale, Heath Ledger, Aaron Eckhart,Mi...</td>\n",
              "      <td>2008</td>\n",
              "      <td>152</td>\n",
              "      <td>9.0</td>\n",
              "      <td>1791916</td>\n",
              "      <td>533.32</td>\n",
              "      <td>82.0</td>\n",
              "    </tr>\n",
              "    <tr>\n",
              "      <th>80</th>\n",
              "      <td>81</td>\n",
              "      <td>Inception</td>\n",
              "      <td>Action,Adventure,Sci-Fi</td>\n",
              "      <td>A thief, who steals corporate secrets through ...</td>\n",
              "      <td>Christopher Nolan</td>\n",
              "      <td>Leonardo DiCaprio, Joseph Gordon-Levitt, Ellen...</td>\n",
              "      <td>2010</td>\n",
              "      <td>148</td>\n",
              "      <td>8.8</td>\n",
              "      <td>1583625</td>\n",
              "      <td>292.57</td>\n",
              "      <td>74.0</td>\n",
              "    </tr>\n",
              "    <tr>\n",
              "      <th>96</th>\n",
              "      <td>97</td>\n",
              "      <td>Kimi no na wa</td>\n",
              "      <td>Animation,Drama,Fantasy</td>\n",
              "      <td>Two strangers find themselves linked in a biza...</td>\n",
              "      <td>Makoto Shinkai</td>\n",
              "      <td>Ryûnosuke Kamiki, Mone Kamishiraishi, Ryô Nari...</td>\n",
              "      <td>2016</td>\n",
              "      <td>106</td>\n",
              "      <td>8.6</td>\n",
              "      <td>34110</td>\n",
              "      <td>4.68</td>\n",
              "      <td>79.0</td>\n",
              "    </tr>\n",
              "    <tr>\n",
              "      <th>117</th>\n",
              "      <td>118</td>\n",
              "      <td>Dangal</td>\n",
              "      <td>Action,Biography,Drama</td>\n",
              "      <td>Former wrestler Mahavir Singh Phogat and his t...</td>\n",
              "      <td>Nitesh Tiwari</td>\n",
              "      <td>Aamir Khan, Sakshi Tanwar, Fatima Sana Shaikh,...</td>\n",
              "      <td>2016</td>\n",
              "      <td>161</td>\n",
              "      <td>8.8</td>\n",
              "      <td>48969</td>\n",
              "      <td>11.15</td>\n",
              "      <td>NaN</td>\n",
              "    </tr>\n",
              "    <tr>\n",
              "      <th>249</th>\n",
              "      <td>250</td>\n",
              "      <td>The Intouchables</td>\n",
              "      <td>Biography,Comedy,Drama</td>\n",
              "      <td>After he becomes a quadriplegic from a paragli...</td>\n",
              "      <td>Olivier Nakache</td>\n",
              "      <td>François Cluzet, Omar Sy, Anne Le Ny, Audrey F...</td>\n",
              "      <td>2011</td>\n",
              "      <td>112</td>\n",
              "      <td>8.6</td>\n",
              "      <td>557965</td>\n",
              "      <td>13.18</td>\n",
              "      <td>57.0</td>\n",
              "    </tr>\n",
              "  </tbody>\n",
              "</table>\n",
              "</div>"
            ],
            "text/plain": [
              "     Rank             Title  ... Revenue (Millions) Metascore\n",
              "36     37      Interstellar  ...             187.99      74.0\n",
              "54     55   The Dark Knight  ...             533.32      82.0\n",
              "80     81         Inception  ...             292.57      74.0\n",
              "96     97     Kimi no na wa  ...               4.68      79.0\n",
              "117   118            Dangal  ...              11.15       NaN\n",
              "249   250  The Intouchables  ...              13.18      57.0\n",
              "\n",
              "[6 rows x 12 columns]"
            ]
          },
          "metadata": {
            "tags": []
          },
          "execution_count": 22
        }
      ]
    },
    {
      "cell_type": "code",
      "metadata": {
        "colab": {
          "base_uri": "https://localhost:8080/",
          "height": 114
        },
        "id": "IwtrD9TCujzR",
        "outputId": "c4c01ac0-3ba6-4634-df9a-c53bbfa62bce"
      },
      "source": [
        "df[df['Title'] == 'Mindhorn']"
      ],
      "execution_count": null,
      "outputs": [
        {
          "output_type": "execute_result",
          "data": {
            "text/html": [
              "<div>\n",
              "<style scoped>\n",
              "    .dataframe tbody tr th:only-of-type {\n",
              "        vertical-align: middle;\n",
              "    }\n",
              "\n",
              "    .dataframe tbody tr th {\n",
              "        vertical-align: top;\n",
              "    }\n",
              "\n",
              "    .dataframe thead th {\n",
              "        text-align: right;\n",
              "    }\n",
              "</style>\n",
              "<table border=\"1\" class=\"dataframe\">\n",
              "  <thead>\n",
              "    <tr style=\"text-align: right;\">\n",
              "      <th></th>\n",
              "      <th>Rank</th>\n",
              "      <th>Title</th>\n",
              "      <th>Genre</th>\n",
              "      <th>Description</th>\n",
              "      <th>Director</th>\n",
              "      <th>Actors</th>\n",
              "      <th>Year</th>\n",
              "      <th>Runtime (Minutes)</th>\n",
              "      <th>Rating</th>\n",
              "      <th>Votes</th>\n",
              "      <th>Revenue (Millions)</th>\n",
              "      <th>Metascore</th>\n",
              "    </tr>\n",
              "  </thead>\n",
              "  <tbody>\n",
              "    <tr>\n",
              "      <th>7</th>\n",
              "      <td>8</td>\n",
              "      <td>Mindhorn</td>\n",
              "      <td>Comedy</td>\n",
              "      <td>A has-been actor best known for playing the ti...</td>\n",
              "      <td>Sean Foley</td>\n",
              "      <td>Essie Davis, Andrea Riseborough, Julian Barrat...</td>\n",
              "      <td>2016</td>\n",
              "      <td>89</td>\n",
              "      <td>6.4</td>\n",
              "      <td>2490</td>\n",
              "      <td>NaN</td>\n",
              "      <td>71.0</td>\n",
              "    </tr>\n",
              "  </tbody>\n",
              "</table>\n",
              "</div>"
            ],
            "text/plain": [
              "   Rank     Title   Genre  ... Votes Revenue (Millions) Metascore\n",
              "7     8  Mindhorn  Comedy  ...  2490                NaN      71.0\n",
              "\n",
              "[1 rows x 12 columns]"
            ]
          },
          "metadata": {
            "tags": []
          },
          "execution_count": 23
        }
      ]
    },
    {
      "cell_type": "code",
      "metadata": {
        "colab": {
          "base_uri": "https://localhost:8080/",
          "height": 258
        },
        "id": "W2nuAURO_DLO",
        "outputId": "de492eb9-036a-4e09-946d-cd30d04cb537"
      },
      "source": [
        "df[(df['Year']==2012) & (df['Rating'] > 8)]"
      ],
      "execution_count": null,
      "outputs": [
        {
          "output_type": "execute_result",
          "data": {
            "text/html": [
              "<div>\n",
              "<style scoped>\n",
              "    .dataframe tbody tr th:only-of-type {\n",
              "        vertical-align: middle;\n",
              "    }\n",
              "\n",
              "    .dataframe tbody tr th {\n",
              "        vertical-align: top;\n",
              "    }\n",
              "\n",
              "    .dataframe thead th {\n",
              "        text-align: right;\n",
              "    }\n",
              "</style>\n",
              "<table border=\"1\" class=\"dataframe\">\n",
              "  <thead>\n",
              "    <tr style=\"text-align: right;\">\n",
              "      <th></th>\n",
              "      <th>Rank</th>\n",
              "      <th>Title</th>\n",
              "      <th>Genre</th>\n",
              "      <th>Description</th>\n",
              "      <th>Director</th>\n",
              "      <th>Actors</th>\n",
              "      <th>Year</th>\n",
              "      <th>Runtime (Minutes)</th>\n",
              "      <th>Rating</th>\n",
              "      <th>Votes</th>\n",
              "      <th>Revenue (Millions)</th>\n",
              "      <th>Metascore</th>\n",
              "    </tr>\n",
              "  </thead>\n",
              "  <tbody>\n",
              "    <tr>\n",
              "      <th>76</th>\n",
              "      <td>77</td>\n",
              "      <td>The Avengers</td>\n",
              "      <td>Action,Sci-Fi</td>\n",
              "      <td>Earth's mightiest heroes must come together an...</td>\n",
              "      <td>Joss Whedon</td>\n",
              "      <td>Robert Downey Jr., Chris Evans, Scarlett Johan...</td>\n",
              "      <td>2012</td>\n",
              "      <td>143</td>\n",
              "      <td>8.1</td>\n",
              "      <td>1045588</td>\n",
              "      <td>623.28</td>\n",
              "      <td>69.0</td>\n",
              "    </tr>\n",
              "    <tr>\n",
              "      <th>124</th>\n",
              "      <td>125</td>\n",
              "      <td>The Dark Knight Rises</td>\n",
              "      <td>Action,Thriller</td>\n",
              "      <td>Eight years after the Joker's reign of anarchy...</td>\n",
              "      <td>Christopher Nolan</td>\n",
              "      <td>Christian Bale, Tom Hardy, Anne Hathaway,Gary ...</td>\n",
              "      <td>2012</td>\n",
              "      <td>164</td>\n",
              "      <td>8.5</td>\n",
              "      <td>1222645</td>\n",
              "      <td>448.13</td>\n",
              "      <td>78.0</td>\n",
              "    </tr>\n",
              "    <tr>\n",
              "      <th>144</th>\n",
              "      <td>145</td>\n",
              "      <td>Django Unchained</td>\n",
              "      <td>Drama,Western</td>\n",
              "      <td>With the help of a German bounty hunter , a fr...</td>\n",
              "      <td>Quentin Tarantino</td>\n",
              "      <td>Jamie Foxx, Christoph Waltz, Leonardo DiCaprio...</td>\n",
              "      <td>2012</td>\n",
              "      <td>165</td>\n",
              "      <td>8.4</td>\n",
              "      <td>1039115</td>\n",
              "      <td>162.80</td>\n",
              "      <td>81.0</td>\n",
              "    </tr>\n",
              "    <tr>\n",
              "      <th>455</th>\n",
              "      <td>456</td>\n",
              "      <td>Jagten</td>\n",
              "      <td>Drama</td>\n",
              "      <td>A teacher lives a lonely life, all the while s...</td>\n",
              "      <td>Thomas Vinterberg</td>\n",
              "      <td>Mads Mikkelsen, Thomas Bo Larsen, Annika Wedde...</td>\n",
              "      <td>2012</td>\n",
              "      <td>115</td>\n",
              "      <td>8.3</td>\n",
              "      <td>192263</td>\n",
              "      <td>0.61</td>\n",
              "      <td>76.0</td>\n",
              "    </tr>\n",
              "  </tbody>\n",
              "</table>\n",
              "</div>"
            ],
            "text/plain": [
              "     Rank                  Title  ... Revenue (Millions) Metascore\n",
              "76     77           The Avengers  ...             623.28      69.0\n",
              "124   125  The Dark Knight Rises  ...             448.13      78.0\n",
              "144   145       Django Unchained  ...             162.80      81.0\n",
              "455   456                 Jagten  ...               0.61      76.0\n",
              "\n",
              "[4 rows x 12 columns]"
            ]
          },
          "metadata": {
            "tags": []
          },
          "execution_count": 24
        }
      ]
    },
    {
      "cell_type": "markdown",
      "metadata": {
        "id": "sQQXAn9kutix"
      },
      "source": [
        "6. Groupby operations"
      ]
    },
    {
      "cell_type": "code",
      "metadata": {
        "colab": {
          "base_uri": "https://localhost:8080/",
          "height": 421
        },
        "id": "G1auRTeXuyX7",
        "outputId": "6b71fcc8-abfb-4fd8-ceaf-fc012cb4627b"
      },
      "source": [
        "yeargroup = df.groupby('Year')\n",
        "\n",
        "yeargroup.count()"
      ],
      "execution_count": null,
      "outputs": [
        {
          "output_type": "execute_result",
          "data": {
            "text/html": [
              "<div>\n",
              "<style scoped>\n",
              "    .dataframe tbody tr th:only-of-type {\n",
              "        vertical-align: middle;\n",
              "    }\n",
              "\n",
              "    .dataframe tbody tr th {\n",
              "        vertical-align: top;\n",
              "    }\n",
              "\n",
              "    .dataframe thead th {\n",
              "        text-align: right;\n",
              "    }\n",
              "</style>\n",
              "<table border=\"1\" class=\"dataframe\">\n",
              "  <thead>\n",
              "    <tr style=\"text-align: right;\">\n",
              "      <th></th>\n",
              "      <th>Rank</th>\n",
              "      <th>Title</th>\n",
              "      <th>Genre</th>\n",
              "      <th>Description</th>\n",
              "      <th>Director</th>\n",
              "      <th>Actors</th>\n",
              "      <th>Runtime (Minutes)</th>\n",
              "      <th>Rating</th>\n",
              "      <th>Votes</th>\n",
              "      <th>Revenue (Millions)</th>\n",
              "      <th>Metascore</th>\n",
              "    </tr>\n",
              "    <tr>\n",
              "      <th>Year</th>\n",
              "      <th></th>\n",
              "      <th></th>\n",
              "      <th></th>\n",
              "      <th></th>\n",
              "      <th></th>\n",
              "      <th></th>\n",
              "      <th></th>\n",
              "      <th></th>\n",
              "      <th></th>\n",
              "      <th></th>\n",
              "      <th></th>\n",
              "    </tr>\n",
              "  </thead>\n",
              "  <tbody>\n",
              "    <tr>\n",
              "      <th>2006</th>\n",
              "      <td>44</td>\n",
              "      <td>44</td>\n",
              "      <td>44</td>\n",
              "      <td>44</td>\n",
              "      <td>44</td>\n",
              "      <td>44</td>\n",
              "      <td>44</td>\n",
              "      <td>44</td>\n",
              "      <td>44</td>\n",
              "      <td>42</td>\n",
              "      <td>41</td>\n",
              "    </tr>\n",
              "    <tr>\n",
              "      <th>2007</th>\n",
              "      <td>53</td>\n",
              "      <td>53</td>\n",
              "      <td>53</td>\n",
              "      <td>53</td>\n",
              "      <td>53</td>\n",
              "      <td>53</td>\n",
              "      <td>53</td>\n",
              "      <td>53</td>\n",
              "      <td>53</td>\n",
              "      <td>49</td>\n",
              "      <td>46</td>\n",
              "    </tr>\n",
              "    <tr>\n",
              "      <th>2008</th>\n",
              "      <td>52</td>\n",
              "      <td>52</td>\n",
              "      <td>52</td>\n",
              "      <td>52</td>\n",
              "      <td>52</td>\n",
              "      <td>52</td>\n",
              "      <td>52</td>\n",
              "      <td>52</td>\n",
              "      <td>52</td>\n",
              "      <td>51</td>\n",
              "      <td>49</td>\n",
              "    </tr>\n",
              "    <tr>\n",
              "      <th>2009</th>\n",
              "      <td>51</td>\n",
              "      <td>51</td>\n",
              "      <td>51</td>\n",
              "      <td>51</td>\n",
              "      <td>51</td>\n",
              "      <td>51</td>\n",
              "      <td>51</td>\n",
              "      <td>51</td>\n",
              "      <td>51</td>\n",
              "      <td>47</td>\n",
              "      <td>49</td>\n",
              "    </tr>\n",
              "    <tr>\n",
              "      <th>2010</th>\n",
              "      <td>60</td>\n",
              "      <td>60</td>\n",
              "      <td>60</td>\n",
              "      <td>60</td>\n",
              "      <td>60</td>\n",
              "      <td>60</td>\n",
              "      <td>60</td>\n",
              "      <td>60</td>\n",
              "      <td>60</td>\n",
              "      <td>57</td>\n",
              "      <td>59</td>\n",
              "    </tr>\n",
              "    <tr>\n",
              "      <th>2011</th>\n",
              "      <td>63</td>\n",
              "      <td>63</td>\n",
              "      <td>63</td>\n",
              "      <td>63</td>\n",
              "      <td>63</td>\n",
              "      <td>63</td>\n",
              "      <td>63</td>\n",
              "      <td>63</td>\n",
              "      <td>63</td>\n",
              "      <td>62</td>\n",
              "      <td>58</td>\n",
              "    </tr>\n",
              "    <tr>\n",
              "      <th>2012</th>\n",
              "      <td>64</td>\n",
              "      <td>64</td>\n",
              "      <td>64</td>\n",
              "      <td>64</td>\n",
              "      <td>64</td>\n",
              "      <td>64</td>\n",
              "      <td>64</td>\n",
              "      <td>64</td>\n",
              "      <td>64</td>\n",
              "      <td>64</td>\n",
              "      <td>62</td>\n",
              "    </tr>\n",
              "    <tr>\n",
              "      <th>2013</th>\n",
              "      <td>91</td>\n",
              "      <td>91</td>\n",
              "      <td>91</td>\n",
              "      <td>91</td>\n",
              "      <td>91</td>\n",
              "      <td>91</td>\n",
              "      <td>91</td>\n",
              "      <td>91</td>\n",
              "      <td>91</td>\n",
              "      <td>88</td>\n",
              "      <td>86</td>\n",
              "    </tr>\n",
              "    <tr>\n",
              "      <th>2014</th>\n",
              "      <td>98</td>\n",
              "      <td>98</td>\n",
              "      <td>98</td>\n",
              "      <td>98</td>\n",
              "      <td>98</td>\n",
              "      <td>98</td>\n",
              "      <td>98</td>\n",
              "      <td>98</td>\n",
              "      <td>98</td>\n",
              "      <td>94</td>\n",
              "      <td>95</td>\n",
              "    </tr>\n",
              "    <tr>\n",
              "      <th>2015</th>\n",
              "      <td>127</td>\n",
              "      <td>127</td>\n",
              "      <td>127</td>\n",
              "      <td>127</td>\n",
              "      <td>127</td>\n",
              "      <td>127</td>\n",
              "      <td>127</td>\n",
              "      <td>127</td>\n",
              "      <td>127</td>\n",
              "      <td>113</td>\n",
              "      <td>123</td>\n",
              "    </tr>\n",
              "    <tr>\n",
              "      <th>2016</th>\n",
              "      <td>297</td>\n",
              "      <td>297</td>\n",
              "      <td>297</td>\n",
              "      <td>297</td>\n",
              "      <td>297</td>\n",
              "      <td>297</td>\n",
              "      <td>297</td>\n",
              "      <td>297</td>\n",
              "      <td>297</td>\n",
              "      <td>205</td>\n",
              "      <td>268</td>\n",
              "    </tr>\n",
              "  </tbody>\n",
              "</table>\n",
              "</div>"
            ],
            "text/plain": [
              "      Rank  Title  Genre  ...  Votes  Revenue (Millions)  Metascore\n",
              "Year                      ...                                      \n",
              "2006    44     44     44  ...     44                  42         41\n",
              "2007    53     53     53  ...     53                  49         46\n",
              "2008    52     52     52  ...     52                  51         49\n",
              "2009    51     51     51  ...     51                  47         49\n",
              "2010    60     60     60  ...     60                  57         59\n",
              "2011    63     63     63  ...     63                  62         58\n",
              "2012    64     64     64  ...     64                  64         62\n",
              "2013    91     91     91  ...     91                  88         86\n",
              "2014    98     98     98  ...     98                  94         95\n",
              "2015   127    127    127  ...    127                 113        123\n",
              "2016   297    297    297  ...    297                 205        268\n",
              "\n",
              "[11 rows x 11 columns]"
            ]
          },
          "metadata": {
            "tags": []
          },
          "execution_count": 25
        }
      ]
    },
    {
      "cell_type": "code",
      "metadata": {
        "colab": {
          "base_uri": "https://localhost:8080/",
          "height": 421
        },
        "id": "_xMegRYLvR8J",
        "outputId": "4a3fe952-1e41-40eb-9dc5-afdaf5a9be11"
      },
      "source": [
        "yeargroup.mean()"
      ],
      "execution_count": null,
      "outputs": [
        {
          "output_type": "execute_result",
          "data": {
            "text/html": [
              "<div>\n",
              "<style scoped>\n",
              "    .dataframe tbody tr th:only-of-type {\n",
              "        vertical-align: middle;\n",
              "    }\n",
              "\n",
              "    .dataframe tbody tr th {\n",
              "        vertical-align: top;\n",
              "    }\n",
              "\n",
              "    .dataframe thead th {\n",
              "        text-align: right;\n",
              "    }\n",
              "</style>\n",
              "<table border=\"1\" class=\"dataframe\">\n",
              "  <thead>\n",
              "    <tr style=\"text-align: right;\">\n",
              "      <th></th>\n",
              "      <th>Rank</th>\n",
              "      <th>Runtime (Minutes)</th>\n",
              "      <th>Rating</th>\n",
              "      <th>Votes</th>\n",
              "      <th>Revenue (Millions)</th>\n",
              "      <th>Metascore</th>\n",
              "    </tr>\n",
              "    <tr>\n",
              "      <th>Year</th>\n",
              "      <th></th>\n",
              "      <th></th>\n",
              "      <th></th>\n",
              "      <th></th>\n",
              "      <th></th>\n",
              "      <th></th>\n",
              "    </tr>\n",
              "  </thead>\n",
              "  <tbody>\n",
              "    <tr>\n",
              "      <th>2006</th>\n",
              "      <td>588.500000</td>\n",
              "      <td>120.840909</td>\n",
              "      <td>7.125000</td>\n",
              "      <td>269289.954545</td>\n",
              "      <td>86.296667</td>\n",
              "      <td>64.414634</td>\n",
              "    </tr>\n",
              "    <tr>\n",
              "      <th>2007</th>\n",
              "      <td>576.584906</td>\n",
              "      <td>121.622642</td>\n",
              "      <td>7.133962</td>\n",
              "      <td>244331.037736</td>\n",
              "      <td>87.882245</td>\n",
              "      <td>64.500000</td>\n",
              "    </tr>\n",
              "    <tr>\n",
              "      <th>2008</th>\n",
              "      <td>625.634615</td>\n",
              "      <td>110.826923</td>\n",
              "      <td>6.784615</td>\n",
              "      <td>275505.384615</td>\n",
              "      <td>99.082745</td>\n",
              "      <td>57.408163</td>\n",
              "    </tr>\n",
              "    <tr>\n",
              "      <th>2009</th>\n",
              "      <td>586.823529</td>\n",
              "      <td>116.117647</td>\n",
              "      <td>6.960784</td>\n",
              "      <td>255780.647059</td>\n",
              "      <td>112.601277</td>\n",
              "      <td>57.122449</td>\n",
              "    </tr>\n",
              "    <tr>\n",
              "      <th>2010</th>\n",
              "      <td>587.316667</td>\n",
              "      <td>111.133333</td>\n",
              "      <td>6.826667</td>\n",
              "      <td>252782.316667</td>\n",
              "      <td>105.081579</td>\n",
              "      <td>59.389831</td>\n",
              "    </tr>\n",
              "    <tr>\n",
              "      <th>2011</th>\n",
              "      <td>589.571429</td>\n",
              "      <td>114.603175</td>\n",
              "      <td>6.838095</td>\n",
              "      <td>240790.301587</td>\n",
              "      <td>87.612258</td>\n",
              "      <td>61.724138</td>\n",
              "    </tr>\n",
              "    <tr>\n",
              "      <th>2012</th>\n",
              "      <td>532.875000</td>\n",
              "      <td>119.109375</td>\n",
              "      <td>6.925000</td>\n",
              "      <td>285226.093750</td>\n",
              "      <td>107.973281</td>\n",
              "      <td>61.145161</td>\n",
              "    </tr>\n",
              "    <tr>\n",
              "      <th>2013</th>\n",
              "      <td>556.230769</td>\n",
              "      <td>116.065934</td>\n",
              "      <td>6.812088</td>\n",
              "      <td>219049.648352</td>\n",
              "      <td>87.121818</td>\n",
              "      <td>58.534884</td>\n",
              "    </tr>\n",
              "    <tr>\n",
              "      <th>2014</th>\n",
              "      <td>512.979592</td>\n",
              "      <td>114.489796</td>\n",
              "      <td>6.837755</td>\n",
              "      <td>203930.224490</td>\n",
              "      <td>85.078723</td>\n",
              "      <td>57.315789</td>\n",
              "    </tr>\n",
              "    <tr>\n",
              "      <th>2015</th>\n",
              "      <td>491.393701</td>\n",
              "      <td>114.496063</td>\n",
              "      <td>6.602362</td>\n",
              "      <td>115726.220472</td>\n",
              "      <td>78.355044</td>\n",
              "      <td>57.040650</td>\n",
              "    </tr>\n",
              "    <tr>\n",
              "      <th>2016</th>\n",
              "      <td>376.444444</td>\n",
              "      <td>107.373737</td>\n",
              "      <td>6.436700</td>\n",
              "      <td>48591.754209</td>\n",
              "      <td>54.690976</td>\n",
              "      <td>58.283582</td>\n",
              "    </tr>\n",
              "  </tbody>\n",
              "</table>\n",
              "</div>"
            ],
            "text/plain": [
              "            Rank  Runtime (Minutes)  ...  Revenue (Millions)  Metascore\n",
              "Year                                 ...                               \n",
              "2006  588.500000         120.840909  ...           86.296667  64.414634\n",
              "2007  576.584906         121.622642  ...           87.882245  64.500000\n",
              "2008  625.634615         110.826923  ...           99.082745  57.408163\n",
              "2009  586.823529         116.117647  ...          112.601277  57.122449\n",
              "2010  587.316667         111.133333  ...          105.081579  59.389831\n",
              "2011  589.571429         114.603175  ...           87.612258  61.724138\n",
              "2012  532.875000         119.109375  ...          107.973281  61.145161\n",
              "2013  556.230769         116.065934  ...           87.121818  58.534884\n",
              "2014  512.979592         114.489796  ...           85.078723  57.315789\n",
              "2015  491.393701         114.496063  ...           78.355044  57.040650\n",
              "2016  376.444444         107.373737  ...           54.690976  58.283582\n",
              "\n",
              "[11 rows x 6 columns]"
            ]
          },
          "metadata": {
            "tags": []
          },
          "execution_count": 26
        }
      ]
    },
    {
      "cell_type": "code",
      "metadata": {
        "colab": {
          "base_uri": "https://localhost:8080/",
          "height": 193
        },
        "id": "DeNG7yVrIPgI",
        "outputId": "73adfc1f-a235-42f8-d8ee-11fcbaf233c6"
      },
      "source": [
        "a = yeargroup.max()\n",
        "a.sort_values('Revenue (Millions)', ascending=False).head(2)\n",
        "\n",
        "#Year 2015 was seen to have the highest revenue of 936.63 millions"
      ],
      "execution_count": null,
      "outputs": [
        {
          "output_type": "execute_result",
          "data": {
            "text/html": [
              "<div>\n",
              "<style scoped>\n",
              "    .dataframe tbody tr th:only-of-type {\n",
              "        vertical-align: middle;\n",
              "    }\n",
              "\n",
              "    .dataframe tbody tr th {\n",
              "        vertical-align: top;\n",
              "    }\n",
              "\n",
              "    .dataframe thead th {\n",
              "        text-align: right;\n",
              "    }\n",
              "</style>\n",
              "<table border=\"1\" class=\"dataframe\">\n",
              "  <thead>\n",
              "    <tr style=\"text-align: right;\">\n",
              "      <th></th>\n",
              "      <th>Rank</th>\n",
              "      <th>Title</th>\n",
              "      <th>Genre</th>\n",
              "      <th>Description</th>\n",
              "      <th>Director</th>\n",
              "      <th>Actors</th>\n",
              "      <th>Runtime (Minutes)</th>\n",
              "      <th>Rating</th>\n",
              "      <th>Votes</th>\n",
              "      <th>Revenue (Millions)</th>\n",
              "      <th>Metascore</th>\n",
              "    </tr>\n",
              "    <tr>\n",
              "      <th>Year</th>\n",
              "      <th></th>\n",
              "      <th></th>\n",
              "      <th></th>\n",
              "      <th></th>\n",
              "      <th></th>\n",
              "      <th></th>\n",
              "      <th></th>\n",
              "      <th></th>\n",
              "      <th></th>\n",
              "      <th></th>\n",
              "      <th></th>\n",
              "    </tr>\n",
              "  </thead>\n",
              "  <tbody>\n",
              "    <tr>\n",
              "      <th>2015</th>\n",
              "      <td>996</td>\n",
              "      <td>Zipper</td>\n",
              "      <td>Mystery,Thriller</td>\n",
              "      <td>While attending a dinner party at his former h...</td>\n",
              "      <td>Zackary Adler</td>\n",
              "      <td>Zac Efron, Wes Bentley, Emily Ratajkowski, Jon...</td>\n",
              "      <td>187</td>\n",
              "      <td>8.3</td>\n",
              "      <td>661608</td>\n",
              "      <td>936.63</td>\n",
              "      <td>95.0</td>\n",
              "    </tr>\n",
              "    <tr>\n",
              "      <th>2009</th>\n",
              "      <td>991</td>\n",
              "      <td>Zombieland</td>\n",
              "      <td>Horror,Mystery,Thriller</td>\n",
              "      <td>Two friends are searching for their long lost ...</td>\n",
              "      <td>Zack Snyder</td>\n",
              "      <td>Zooey Deschanel, Joseph Gordon-Levitt, Geoffre...</td>\n",
              "      <td>170</td>\n",
              "      <td>8.4</td>\n",
              "      <td>959065</td>\n",
              "      <td>760.51</td>\n",
              "      <td>88.0</td>\n",
              "    </tr>\n",
              "  </tbody>\n",
              "</table>\n",
              "</div>"
            ],
            "text/plain": [
              "      Rank       Title  ... Revenue (Millions) Metascore\n",
              "Year                    ...                             \n",
              "2015   996      Zipper  ...             936.63      95.0\n",
              "2009   991  Zombieland  ...             760.51      88.0\n",
              "\n",
              "[2 rows x 11 columns]"
            ]
          },
          "metadata": {
            "tags": []
          },
          "execution_count": 27
        }
      ]
    },
    {
      "cell_type": "markdown",
      "metadata": {
        "id": "DARTYfcmvqrW"
      },
      "source": [
        "7. Sorting operation"
      ]
    },
    {
      "cell_type": "code",
      "metadata": {
        "id": "TDx52z5ev1RL"
      },
      "source": [
        "df_new = df.sort_values('Title')"
      ],
      "execution_count": null,
      "outputs": []
    },
    {
      "cell_type": "code",
      "metadata": {
        "colab": {
          "base_uri": "https://localhost:8080/",
          "height": 357
        },
        "id": "nWk2WW3GwKcR",
        "outputId": "bc0e46a0-0c6f-4098-d942-d2ee6b922aba"
      },
      "source": [
        "df_new.head()"
      ],
      "execution_count": null,
      "outputs": [
        {
          "output_type": "execute_result",
          "data": {
            "text/html": [
              "<div>\n",
              "<style scoped>\n",
              "    .dataframe tbody tr th:only-of-type {\n",
              "        vertical-align: middle;\n",
              "    }\n",
              "\n",
              "    .dataframe tbody tr th {\n",
              "        vertical-align: top;\n",
              "    }\n",
              "\n",
              "    .dataframe thead th {\n",
              "        text-align: right;\n",
              "    }\n",
              "</style>\n",
              "<table border=\"1\" class=\"dataframe\">\n",
              "  <thead>\n",
              "    <tr style=\"text-align: right;\">\n",
              "      <th></th>\n",
              "      <th>Rank</th>\n",
              "      <th>Title</th>\n",
              "      <th>Genre</th>\n",
              "      <th>Description</th>\n",
              "      <th>Director</th>\n",
              "      <th>Actors</th>\n",
              "      <th>Year</th>\n",
              "      <th>Runtime (Minutes)</th>\n",
              "      <th>Rating</th>\n",
              "      <th>Votes</th>\n",
              "      <th>Revenue (Millions)</th>\n",
              "      <th>Metascore</th>\n",
              "    </tr>\n",
              "  </thead>\n",
              "  <tbody>\n",
              "    <tr>\n",
              "      <th>507</th>\n",
              "      <td>508</td>\n",
              "      <td>(500) Days of Summer</td>\n",
              "      <td>Comedy,Drama,Romance</td>\n",
              "      <td>An offbeat romantic comedy about a woman who d...</td>\n",
              "      <td>Marc Webb</td>\n",
              "      <td>Zooey Deschanel, Joseph Gordon-Levitt, Geoffre...</td>\n",
              "      <td>2009</td>\n",
              "      <td>95</td>\n",
              "      <td>7.7</td>\n",
              "      <td>398972</td>\n",
              "      <td>32.39</td>\n",
              "      <td>76.0</td>\n",
              "    </tr>\n",
              "    <tr>\n",
              "      <th>118</th>\n",
              "      <td>119</td>\n",
              "      <td>10 Cloverfield Lane</td>\n",
              "      <td>Drama,Horror,Mystery</td>\n",
              "      <td>After getting in a car accident, a woman is he...</td>\n",
              "      <td>Dan Trachtenberg</td>\n",
              "      <td>John Goodman, Mary Elizabeth Winstead, John Ga...</td>\n",
              "      <td>2016</td>\n",
              "      <td>104</td>\n",
              "      <td>7.2</td>\n",
              "      <td>192968</td>\n",
              "      <td>71.90</td>\n",
              "      <td>76.0</td>\n",
              "    </tr>\n",
              "    <tr>\n",
              "      <th>696</th>\n",
              "      <td>697</td>\n",
              "      <td>10 Years</td>\n",
              "      <td>Comedy,Drama,Romance</td>\n",
              "      <td>The night before their high school reunion, a ...</td>\n",
              "      <td>Jamie Linden</td>\n",
              "      <td>Channing Tatum, Rosario Dawson, Chris Pratt, J...</td>\n",
              "      <td>2011</td>\n",
              "      <td>100</td>\n",
              "      <td>6.1</td>\n",
              "      <td>19636</td>\n",
              "      <td>0.20</td>\n",
              "      <td>NaN</td>\n",
              "    </tr>\n",
              "    <tr>\n",
              "      <th>111</th>\n",
              "      <td>112</td>\n",
              "      <td>12 Years a Slave</td>\n",
              "      <td>Biography,Drama,History</td>\n",
              "      <td>In the antebellum United States, Solomon North...</td>\n",
              "      <td>Steve McQueen</td>\n",
              "      <td>Chiwetel Ejiofor, Michael Kenneth Williams, Mi...</td>\n",
              "      <td>2013</td>\n",
              "      <td>134</td>\n",
              "      <td>8.1</td>\n",
              "      <td>486338</td>\n",
              "      <td>56.67</td>\n",
              "      <td>96.0</td>\n",
              "    </tr>\n",
              "    <tr>\n",
              "      <th>817</th>\n",
              "      <td>818</td>\n",
              "      <td>127 Hours</td>\n",
              "      <td>Adventure,Biography,Drama</td>\n",
              "      <td>An adventurous mountain climber becomes trappe...</td>\n",
              "      <td>Danny Boyle</td>\n",
              "      <td>James Franco, Amber Tamblyn, Kate Mara, Sean Bott</td>\n",
              "      <td>2010</td>\n",
              "      <td>94</td>\n",
              "      <td>7.6</td>\n",
              "      <td>294010</td>\n",
              "      <td>18.33</td>\n",
              "      <td>82.0</td>\n",
              "    </tr>\n",
              "  </tbody>\n",
              "</table>\n",
              "</div>"
            ],
            "text/plain": [
              "     Rank                 Title  ... Revenue (Millions) Metascore\n",
              "507   508  (500) Days of Summer  ...              32.39      76.0\n",
              "118   119   10 Cloverfield Lane  ...              71.90      76.0\n",
              "696   697              10 Years  ...               0.20       NaN\n",
              "111   112      12 Years a Slave  ...              56.67      96.0\n",
              "817   818             127 Hours  ...              18.33      82.0\n",
              "\n",
              "[5 rows x 12 columns]"
            ]
          },
          "metadata": {
            "tags": []
          },
          "execution_count": 29
        }
      ]
    },
    {
      "cell_type": "code",
      "metadata": {
        "colab": {
          "base_uri": "https://localhost:8080/",
          "height": 210
        },
        "id": "mv6t2_1ZwcG8",
        "outputId": "c52233cc-9090-4ae7-f1f3-147dbf82d0ba"
      },
      "source": [
        "df.sort_index(ascending=False).head(3)"
      ],
      "execution_count": null,
      "outputs": [
        {
          "output_type": "execute_result",
          "data": {
            "text/html": [
              "<div>\n",
              "<style scoped>\n",
              "    .dataframe tbody tr th:only-of-type {\n",
              "        vertical-align: middle;\n",
              "    }\n",
              "\n",
              "    .dataframe tbody tr th {\n",
              "        vertical-align: top;\n",
              "    }\n",
              "\n",
              "    .dataframe thead th {\n",
              "        text-align: right;\n",
              "    }\n",
              "</style>\n",
              "<table border=\"1\" class=\"dataframe\">\n",
              "  <thead>\n",
              "    <tr style=\"text-align: right;\">\n",
              "      <th></th>\n",
              "      <th>Rank</th>\n",
              "      <th>Title</th>\n",
              "      <th>Genre</th>\n",
              "      <th>Description</th>\n",
              "      <th>Director</th>\n",
              "      <th>Actors</th>\n",
              "      <th>Year</th>\n",
              "      <th>Runtime (Minutes)</th>\n",
              "      <th>Rating</th>\n",
              "      <th>Votes</th>\n",
              "      <th>Revenue (Millions)</th>\n",
              "      <th>Metascore</th>\n",
              "    </tr>\n",
              "  </thead>\n",
              "  <tbody>\n",
              "    <tr>\n",
              "      <th>999</th>\n",
              "      <td>1000</td>\n",
              "      <td>Nine Lives</td>\n",
              "      <td>Comedy,Family,Fantasy</td>\n",
              "      <td>A stuffy businessman finds himself trapped ins...</td>\n",
              "      <td>Barry Sonnenfeld</td>\n",
              "      <td>Kevin Spacey, Jennifer Garner, Robbie Amell,Ch...</td>\n",
              "      <td>2016</td>\n",
              "      <td>87</td>\n",
              "      <td>5.3</td>\n",
              "      <td>12435</td>\n",
              "      <td>19.64</td>\n",
              "      <td>11.0</td>\n",
              "    </tr>\n",
              "    <tr>\n",
              "      <th>998</th>\n",
              "      <td>999</td>\n",
              "      <td>Search Party</td>\n",
              "      <td>Adventure,Comedy</td>\n",
              "      <td>A pair of friends embark on a mission to reuni...</td>\n",
              "      <td>Scot Armstrong</td>\n",
              "      <td>Adam Pally, T.J. Miller, Thomas Middleditch,Sh...</td>\n",
              "      <td>2014</td>\n",
              "      <td>93</td>\n",
              "      <td>5.6</td>\n",
              "      <td>4881</td>\n",
              "      <td>NaN</td>\n",
              "      <td>22.0</td>\n",
              "    </tr>\n",
              "    <tr>\n",
              "      <th>997</th>\n",
              "      <td>998</td>\n",
              "      <td>Step Up 2: The Streets</td>\n",
              "      <td>Drama,Music,Romance</td>\n",
              "      <td>Romantic sparks occur between two dance studen...</td>\n",
              "      <td>Jon M. Chu</td>\n",
              "      <td>Robert Hoffman, Briana Evigan, Cassie Ventura,...</td>\n",
              "      <td>2008</td>\n",
              "      <td>98</td>\n",
              "      <td>6.2</td>\n",
              "      <td>70699</td>\n",
              "      <td>58.01</td>\n",
              "      <td>50.0</td>\n",
              "    </tr>\n",
              "  </tbody>\n",
              "</table>\n",
              "</div>"
            ],
            "text/plain": [
              "     Rank                   Title  ... Revenue (Millions) Metascore\n",
              "999  1000              Nine Lives  ...              19.64      11.0\n",
              "998   999            Search Party  ...                NaN      22.0\n",
              "997   998  Step Up 2: The Streets  ...              58.01      50.0\n",
              "\n",
              "[3 rows x 12 columns]"
            ]
          },
          "metadata": {
            "tags": []
          },
          "execution_count": 30
        }
      ]
    },
    {
      "cell_type": "code",
      "metadata": {
        "colab": {
          "base_uri": "https://localhost:8080/",
          "height": 162
        },
        "id": "TohF01cQxB0Z",
        "outputId": "a9feb935-7787-48d3-9adf-877a4e59130c"
      },
      "source": [
        "df.sort_values(by = ['Rating','Year'], ascending=[False, True]).head(2)\n",
        "# The Highest rating of was in year 2008"
      ],
      "execution_count": null,
      "outputs": [
        {
          "output_type": "execute_result",
          "data": {
            "text/html": [
              "<div>\n",
              "<style scoped>\n",
              "    .dataframe tbody tr th:only-of-type {\n",
              "        vertical-align: middle;\n",
              "    }\n",
              "\n",
              "    .dataframe tbody tr th {\n",
              "        vertical-align: top;\n",
              "    }\n",
              "\n",
              "    .dataframe thead th {\n",
              "        text-align: right;\n",
              "    }\n",
              "</style>\n",
              "<table border=\"1\" class=\"dataframe\">\n",
              "  <thead>\n",
              "    <tr style=\"text-align: right;\">\n",
              "      <th></th>\n",
              "      <th>Rank</th>\n",
              "      <th>Title</th>\n",
              "      <th>Genre</th>\n",
              "      <th>Description</th>\n",
              "      <th>Director</th>\n",
              "      <th>Actors</th>\n",
              "      <th>Year</th>\n",
              "      <th>Runtime (Minutes)</th>\n",
              "      <th>Rating</th>\n",
              "      <th>Votes</th>\n",
              "      <th>Revenue (Millions)</th>\n",
              "      <th>Metascore</th>\n",
              "    </tr>\n",
              "  </thead>\n",
              "  <tbody>\n",
              "    <tr>\n",
              "      <th>54</th>\n",
              "      <td>55</td>\n",
              "      <td>The Dark Knight</td>\n",
              "      <td>Action,Crime,Drama</td>\n",
              "      <td>When the menace known as the Joker wreaks havo...</td>\n",
              "      <td>Christopher Nolan</td>\n",
              "      <td>Christian Bale, Heath Ledger, Aaron Eckhart,Mi...</td>\n",
              "      <td>2008</td>\n",
              "      <td>152</td>\n",
              "      <td>9.0</td>\n",
              "      <td>1791916</td>\n",
              "      <td>533.32</td>\n",
              "      <td>82.0</td>\n",
              "    </tr>\n",
              "    <tr>\n",
              "      <th>80</th>\n",
              "      <td>81</td>\n",
              "      <td>Inception</td>\n",
              "      <td>Action,Adventure,Sci-Fi</td>\n",
              "      <td>A thief, who steals corporate secrets through ...</td>\n",
              "      <td>Christopher Nolan</td>\n",
              "      <td>Leonardo DiCaprio, Joseph Gordon-Levitt, Ellen...</td>\n",
              "      <td>2010</td>\n",
              "      <td>148</td>\n",
              "      <td>8.8</td>\n",
              "      <td>1583625</td>\n",
              "      <td>292.57</td>\n",
              "      <td>74.0</td>\n",
              "    </tr>\n",
              "  </tbody>\n",
              "</table>\n",
              "</div>"
            ],
            "text/plain": [
              "    Rank            Title  ... Revenue (Millions) Metascore\n",
              "54    55  The Dark Knight  ...             533.32      82.0\n",
              "80    81        Inception  ...             292.57      74.0\n",
              "\n",
              "[2 rows x 12 columns]"
            ]
          },
          "metadata": {
            "tags": []
          },
          "execution_count": 31
        }
      ]
    },
    {
      "cell_type": "markdown",
      "metadata": {
        "id": "98sTM46tx9DM"
      },
      "source": [
        "8. Dealing with missing values"
      ]
    },
    {
      "cell_type": "code",
      "metadata": {
        "colab": {
          "base_uri": "https://localhost:8080/"
        },
        "id": "DwiJmQTjNzmt",
        "outputId": "c17c3956-9ed7-400d-c174-81d32dee0853"
      },
      "source": [
        "df.info()"
      ],
      "execution_count": null,
      "outputs": [
        {
          "output_type": "stream",
          "text": [
            "<class 'pandas.core.frame.DataFrame'>\n",
            "RangeIndex: 1000 entries, 0 to 999\n",
            "Data columns (total 12 columns):\n",
            " #   Column              Non-Null Count  Dtype  \n",
            "---  ------              --------------  -----  \n",
            " 0   Rank                1000 non-null   int64  \n",
            " 1   Title               1000 non-null   object \n",
            " 2   Genre               1000 non-null   object \n",
            " 3   Description         1000 non-null   object \n",
            " 4   Director            1000 non-null   object \n",
            " 5   Actors              1000 non-null   object \n",
            " 6   Year                1000 non-null   int64  \n",
            " 7   Runtime (Minutes)   1000 non-null   int64  \n",
            " 8   Rating              1000 non-null   float64\n",
            " 9   Votes               1000 non-null   int64  \n",
            " 10  Revenue (Millions)  872 non-null    float64\n",
            " 11  Metascore           936 non-null    float64\n",
            "dtypes: float64(3), int64(4), object(5)\n",
            "memory usage: 93.9+ KB\n"
          ],
          "name": "stdout"
        }
      ]
    },
    {
      "cell_type": "code",
      "metadata": {
        "colab": {
          "base_uri": "https://localhost:8080/"
        },
        "id": "EPspZDQhOvFh",
        "outputId": "f39af2be-27d5-491f-cdf6-7493f4bc3b12"
      },
      "source": [
        "df.isnull().sum()"
      ],
      "execution_count": null,
      "outputs": [
        {
          "output_type": "execute_result",
          "data": {
            "text/plain": [
              "Rank                    0\n",
              "Title                   0\n",
              "Genre                   0\n",
              "Description             0\n",
              "Director                0\n",
              "Actors                  0\n",
              "Year                    0\n",
              "Runtime (Minutes)       0\n",
              "Rating                  0\n",
              "Votes                   0\n",
              "Revenue (Millions)    128\n",
              "Metascore              64\n",
              "dtype: int64"
            ]
          },
          "metadata": {
            "tags": []
          },
          "execution_count": 33
        }
      ]
    },
    {
      "cell_type": "code",
      "metadata": {
        "colab": {
          "base_uri": "https://localhost:8080/"
        },
        "id": "t-9SMPfHzM6X",
        "outputId": "91d3eedb-1a63-457f-9eeb-722a18de8567"
      },
      "source": [
        "df['Revenue (Millions)'].isnull().any()"
      ],
      "execution_count": null,
      "outputs": [
        {
          "output_type": "execute_result",
          "data": {
            "text/plain": [
              "True"
            ]
          },
          "metadata": {
            "tags": []
          },
          "execution_count": 34
        }
      ]
    },
    {
      "cell_type": "code",
      "metadata": {
        "colab": {
          "base_uri": "https://localhost:8080/"
        },
        "id": "mF_hZIZQRwM2",
        "outputId": "87817bd6-4023-4826-e474-4e5626299811"
      },
      "source": [
        "df['Revenue (Millions)'].median()"
      ],
      "execution_count": null,
      "outputs": [
        {
          "output_type": "execute_result",
          "data": {
            "text/plain": [
              "47.985"
            ]
          },
          "metadata": {
            "tags": []
          },
          "execution_count": 35
        }
      ]
    },
    {
      "cell_type": "code",
      "metadata": {
        "colab": {
          "base_uri": "https://localhost:8080/"
        },
        "id": "0kVdjY4pyARJ",
        "outputId": "2ea61b59-bb08-4a10-9901-82d988457a78"
      },
      "source": [
        "# To get the Median value\n",
        "#df['Revenue (Millions)'].median()\n",
        "\n",
        "# inplace = True when we want to update the same data\n",
        "df['Revenue (Millions)'].fillna(df['Revenue (Millions)'].median(), inplace = True)\n",
        "df.info()"
      ],
      "execution_count": null,
      "outputs": [
        {
          "output_type": "stream",
          "text": [
            "<class 'pandas.core.frame.DataFrame'>\n",
            "RangeIndex: 1000 entries, 0 to 999\n",
            "Data columns (total 12 columns):\n",
            " #   Column              Non-Null Count  Dtype  \n",
            "---  ------              --------------  -----  \n",
            " 0   Rank                1000 non-null   int64  \n",
            " 1   Title               1000 non-null   object \n",
            " 2   Genre               1000 non-null   object \n",
            " 3   Description         1000 non-null   object \n",
            " 4   Director            1000 non-null   object \n",
            " 5   Actors              1000 non-null   object \n",
            " 6   Year                1000 non-null   int64  \n",
            " 7   Runtime (Minutes)   1000 non-null   int64  \n",
            " 8   Rating              1000 non-null   float64\n",
            " 9   Votes               1000 non-null   int64  \n",
            " 10  Revenue (Millions)  1000 non-null   float64\n",
            " 11  Metascore           936 non-null    float64\n",
            "dtypes: float64(3), int64(4), object(5)\n",
            "memory usage: 93.9+ KB\n"
          ],
          "name": "stdout"
        }
      ]
    },
    {
      "cell_type": "markdown",
      "metadata": {
        "id": "pk2wrEzfSr8v"
      },
      "source": [
        "9. Dropping columns and null values"
      ]
    },
    {
      "cell_type": "code",
      "metadata": {
        "id": "omJNmU0SS0uL"
      },
      "source": [
        "# Metascore has less no of data as null so we can drop them\n",
        "df.dropna(inplace= True)"
      ],
      "execution_count": null,
      "outputs": []
    },
    {
      "cell_type": "code",
      "metadata": {
        "colab": {
          "base_uri": "https://localhost:8080/"
        },
        "id": "YiV2y3nRTudJ",
        "outputId": "9cd0c0e3-27d9-4a51-dbb8-9c57d767dfdf"
      },
      "source": [
        "df.isnull().sum()"
      ],
      "execution_count": null,
      "outputs": [
        {
          "output_type": "execute_result",
          "data": {
            "text/plain": [
              "Rank                  0\n",
              "Title                 0\n",
              "Genre                 0\n",
              "Description           0\n",
              "Director              0\n",
              "Actors                0\n",
              "Year                  0\n",
              "Runtime (Minutes)     0\n",
              "Rating                0\n",
              "Votes                 0\n",
              "Revenue (Millions)    0\n",
              "Metascore             0\n",
              "dtype: int64"
            ]
          },
          "metadata": {
            "tags": []
          },
          "execution_count": 38
        }
      ]
    },
    {
      "cell_type": "code",
      "metadata": {
        "colab": {
          "base_uri": "https://localhost:8080/"
        },
        "id": "WNMRLrT9UN1F",
        "outputId": "9cd98ddb-638c-471c-ba11-9a63c8a7a700"
      },
      "source": [
        "df.info()"
      ],
      "execution_count": null,
      "outputs": [
        {
          "output_type": "stream",
          "text": [
            "<class 'pandas.core.frame.DataFrame'>\n",
            "Int64Index: 936 entries, 0 to 999\n",
            "Data columns (total 12 columns):\n",
            " #   Column              Non-Null Count  Dtype  \n",
            "---  ------              --------------  -----  \n",
            " 0   Rank                936 non-null    int64  \n",
            " 1   Title               936 non-null    object \n",
            " 2   Genre               936 non-null    object \n",
            " 3   Description         936 non-null    object \n",
            " 4   Director            936 non-null    object \n",
            " 5   Actors              936 non-null    object \n",
            " 6   Year                936 non-null    int64  \n",
            " 7   Runtime (Minutes)   936 non-null    int64  \n",
            " 8   Rating              936 non-null    float64\n",
            " 9   Votes               936 non-null    int64  \n",
            " 10  Revenue (Millions)  936 non-null    float64\n",
            " 11  Metascore           936 non-null    float64\n",
            "dtypes: float64(3), int64(4), object(5)\n",
            "memory usage: 95.1+ KB\n"
          ],
          "name": "stdout"
        }
      ]
    },
    {
      "cell_type": "code",
      "metadata": {
        "id": "9y_BLU3QWYJs"
      },
      "source": [
        "#df.dele('Rank', inplace = True)\n",
        "#df.drop(columns=['Rank'], inplace = True)\n",
        "\n",
        "#OR\n",
        "del df['Rank']"
      ],
      "execution_count": null,
      "outputs": []
    },
    {
      "cell_type": "code",
      "metadata": {
        "colab": {
          "base_uri": "https://localhost:8080/"
        },
        "id": "xSWjpjyVXKfi",
        "outputId": "f3f610c4-383b-4835-ae7c-f5f4289d5045"
      },
      "source": [
        "df.info()"
      ],
      "execution_count": null,
      "outputs": [
        {
          "output_type": "stream",
          "text": [
            "<class 'pandas.core.frame.DataFrame'>\n",
            "Int64Index: 936 entries, 0 to 999\n",
            "Data columns (total 11 columns):\n",
            " #   Column              Non-Null Count  Dtype  \n",
            "---  ------              --------------  -----  \n",
            " 0   Title               936 non-null    object \n",
            " 1   Genre               936 non-null    object \n",
            " 2   Description         936 non-null    object \n",
            " 3   Director            936 non-null    object \n",
            " 4   Actors              936 non-null    object \n",
            " 5   Year                936 non-null    int64  \n",
            " 6   Runtime (Minutes)   936 non-null    int64  \n",
            " 7   Rating              936 non-null    float64\n",
            " 8   Votes               936 non-null    int64  \n",
            " 9   Revenue (Millions)  936 non-null    float64\n",
            " 10  Metascore           936 non-null    float64\n",
            "dtypes: float64(3), int64(3), object(5)\n",
            "memory usage: 87.8+ KB\n"
          ],
          "name": "stdout"
        }
      ]
    },
    {
      "cell_type": "markdown",
      "metadata": {
        "id": "U8zpZy3uVSt-"
      },
      "source": [
        "10. Apply( ) functions"
      ]
    },
    {
      "cell_type": "code",
      "metadata": {
        "id": "YXqDKWiFVR34"
      },
      "source": [
        "def hrs(runtime):\n",
        "  hr = runtime/60\n",
        "  hr = hr.round(2)\n",
        "  return hr"
      ],
      "execution_count": null,
      "outputs": []
    },
    {
      "cell_type": "code",
      "metadata": {
        "colab": {
          "base_uri": "https://localhost:8080/",
          "height": 419
        },
        "id": "upJSXutxcQaA",
        "outputId": "e23baa91-2a69-46c8-e1bd-005d4db232eb"
      },
      "source": [
        "# Converted Minutes to hours\n",
        "df[['Runtime (Minutes)']].apply(hrs)"
      ],
      "execution_count": null,
      "outputs": [
        {
          "output_type": "execute_result",
          "data": {
            "text/html": [
              "<div>\n",
              "<style scoped>\n",
              "    .dataframe tbody tr th:only-of-type {\n",
              "        vertical-align: middle;\n",
              "    }\n",
              "\n",
              "    .dataframe tbody tr th {\n",
              "        vertical-align: top;\n",
              "    }\n",
              "\n",
              "    .dataframe thead th {\n",
              "        text-align: right;\n",
              "    }\n",
              "</style>\n",
              "<table border=\"1\" class=\"dataframe\">\n",
              "  <thead>\n",
              "    <tr style=\"text-align: right;\">\n",
              "      <th></th>\n",
              "      <th>Runtime (Minutes)</th>\n",
              "    </tr>\n",
              "  </thead>\n",
              "  <tbody>\n",
              "    <tr>\n",
              "      <th>0</th>\n",
              "      <td>2.02</td>\n",
              "    </tr>\n",
              "    <tr>\n",
              "      <th>1</th>\n",
              "      <td>2.07</td>\n",
              "    </tr>\n",
              "    <tr>\n",
              "      <th>2</th>\n",
              "      <td>1.95</td>\n",
              "    </tr>\n",
              "    <tr>\n",
              "      <th>3</th>\n",
              "      <td>1.80</td>\n",
              "    </tr>\n",
              "    <tr>\n",
              "      <th>4</th>\n",
              "      <td>2.05</td>\n",
              "    </tr>\n",
              "    <tr>\n",
              "      <th>...</th>\n",
              "      <td>...</td>\n",
              "    </tr>\n",
              "    <tr>\n",
              "      <th>995</th>\n",
              "      <td>1.85</td>\n",
              "    </tr>\n",
              "    <tr>\n",
              "      <th>996</th>\n",
              "      <td>1.57</td>\n",
              "    </tr>\n",
              "    <tr>\n",
              "      <th>997</th>\n",
              "      <td>1.63</td>\n",
              "    </tr>\n",
              "    <tr>\n",
              "      <th>998</th>\n",
              "      <td>1.55</td>\n",
              "    </tr>\n",
              "    <tr>\n",
              "      <th>999</th>\n",
              "      <td>1.45</td>\n",
              "    </tr>\n",
              "  </tbody>\n",
              "</table>\n",
              "<p>936 rows × 1 columns</p>\n",
              "</div>"
            ],
            "text/plain": [
              "     Runtime (Minutes)\n",
              "0                 2.02\n",
              "1                 2.07\n",
              "2                 1.95\n",
              "3                 1.80\n",
              "4                 2.05\n",
              "..                 ...\n",
              "995               1.85\n",
              "996               1.57\n",
              "997               1.63\n",
              "998               1.55\n",
              "999               1.45\n",
              "\n",
              "[936 rows x 1 columns]"
            ]
          },
          "metadata": {
            "tags": []
          },
          "execution_count": 43
        }
      ]
    }
  ]
}