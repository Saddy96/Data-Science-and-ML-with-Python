{
  "nbformat": 4,
  "nbformat_minor": 0,
  "metadata": {
    "colab": {
      "name": "Task_Day2.ipynb",
      "provenance": [],
      "collapsed_sections": []
    },
    "kernelspec": {
      "name": "python3",
      "display_name": "Python 3"
    },
    "language_info": {
      "name": "python"
    }
  },
  "cells": [
    {
      "cell_type": "markdown",
      "metadata": {
        "id": "12g6Iv_MZwzL"
      },
      "source": [
        "***NAME: SADDAM HUSSAIN***\n",
        "\n",
        "***ID: GO_STP_6834***\n",
        "\n",
        "********************************************************************"
      ]
    },
    {
      "cell_type": "markdown",
      "metadata": {
        "id": "1yrlTUOPUyPC"
      },
      "source": [
        "Q 1 (i):\n",
        "\n",
        "We are having 3 list like this\n",
        "\n",
        "Colors = [\"Yellow\",\"Green\",\"White\",\"Black\"]\n",
        "Fruits = [\"Apple\",\"Papaya\",\"Mango\",\"Orange\"]\n",
        "Animals = [\"Tiger\",\"Lion\",\"Deer\",\"Zebra\"]\n",
        "\n",
        "**Write a program that asks user to enter a Color/Fruit/Animal name and it should tell which category belongs to , like its is a fruit or color or Animal**"
      ]
    },
    {
      "cell_type": "code",
      "metadata": {
        "colab": {
          "base_uri": "https://localhost:8080/"
        },
        "id": "N-fjc_7Rt0te",
        "outputId": "c6388b9f-a3ee-4b22-92bd-a3f49e84787c"
      },
      "source": [
        "Colors = [\"Yellow\",\"Green\",\"White\",\"Black\"]\n",
        "Fruits = [\"Apple\",\"Papaya\",\"Mango\",\"Orange\"]\n",
        "Animals = [\"Tiger\",\"Lion\",\"Deer\",\"Zebra\"]\n",
        "\n",
        "inputVal = input(\"Enter the entry or the value: \")\n",
        "\n",
        "if inputVal in Colors:\n",
        "  print(\"It is Colors\")\n",
        "elif inputVal in Fruits:\n",
        "  print(\"It is Fruits\")\n",
        "elif inputVal in Animals:\n",
        "  print(\"It is Animals\")\n",
        "else:\n",
        "  print(\"It is not there in any current categories\")"
      ],
      "execution_count": null,
      "outputs": [
        {
          "output_type": "stream",
          "text": [
            "Enter the entry or the value: Green\n",
            "It is Colors\n"
          ],
          "name": "stdout"
        }
      ]
    },
    {
      "cell_type": "markdown",
      "metadata": {
        "id": "qlHa-sOrDqHI"
      },
      "source": [
        "Q 1(ii):\n",
        "\n",
        "**Write a program that asks user to enter two cities and it tells you if they both are in same country or not. For example if I enter yellow and Black, it will print \"Both are colors\" but if I enter yellow and Tiger it should print \"They don't belong to same category\"**"
      ]
    },
    {
      "cell_type": "code",
      "metadata": {
        "colab": {
          "base_uri": "https://localhost:8080/"
        },
        "id": "laUGBjlmDnKs",
        "outputId": "0a8743a8-3a15-4821-ea3a-4a0cbd71f17c"
      },
      "source": [
        "entry1 = input(\"Enter the 1st item: \")\n",
        "entry2 = input(\"Enter the 2nd item: \")\n",
        "\n",
        "if entry1 in Colors and entry2 in Colors:\n",
        "  print(\"Both are colors\")\n",
        "\n",
        "elif entry1 in Fruits and entry2 in Fruits:\n",
        "  print(\"Both are Fruits\")\n",
        "\n",
        "elif entry1 in Animals and entry2 in Animals:\n",
        "  print(\"Both are animals\")\n",
        "\n",
        "else:\n",
        "  print(\"They don't belong to same category\")"
      ],
      "execution_count": null,
      "outputs": [
        {
          "output_type": "stream",
          "text": [
            "Enter the 1st item: Lion\n",
            "Enter the 2nd item: Tiger\n",
            "Both are animals\n"
          ],
          "name": "stdout"
        }
      ]
    },
    {
      "cell_type": "markdown",
      "metadata": {
        "id": "aaLYuBdcWKOP"
      },
      "source": [
        "Q 2:\n",
        "\n",
        "**Write a python program that can tell you if your grade score good or not . Normal Score range is 40 to 60**\n",
        "\n",
        "i. Ask user to enter his score.\n",
        "\n",
        "ii. If it is below 40 to 60 range then print that score is low\n",
        "\n",
        "iii. If it is above 60 then print that it is good otherwise print that it is normal"
      ]
    },
    {
      "cell_type": "code",
      "metadata": {
        "colab": {
          "base_uri": "https://localhost:8080/"
        },
        "id": "fQZYD223F45B",
        "outputId": "1eef8bfe-105e-4556-9f61-01e0a66e805e"
      },
      "source": [
        "marks = int(input(\"Enter your marks: \"))\n",
        "\n",
        "if marks < 40:\n",
        "  print(\"Low\")\n",
        "elif marks > 60:\n",
        "  print(\"Good\")\n",
        "else:\n",
        "  print(\"normal\")"
      ],
      "execution_count": null,
      "outputs": [
        {
          "output_type": "stream",
          "text": [
            "Enter your marks: 60\n",
            "normal\n"
          ],
          "name": "stdout"
        }
      ]
    },
    {
      "cell_type": "markdown",
      "metadata": {
        "id": "7KmNnnYAWnbR"
      },
      "source": [
        "Q 3:\n",
        "\n",
        "After appearing in exam 10 times you got this result,\n",
        "\n",
        "result = [\"Pass\",\"Fail\",\"Fail\",\"Pass\",\"Fail\",\"Pass\",\"Pass\",\"Fail\",\"Fail\",\"Fail\"]\n",
        "\n",
        "Using for loop figure out how many times you got Pass"
      ]
    },
    {
      "cell_type": "code",
      "metadata": {
        "colab": {
          "base_uri": "https://localhost:8080/"
        },
        "id": "TDMOhimJHJp9",
        "outputId": "dc31c536-13e2-48ac-f2ce-8eb1097e36e4"
      },
      "source": [
        "result = [\"Pass\",\"Fail\",\"Fail\",\"Pass\",\"Fail\",\"Pass\",\"Pass\",\"Fail\",\"Fail\",\"Fail\"]\n",
        "passCount = 0\n",
        "for item in result:\n",
        "  if item == \"Pass\":\n",
        "    passCount += 1\n",
        "print(\"Total Pass Counts are\", passCount)"
      ],
      "execution_count": null,
      "outputs": [
        {
          "output_type": "stream",
          "text": [
            "Total Pass Counts are 4\n"
          ],
          "name": "stdout"
        }
      ]
    },
    {
      "cell_type": "markdown",
      "metadata": {
        "id": "BHMEUUKXWz1M"
      },
      "source": [
        "Q 4:\n",
        "\n",
        "Write a program that prints following shape\n",
        "\n",
        "**STAR PATTERN**"
      ]
    },
    {
      "cell_type": "code",
      "metadata": {
        "colab": {
          "base_uri": "https://localhost:8080/"
        },
        "id": "vF413xU_HrsN",
        "outputId": "c88d7102-f832-4811-999b-8e2fa2edaa73"
      },
      "source": [
        "row = int(input(\"No of rows: \"))\n",
        "for i in range(1,row+1):\n",
        "  for j in range(i):\n",
        "    print(\"*\", end = \"\")\n",
        "  print(\"\")\n",
        "\n",
        "for i in range(row-1,0,-1):\n",
        "  for j in range(i):\n",
        "    print(\"*\", end = \"\")\n",
        "  print(\"\")"
      ],
      "execution_count": null,
      "outputs": [
        {
          "output_type": "stream",
          "text": [
            "No of rows: 5\n",
            "*\n",
            "**\n",
            "***\n",
            "****\n",
            "*****\n",
            "****\n",
            "***\n",
            "**\n",
            "*\n"
          ],
          "name": "stdout"
        }
      ]
    },
    {
      "cell_type": "markdown",
      "metadata": {
        "id": "C7qiMBGtXEfU"
      },
      "source": [
        "Q 5:\n",
        "\n",
        "Lets say you are running a 50 km race. Write a program that,\n",
        "\n",
        "1 Upon completing each 10 km asks you \"are you tired?\"\n",
        "\n",
        "2 If you reply \"yes\" then it should break and print \"you didn't finish the race\"\n",
        "\n",
        "3 If you reply \"no\" then it should continue and ask \"are you tired\" on every km\n",
        "\n",
        "4 If you finish all 50 km then it should print congratulations message"
      ]
    },
    {
      "cell_type": "code",
      "metadata": {
        "colab": {
          "base_uri": "https://localhost:8080/"
        },
        "id": "aca6nhiBBaTp",
        "outputId": "fccbd293-0bf9-41ee-837d-dc622ee60ff0"
      },
      "source": [
        "status = 0\n",
        "for i in range(1,51):\n",
        "  if i%10 == 0:\n",
        "    confirm = input(\"are you tired?\")\n",
        "    if confirm == \"yes\":\n",
        "      print(\"You didn't finish the race\")\n",
        "      status = 1\n",
        "      break\n",
        "    elif confirm == \"no\":\n",
        "      continue\n",
        "if status == 0:\n",
        "  print(\"congratulations you completed the race\")"
      ],
      "execution_count": null,
      "outputs": [
        {
          "output_type": "stream",
          "text": [
            "are you tired?yes\n",
            "You didn't finish the race\n"
          ],
          "name": "stdout"
        }
      ]
    },
    {
      "cell_type": "markdown",
      "metadata": {
        "id": "Kk-AwFKcXkAt"
      },
      "source": [
        "**Alternate option for 5th one**"
      ]
    },
    {
      "cell_type": "code",
      "metadata": {
        "colab": {
          "base_uri": "https://localhost:8080/"
        },
        "id": "MifMCryEMsjj",
        "outputId": "bb9f1570-ea41-46dd-9278-b772a61b3efd"
      },
      "source": [
        "for i in range(10,51,10):\n",
        "  enter = input(\"are you tired?\")\n",
        "  if enter == \"yes\":\n",
        "    print(\"you didn't finish the race\")\n",
        "    break\n",
        "  elif enter == \"no\":\n",
        "    if i == 50:\n",
        "      print(\"congratulations you completed the race\")\n",
        "    continue"
      ],
      "execution_count": null,
      "outputs": [
        {
          "output_type": "stream",
          "text": [
            "are you tired?no\n",
            "are you tired?no\n",
            "are you tired?no\n",
            "are you tired?no\n",
            "are you tired?no\n",
            "congratulations you completed the race\n"
          ],
          "name": "stdout"
        }
      ]
    },
    {
      "cell_type": "markdown",
      "metadata": {
        "id": "zmvFOv73A0PY"
      },
      "source": [
        "Q 6:\n",
        "\n",
        "**Write a Python program to find those numbers which are divisible by 7 and multiple of 5, between 1500 and 2700 (both included)**"
      ]
    },
    {
      "cell_type": "code",
      "metadata": {
        "colab": {
          "base_uri": "https://localhost:8080/"
        },
        "id": "XzGeF65c9kAa",
        "outputId": "09f279d9-97cf-46e0-f1eb-dfd1bea5ac26"
      },
      "source": [
        "for i in range(1500,2700):\n",
        "  if i%7 == 0 and i%5 ==0:\n",
        "    print(i)\n"
      ],
      "execution_count": null,
      "outputs": [
        {
          "output_type": "stream",
          "text": [
            "1505\n",
            "1540\n",
            "1575\n",
            "1610\n",
            "1645\n",
            "1680\n",
            "1715\n",
            "1750\n",
            "1785\n",
            "1820\n",
            "1855\n",
            "1890\n",
            "1925\n",
            "1960\n",
            "1995\n",
            "2030\n",
            "2065\n",
            "2100\n",
            "2135\n",
            "2170\n",
            "2205\n",
            "2240\n",
            "2275\n",
            "2310\n",
            "2345\n",
            "2380\n",
            "2415\n",
            "2450\n",
            "2485\n",
            "2520\n",
            "2555\n",
            "2590\n",
            "2625\n",
            "2660\n",
            "2695\n"
          ],
          "name": "stdout"
        }
      ]
    },
    {
      "cell_type": "markdown",
      "metadata": {
        "id": "Cy6zk9kE9mnQ"
      },
      "source": [
        "Q 7:\n",
        "\n",
        "**Print square of all numbers between 10 to 20 except even numbers**"
      ]
    },
    {
      "cell_type": "code",
      "metadata": {
        "id": "UsucTyzAJ1Ti",
        "colab": {
          "base_uri": "https://localhost:8080/"
        },
        "outputId": "4261b488-62c6-4273-8214-0b7eb9bcf379"
      },
      "source": [
        "for i in range(10,21):\n",
        "  if i%2 == 1:\n",
        "    print(i**2)"
      ],
      "execution_count": null,
      "outputs": [
        {
          "output_type": "stream",
          "text": [
            "121\n",
            "169\n",
            "225\n",
            "289\n",
            "361\n"
          ],
          "name": "stdout"
        }
      ]
    },
    {
      "cell_type": "markdown",
      "metadata": {
        "id": "Vgff9OmR-VPW"
      },
      "source": [
        "Q 8:\n",
        "\n",
        "Your Marks for five Test(test1 to test5) looks like this,\n",
        "\n",
        "marks_list = [65, 75, 2100, 95, 83]\n",
        "  \n",
        "**Write a program that asks you to enter marks and program should tell you in which test that marks occurred. If marks is not found then it should print that as well**"
      ]
    },
    {
      "cell_type": "code",
      "metadata": {
        "colab": {
          "base_uri": "https://localhost:8080/"
        },
        "id": "5bjTfK1Q-RK9",
        "outputId": "237417cc-ad55-430a-e29e-18567f790d19"
      },
      "source": [
        "marks_list = [65, 75, 2100, 95, 83]\n",
        "\n",
        "markVal = int(input(\"Enter the marks to be searched: \"))\n",
        "count = 1\n",
        "if markVal in marks_list:\n",
        "  for i in marks_list:\n",
        "    if i == markVal:\n",
        "      print(\"Your mark\",markVal,\"occured in test\"+str(count))\n",
        "    count += 1\n",
        "else:\n",
        "  print(\"Mark not found, Your mark is \", markVal)"
      ],
      "execution_count": null,
      "outputs": [
        {
          "output_type": "stream",
          "text": [
            "Enter the marks to be searched: 2100\n",
            "Your mark 2100 occured in test3\n"
          ],
          "name": "stdout"
        }
      ]
    }
  ]
}