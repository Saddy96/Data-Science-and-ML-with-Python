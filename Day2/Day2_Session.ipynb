{
  "nbformat": 4,
  "nbformat_minor": 0,
  "metadata": {
    "colab": {
      "name": "Day2_Session.ipynb",
      "provenance": [],
      "collapsed_sections": []
    },
    "kernelspec": {
      "name": "python3",
      "display_name": "Python 3"
    },
    "language_info": {
      "name": "python"
    }
  },
  "cells": [
    {
      "cell_type": "markdown",
      "metadata": {
        "id": "cf0tAOvl8FB9"
      },
      "source": [
        "**Data Types**"
      ]
    },
    {
      "cell_type": "markdown",
      "metadata": {
        "id": "fGSFb9vO8Mo9"
      },
      "source": [
        "Sequence data types String"
      ]
    },
    {
      "cell_type": "code",
      "metadata": {
        "colab": {
          "base_uri": "https://localhost:8080/"
        },
        "id": "aTNM4tDK68Mr",
        "outputId": "f21bf1a6-f90e-4c6e-fb7e-5b6aea30c1c2"
      },
      "source": [
        "s = \"Welcome to string data type\"     # index of s = 0,1,2,3,......., also can be access from last like -1,-2,-3,.....\n",
        "print(s)"
      ],
      "execution_count": 2,
      "outputs": [
        {
          "output_type": "stream",
          "text": [
            "Welcome to string data type\n"
          ],
          "name": "stdout"
        }
      ]
    },
    {
      "cell_type": "markdown",
      "metadata": {
        "id": "9LVF_bnT8uy1"
      },
      "source": [
        "**Indexing** - in python indexing always starts with 0, USE -1 for the reverese indexing i.e from right to left"
      ]
    },
    {
      "cell_type": "code",
      "metadata": {
        "colab": {
          "base_uri": "https://localhost:8080/",
          "height": 35
        },
        "id": "90WqtA-d8osR",
        "outputId": "322869ee-3ef0-48a5-a8be-d821ad707d8a"
      },
      "source": [
        "s[0]"
      ],
      "execution_count": 3,
      "outputs": [
        {
          "output_type": "execute_result",
          "data": {
            "application/vnd.google.colaboratory.intrinsic+json": {
              "type": "string"
            },
            "text/plain": [
              "'W'"
            ]
          },
          "metadata": {
            "tags": []
          },
          "execution_count": 3
        }
      ]
    },
    {
      "cell_type": "code",
      "metadata": {
        "colab": {
          "base_uri": "https://localhost:8080/",
          "height": 35
        },
        "id": "pmVh4T0s8saG",
        "outputId": "4a844f5a-c83c-4d11-959d-5fe7b736ac09"
      },
      "source": [
        "s[1]"
      ],
      "execution_count": 4,
      "outputs": [
        {
          "output_type": "execute_result",
          "data": {
            "application/vnd.google.colaboratory.intrinsic+json": {
              "type": "string"
            },
            "text/plain": [
              "'e'"
            ]
          },
          "metadata": {
            "tags": []
          },
          "execution_count": 4
        }
      ]
    },
    {
      "cell_type": "code",
      "metadata": {
        "colab": {
          "base_uri": "https://localhost:8080/",
          "height": 35
        },
        "id": "PjEiWmEG9Td0",
        "outputId": "9e99f4b4-a9a0-4a9e-b973-343227ef9a1d"
      },
      "source": [
        "s[-1]       # Last element of s"
      ],
      "execution_count": 5,
      "outputs": [
        {
          "output_type": "execute_result",
          "data": {
            "application/vnd.google.colaboratory.intrinsic+json": {
              "type": "string"
            },
            "text/plain": [
              "'e'"
            ]
          },
          "metadata": {
            "tags": []
          },
          "execution_count": 5
        }
      ]
    },
    {
      "cell_type": "code",
      "metadata": {
        "colab": {
          "base_uri": "https://localhost:8080/",
          "height": 35
        },
        "id": "Z0p6oNYa9jOk",
        "outputId": "eb4fb759-c8c0-4eba-9cbb-136598b357ee"
      },
      "source": [
        "# Slicing\n",
        "s[5:10]   # 1st index - inclusive, Last index - exclusive, returned elements are 5,6,7,8,9"
      ],
      "execution_count": 7,
      "outputs": [
        {
          "output_type": "execute_result",
          "data": {
            "application/vnd.google.colaboratory.intrinsic+json": {
              "type": "string"
            },
            "text/plain": [
              "'me to'"
            ]
          },
          "metadata": {
            "tags": []
          },
          "execution_count": 7
        }
      ]
    },
    {
      "cell_type": "code",
      "metadata": {
        "colab": {
          "base_uri": "https://localhost:8080/",
          "height": 35
        },
        "id": "ePN0tDqG-pSn",
        "outputId": "4db31cca-2649-46ab-ac65-5528dd4bf985"
      },
      "source": [
        "s[:5]"
      ],
      "execution_count": 8,
      "outputs": [
        {
          "output_type": "execute_result",
          "data": {
            "application/vnd.google.colaboratory.intrinsic+json": {
              "type": "string"
            },
            "text/plain": [
              "'Welco'"
            ]
          },
          "metadata": {
            "tags": []
          },
          "execution_count": 8
        }
      ]
    },
    {
      "cell_type": "code",
      "metadata": {
        "colab": {
          "base_uri": "https://localhost:8080/",
          "height": 35
        },
        "id": "UHBAKQMx_Hce",
        "outputId": "be553ea3-b015-4f1f-9cc3-e27d7e20e131"
      },
      "source": [
        "s[5:]"
      ],
      "execution_count": 9,
      "outputs": [
        {
          "output_type": "execute_result",
          "data": {
            "application/vnd.google.colaboratory.intrinsic+json": {
              "type": "string"
            },
            "text/plain": [
              "'me to string data type'"
            ]
          },
          "metadata": {
            "tags": []
          },
          "execution_count": 9
        }
      ]
    },
    {
      "cell_type": "code",
      "metadata": {
        "colab": {
          "base_uri": "https://localhost:8080/",
          "height": 35
        },
        "id": "GHLh4g7K_Vqf",
        "outputId": "23f9fcf2-df3f-4b83-fba9-558a6fd60200"
      },
      "source": [
        "s[1:8:2]         #s[start : end: increment/decrement]"
      ],
      "execution_count": 10,
      "outputs": [
        {
          "output_type": "execute_result",
          "data": {
            "application/vnd.google.colaboratory.intrinsic+json": {
              "type": "string"
            },
            "text/plain": [
              "'ecm '"
            ]
          },
          "metadata": {
            "tags": []
          },
          "execution_count": 10
        }
      ]
    },
    {
      "cell_type": "code",
      "metadata": {
        "colab": {
          "base_uri": "https://localhost:8080/",
          "height": 35
        },
        "id": "kWptDoRP_x8I",
        "outputId": "399adc36-4185-4e7e-f919-52d48b10bdb3"
      },
      "source": [
        "s[-1:-4:-1]"
      ],
      "execution_count": 16,
      "outputs": [
        {
          "output_type": "execute_result",
          "data": {
            "application/vnd.google.colaboratory.intrinsic+json": {
              "type": "string"
            },
            "text/plain": [
              "'epy'"
            ]
          },
          "metadata": {
            "tags": []
          },
          "execution_count": 16
        }
      ]
    },
    {
      "cell_type": "code",
      "metadata": {
        "colab": {
          "base_uri": "https://localhost:8080/",
          "height": 35
        },
        "id": "-vuCMRS9ABk6",
        "outputId": "e950e372-9da0-4f20-ef2d-cdb7ee802547"
      },
      "source": [
        "s[::-1]"
      ],
      "execution_count": 13,
      "outputs": [
        {
          "output_type": "execute_result",
          "data": {
            "application/vnd.google.colaboratory.intrinsic+json": {
              "type": "string"
            },
            "text/plain": [
              "'epyt atad gnirts ot emocleW'"
            ]
          },
          "metadata": {
            "tags": []
          },
          "execution_count": 13
        }
      ]
    },
    {
      "cell_type": "code",
      "metadata": {
        "id": "O4KZiHfDAlgP"
      },
      "source": [
        "# Strings are immutable like can't be changed or updated\n",
        "s = \"Value\"\n",
        "#s[1]='h'\n",
        "\n",
        "s=\"newVal\"\n"
      ],
      "execution_count": 24,
      "outputs": []
    },
    {
      "cell_type": "code",
      "metadata": {
        "id": "ItRXx4mkBH8Y"
      },
      "source": [
        "del s"
      ],
      "execution_count": 25,
      "outputs": []
    },
    {
      "cell_type": "code",
      "metadata": {
        "colab": {
          "base_uri": "https://localhost:8080/",
          "height": 163
        },
        "id": "RHYoILZfBOq8",
        "outputId": "2a36e82a-3b03-4a21-f619-bf525aa48d80"
      },
      "source": [
        "print(s)"
      ],
      "execution_count": 26,
      "outputs": [
        {
          "output_type": "error",
          "ename": "NameError",
          "evalue": "ignored",
          "traceback": [
            "\u001b[0;31m---------------------------------------------------------------------------\u001b[0m",
            "\u001b[0;31mNameError\u001b[0m                                 Traceback (most recent call last)",
            "\u001b[0;32m<ipython-input-26-0ff1b7208845>\u001b[0m in \u001b[0;36m<module>\u001b[0;34m()\u001b[0m\n\u001b[0;32m----> 1\u001b[0;31m \u001b[0mprint\u001b[0m\u001b[0;34m(\u001b[0m\u001b[0ms\u001b[0m\u001b[0;34m)\u001b[0m\u001b[0;34m\u001b[0m\u001b[0;34m\u001b[0m\u001b[0m\n\u001b[0m",
            "\u001b[0;31mNameError\u001b[0m: name 's' is not defined"
          ]
        }
      ]
    },
    {
      "cell_type": "markdown",
      "metadata": {
        "id": "3oEhWQr7BEy9"
      },
      "source": [
        "String Function"
      ]
    },
    {
      "cell_type": "code",
      "metadata": {
        "colab": {
          "base_uri": "https://localhost:8080/"
        },
        "id": "WwhCzY7kBVx7",
        "outputId": "8246de9e-bfa0-4efb-8853-5d6fbfc25b00"
      },
      "source": [
        "s = \"hello world\"\n",
        "\n",
        "# To check all the modules/methods for the string data types\n",
        "dir(str)\n",
        "\n",
        "len(s)"
      ],
      "execution_count": 30,
      "outputs": [
        {
          "output_type": "execute_result",
          "data": {
            "text/plain": [
              "11"
            ]
          },
          "metadata": {
            "tags": []
          },
          "execution_count": 30
        }
      ]
    },
    {
      "cell_type": "code",
      "metadata": {
        "colab": {
          "base_uri": "https://localhost:8080/"
        },
        "id": "DMFRB5l4Bv2X",
        "outputId": "cab93728-6540-441d-fd62-1903b88d25cb"
      },
      "source": [
        "s = s.upper()\n",
        "print(s)"
      ],
      "execution_count": 32,
      "outputs": [
        {
          "output_type": "stream",
          "text": [
            "HELLO WORLD\n"
          ],
          "name": "stdout"
        }
      ]
    },
    {
      "cell_type": "code",
      "metadata": {
        "colab": {
          "base_uri": "https://localhost:8080/"
        },
        "id": "26SpQnqvB5ih",
        "outputId": "917660d9-bda9-4591-a791-373f3cf6f31a"
      },
      "source": [
        "s = \"hello\"\n",
        "s1 = \"World\"\n",
        "s2 = s+\" \"+s1\n",
        "print(s2)\n",
        "print(s1*2)"
      ],
      "execution_count": 35,
      "outputs": [
        {
          "output_type": "stream",
          "text": [
            "hello World\n",
            "WorldWorld\n"
          ],
          "name": "stdout"
        }
      ]
    },
    {
      "cell_type": "code",
      "metadata": {
        "colab": {
          "base_uri": "https://localhost:8080/"
        },
        "id": "WfDCI14-CKpM",
        "outputId": "c9424506-a38b-4706-faba-3750979d3aaf"
      },
      "source": [
        "print('z' in s)\n",
        "print('h' in s)"
      ],
      "execution_count": 38,
      "outputs": [
        {
          "output_type": "stream",
          "text": [
            "False\n",
            "True\n"
          ],
          "name": "stdout"
        }
      ]
    },
    {
      "cell_type": "code",
      "metadata": {
        "colab": {
          "base_uri": "https://localhost:8080/"
        },
        "id": "9xp_x8dZEQvT",
        "outputId": "798a4d22-8cf0-4d7c-c6c8-9bee3003ca7b"
      },
      "source": [
        "#largest of 3 numbers\n",
        "\n",
        "a = int(input(\"Enter the value of 1st number: \"))\n",
        "b = int(input(\"Enter the value of 2nd number: \"))\n",
        "c = int(input(\"Enter the value of 3rd number: \"))\n",
        "\n",
        "if a>b and a>c:\n",
        "  print(\"a or 1st No is larget No\")\n",
        "  print(\"Your largest No is \",a)\n",
        "if b>a and b>c:\n",
        "  print(\"b or 2nd No is larget No\")\n",
        "  print(\"Your largest No is \",b)\n",
        "if c>a and c>b:\n",
        "  print(\"c or 3rd No is larget No\")\n",
        "  print(\"Your largest No is \",c)"
      ],
      "execution_count": 41,
      "outputs": [
        {
          "output_type": "stream",
          "text": [
            "Enter the value of 1st number: 20\n",
            "Enter the value of 2nd number: 30\n",
            "Enter the value of 3rd number: 50\n",
            "c or 3rd No is larget No\n",
            "Your largest No is  50\n"
          ],
          "name": "stdout"
        }
      ]
    },
    {
      "cell_type": "code",
      "metadata": {
        "colab": {
          "base_uri": "https://localhost:8080/"
        },
        "id": "iRQnZHqPFTPk",
        "outputId": "20727c37-429f-4c86-85bb-c1ab8006867a"
      },
      "source": [
        "age = int(input(\"Enter your age \"))\n",
        "\n",
        "if age >= 18:\n",
        "  print(\"You are eligible for the vaccination\")\n",
        "else:\n",
        "  print(\"You are not eligible\")"
      ],
      "execution_count": 43,
      "outputs": [
        {
          "output_type": "stream",
          "text": [
            "Enter your age 10\n",
            "You are not eligible\n"
          ],
          "name": "stdout"
        }
      ]
    },
    {
      "cell_type": "markdown",
      "metadata": {
        "id": "XeHcKAS0HZAJ"
      },
      "source": [
        "LOOPS"
      ]
    },
    {
      "cell_type": "code",
      "metadata": {
        "colab": {
          "base_uri": "https://localhost:8080/"
        },
        "id": "ZRTLbbhVGfGo",
        "outputId": "2a4d7820-7ece-4d43-fbed-53bfe91509f9"
      },
      "source": [
        "#when we want to execute certain code for n no of times or for reusability concept\n",
        "# USING\n",
        "  # FOR\n",
        "  # WHILE\n",
        "\n",
        "# FOR LOOP\n",
        "s = \"hello\"\n",
        "l = [10,20,30]\n",
        "for i in l:\n",
        "  print(i)"
      ],
      "execution_count": 45,
      "outputs": [
        {
          "output_type": "stream",
          "text": [
            "10\n",
            "20\n",
            "30\n"
          ],
          "name": "stdout"
        }
      ]
    },
    {
      "cell_type": "markdown",
      "metadata": {
        "id": "6pEPanvDImYJ"
      },
      "source": [
        "RANGE Function"
      ]
    },
    {
      "cell_type": "code",
      "metadata": {
        "id": "59crXlQzIl8F"
      },
      "source": [
        "# range(start, stop, step) \n",
        "# default start from 0, default step 1"
      ],
      "execution_count": null,
      "outputs": []
    },
    {
      "cell_type": "code",
      "metadata": {
        "colab": {
          "base_uri": "https://localhost:8080/"
        },
        "id": "9SYjQ_zoIvMn",
        "outputId": "e4d2db5e-306b-4e29-9e5f-ab90bbe6249c"
      },
      "source": [
        "for i in range(5):        #range(0,5,1) # will work same way\n",
        "  print(i)"
      ],
      "execution_count": 47,
      "outputs": [
        {
          "output_type": "stream",
          "text": [
            "0\n",
            "1\n",
            "2\n",
            "3\n",
            "4\n",
            "5\n",
            "6\n",
            "7\n"
          ],
          "name": "stdout"
        }
      ]
    },
    {
      "cell_type": "code",
      "metadata": {
        "colab": {
          "base_uri": "https://localhost:8080/"
        },
        "id": "vMhXyroDJ_tZ",
        "outputId": "3fb2e738-04d0-4a9d-a82e-27a835be3042"
      },
      "source": [
        "for i in range(1,8):\n",
        "  print(i)"
      ],
      "execution_count": 52,
      "outputs": [
        {
          "output_type": "stream",
          "text": [
            "1\n",
            "2\n",
            "3\n",
            "4\n",
            "5\n",
            "6\n",
            "7\n"
          ],
          "name": "stdout"
        }
      ]
    },
    {
      "cell_type": "code",
      "metadata": {
        "colab": {
          "base_uri": "https://localhost:8080/"
        },
        "id": "6o8p_Q1KI_FJ",
        "outputId": "7be0289c-37b0-43fb-8b26-76c71ed1daee"
      },
      "source": [
        "for i in range(5,16,2):\n",
        "  print(i)"
      ],
      "execution_count": 49,
      "outputs": [
        {
          "output_type": "stream",
          "text": [
            "5\n",
            "7\n",
            "9\n",
            "11\n",
            "13\n",
            "15\n"
          ],
          "name": "stdout"
        }
      ]
    },
    {
      "cell_type": "code",
      "metadata": {
        "colab": {
          "base_uri": "https://localhost:8080/"
        },
        "id": "1zS9zLhPI86T",
        "outputId": "bd43fb4f-bf42-4734-ac2f-55958d09c4e4"
      },
      "source": [
        "n = 2\n",
        "for i in range(1,11):\n",
        "  t = n*i\n",
        "  print(n,\"*\",i,\"=\",t)"
      ],
      "execution_count": 51,
      "outputs": [
        {
          "output_type": "stream",
          "text": [
            "2 * 1 = 2\n",
            "2 * 2 = 4\n",
            "2 * 3 = 6\n",
            "2 * 4 = 8\n",
            "2 * 5 = 10\n",
            "2 * 6 = 12\n",
            "2 * 7 = 14\n",
            "2 * 8 = 16\n",
            "2 * 9 = 18\n",
            "2 * 10 = 20\n"
          ],
          "name": "stdout"
        }
      ]
    },
    {
      "cell_type": "markdown",
      "metadata": {
        "id": "Ao_ASvNsKW9W"
      },
      "source": [
        "Star Pattern"
      ]
    },
    {
      "cell_type": "code",
      "metadata": {
        "colab": {
          "base_uri": "https://localhost:8080/"
        },
        "id": "THicKmS3KIP9",
        "outputId": "ac9881c3-0234-4c8e-cfcc-27d2b8137713"
      },
      "source": [
        "r = int(input(\"No of rows: \"))\n",
        "\n",
        "for i in range(1,r+1):\n",
        "  for j in range(i):\n",
        "    print(\"*\",end=\"\")\n",
        "  print()"
      ],
      "execution_count": 68,
      "outputs": [
        {
          "output_type": "stream",
          "text": [
            "No of rows: 3\n",
            "*\n",
            "**\n",
            "***\n"
          ],
          "name": "stdout"
        }
      ]
    },
    {
      "cell_type": "code",
      "metadata": {
        "colab": {
          "base_uri": "https://localhost:8080/"
        },
        "id": "5N5VYcWPMg0p",
        "outputId": "e36883ff-8f0f-44ce-e436-8ea19c2e3331"
      },
      "source": [
        "for i in range(5):\n",
        "  print(i)\n",
        "  if(i==3):\n",
        "    break   # it stops the loop at that condition only"
      ],
      "execution_count": 70,
      "outputs": [
        {
          "output_type": "stream",
          "text": [
            "0\n",
            "1\n",
            "2\n",
            "3\n"
          ],
          "name": "stdout"
        }
      ]
    },
    {
      "cell_type": "code",
      "metadata": {
        "colab": {
          "base_uri": "https://localhost:8080/"
        },
        "id": "LXRzQ2HfNhX3",
        "outputId": "5d76cee9-e8a7-4d20-c5c2-e9ac6b566bce"
      },
      "source": [
        "for i in range(5):\n",
        "  if(i==3):\n",
        "      continue # it skips that condition or skips the statement below the continue\n",
        "  print(i)"
      ],
      "execution_count": 73,
      "outputs": [
        {
          "output_type": "stream",
          "text": [
            "0\n",
            "1\n",
            "2\n",
            "4\n"
          ],
          "name": "stdout"
        }
      ]
    },
    {
      "cell_type": "code",
      "metadata": {
        "colab": {
          "base_uri": "https://localhost:8080/"
        },
        "id": "kji-qboeOExg",
        "outputId": "3b164727-79cd-45d6-f08d-377d8c1fd7a8"
      },
      "source": [
        "num = [1,2,3,4,5,6,7,8,9]\n",
        "for number in num:\n",
        "  if number % 2 == 0:\n",
        "    pass\n",
        "  else:\n",
        "    print(number)"
      ],
      "execution_count": 75,
      "outputs": [
        {
          "output_type": "stream",
          "text": [
            "1\n",
            "3\n",
            "5\n",
            "7\n",
            "9\n"
          ],
          "name": "stdout"
        }
      ]
    },
    {
      "cell_type": "markdown",
      "metadata": {
        "id": "tvcwmwcHQVbK"
      },
      "source": [
        "WHILE"
      ]
    },
    {
      "cell_type": "code",
      "metadata": {
        "colab": {
          "base_uri": "https://localhost:8080/"
        },
        "id": "54Xb02BnQUrG",
        "outputId": "1ccfee56-8ff0-4399-a59e-2723b550c917"
      },
      "source": [
        "i = 0\n",
        "s = \"text\"\n",
        "while i <len(s):\n",
        "  print(i)\n",
        "  i = i+1"
      ],
      "execution_count": 76,
      "outputs": [
        {
          "output_type": "stream",
          "text": [
            "0\n",
            "1\n",
            "2\n",
            "3\n"
          ],
          "name": "stdout"
        }
      ]
    },
    {
      "cell_type": "code",
      "metadata": {
        "colab": {
          "base_uri": "https://localhost:8080/"
        },
        "id": "_DXA6_faQygb",
        "outputId": "f702a64b-659e-474e-8d81-f1b99776e73a"
      },
      "source": [
        "i = 0\n",
        "s = \"text\"\n",
        "while i <len(s):\n",
        "  if s[i] == 'x':\n",
        "    break\n",
        "  print(i)\n",
        "  i = i+1"
      ],
      "execution_count": 81,
      "outputs": [
        {
          "output_type": "stream",
          "text": [
            "0\n",
            "1\n"
          ],
          "name": "stdout"
        }
      ]
    },
    {
      "cell_type": "code",
      "metadata": {
        "colab": {
          "base_uri": "https://localhost:8080/"
        },
        "id": "JmdGyqzARJeQ",
        "outputId": "82a07be1-1bd8-4f64-eec5-10562d7abe02"
      },
      "source": [
        "i = 1\n",
        "n = 2\n",
        "while i<=10:\n",
        "  print(n,\"*\",i,\"=\",n*i)\n",
        "  i = i+1"
      ],
      "execution_count": 82,
      "outputs": [
        {
          "output_type": "stream",
          "text": [
            "2 * 1 = 2\n",
            "2 * 2 = 4\n",
            "2 * 3 = 6\n",
            "2 * 4 = 8\n",
            "2 * 5 = 10\n",
            "2 * 6 = 12\n",
            "2 * 7 = 14\n",
            "2 * 8 = 16\n",
            "2 * 9 = 18\n",
            "2 * 10 = 20\n"
          ],
          "name": "stdout"
        }
      ]
    },
    {
      "cell_type": "markdown",
      "metadata": {
        "id": "j-uP3a50RuaW"
      },
      "source": [
        "List"
      ]
    },
    {
      "cell_type": "code",
      "metadata": {
        "colab": {
          "base_uri": "https://localhost:8080/"
        },
        "id": "KeThtzmwRwvQ",
        "outputId": "01985f31-7429-4704-e5e0-a48bcf1cd0f7"
      },
      "source": [
        "l = []\n",
        "l = [1,2,3,4,5]\n",
        "for i in l:\n",
        "  print(i)"
      ],
      "execution_count": 83,
      "outputs": [
        {
          "output_type": "stream",
          "text": [
            "1\n",
            "2\n",
            "3\n",
            "4\n",
            "5\n"
          ],
          "name": "stdout"
        }
      ]
    },
    {
      "cell_type": "code",
      "metadata": {
        "colab": {
          "base_uri": "https://localhost:8080/"
        },
        "id": "gDPV9oi1SPwX",
        "outputId": "d2027e00-2e11-4e25-d97c-fe9c7c10f001"
      },
      "source": [
        "l = [1,\"Tim\",5.63]\n",
        "l[0]"
      ],
      "execution_count": 84,
      "outputs": [
        {
          "output_type": "execute_result",
          "data": {
            "text/plain": [
              "5.63"
            ]
          },
          "metadata": {
            "tags": []
          },
          "execution_count": 84
        }
      ]
    },
    {
      "cell_type": "code",
      "metadata": {
        "colab": {
          "base_uri": "https://localhost:8080/",
          "height": 35
        },
        "id": "pdykAG4zSdU2",
        "outputId": "e0346f03-f8ee-48c7-ddad-384b1a95d109"
      },
      "source": [
        "l[1]"
      ],
      "execution_count": 85,
      "outputs": [
        {
          "output_type": "execute_result",
          "data": {
            "application/vnd.google.colaboratory.intrinsic+json": {
              "type": "string"
            },
            "text/plain": [
              "'Tim'"
            ]
          },
          "metadata": {
            "tags": []
          },
          "execution_count": 85
        }
      ]
    },
    {
      "cell_type": "code",
      "metadata": {
        "colab": {
          "base_uri": "https://localhost:8080/"
        },
        "id": "YpAC2Ro3SfAc",
        "outputId": "2b9f0d42-8df9-43a6-d9e6-7bf2bfc9870a"
      },
      "source": [
        "l[2]"
      ],
      "execution_count": 86,
      "outputs": [
        {
          "output_type": "execute_result",
          "data": {
            "text/plain": [
              "5.63"
            ]
          },
          "metadata": {
            "tags": []
          },
          "execution_count": 86
        }
      ]
    },
    {
      "cell_type": "code",
      "metadata": {
        "id": "HFj6TkX1Si82"
      },
      "source": [
        "l[2] = 21"
      ],
      "execution_count": 87,
      "outputs": []
    },
    {
      "cell_type": "code",
      "metadata": {
        "colab": {
          "base_uri": "https://localhost:8080/"
        },
        "id": "21ibf1-ZSm2g",
        "outputId": "9241d8c2-3346-44e7-9d78-9110366af934"
      },
      "source": [
        "print(l)"
      ],
      "execution_count": 88,
      "outputs": [
        {
          "output_type": "stream",
          "text": [
            "[1, 'Tim', 21]\n"
          ],
          "name": "stdout"
        }
      ]
    },
    {
      "cell_type": "code",
      "metadata": {
        "colab": {
          "base_uri": "https://localhost:8080/"
        },
        "id": "7hshKklZSvBN",
        "outputId": "d9f3ea66-a490-4607-e971-2a85e163f7ae"
      },
      "source": [
        "print(type(l))"
      ],
      "execution_count": 89,
      "outputs": [
        {
          "output_type": "stream",
          "text": [
            "<class 'list'>\n"
          ],
          "name": "stdout"
        }
      ]
    },
    {
      "cell_type": "code",
      "metadata": {
        "colab": {
          "base_uri": "https://localhost:8080/"
        },
        "id": "yVKtYF8uTS9x",
        "outputId": "229e1dcb-b2f7-47c3-a633-0d02f490bb3d"
      },
      "source": [
        "dir(list)"
      ],
      "execution_count": 90,
      "outputs": [
        {
          "output_type": "execute_result",
          "data": {
            "text/plain": [
              "['__add__',\n",
              " '__class__',\n",
              " '__contains__',\n",
              " '__delattr__',\n",
              " '__delitem__',\n",
              " '__dir__',\n",
              " '__doc__',\n",
              " '__eq__',\n",
              " '__format__',\n",
              " '__ge__',\n",
              " '__getattribute__',\n",
              " '__getitem__',\n",
              " '__gt__',\n",
              " '__hash__',\n",
              " '__iadd__',\n",
              " '__imul__',\n",
              " '__init__',\n",
              " '__init_subclass__',\n",
              " '__iter__',\n",
              " '__le__',\n",
              " '__len__',\n",
              " '__lt__',\n",
              " '__mul__',\n",
              " '__ne__',\n",
              " '__new__',\n",
              " '__reduce__',\n",
              " '__reduce_ex__',\n",
              " '__repr__',\n",
              " '__reversed__',\n",
              " '__rmul__',\n",
              " '__setattr__',\n",
              " '__setitem__',\n",
              " '__sizeof__',\n",
              " '__str__',\n",
              " '__subclasshook__',\n",
              " 'append',\n",
              " 'clear',\n",
              " 'copy',\n",
              " 'count',\n",
              " 'extend',\n",
              " 'index',\n",
              " 'insert',\n",
              " 'pop',\n",
              " 'remove',\n",
              " 'reverse',\n",
              " 'sort']"
            ]
          },
          "metadata": {
            "tags": []
          },
          "execution_count": 90
        }
      ]
    }
  ]
}