{
  "nbformat": 4,
  "nbformat_minor": 0,
  "metadata": {
    "colab": {
      "name": "Task_Day4.ipynb",
      "provenance": [],
      "collapsed_sections": []
    },
    "kernelspec": {
      "name": "python3",
      "display_name": "Python 3"
    },
    "language_info": {
      "name": "python"
    }
  },
  "cells": [
    {
      "cell_type": "markdown",
      "metadata": {
        "id": "43VjTjQOeYi6"
      },
      "source": [
        "***Name: SADDAM HUSSAIN***\n",
        "\n",
        "***REG ID: GO_STP_6834***\n",
        "\n",
        "\n",
        "---\n",
        "\n"
      ]
    },
    {
      "cell_type": "markdown",
      "metadata": {
        "id": "FaRKuUcoePsz"
      },
      "source": [
        "Q.1 Write a Python Program to sort (ascending and descending) a dictionary by value."
      ]
    },
    {
      "cell_type": "code",
      "metadata": {
        "colab": {
          "base_uri": "https://localhost:8080/"
        },
        "id": "kUcfFDsdTMAp",
        "outputId": "62baeedc-7c3a-4e4e-81e0-be809178f33b"
      },
      "source": [
        "dict = {\n",
        "  \"name\": \"Arya\",\n",
        "  \"univer\": \"MIT\",\n",
        "  \"Course\": \"DS\"\n",
        "}\n",
        "\n",
        "#Ascending\n",
        "sortedData = sorted(dict.values(), reverse=False)\n",
        "sd = {}\n",
        "\n",
        "for i in sortedData:\n",
        "  for k in dict.keys():\n",
        "    if dict[k] == i:\n",
        "      sd[k] = dict[k]\n",
        "\n",
        "print(\"In Ascending Order: \",sd)\n",
        "\n",
        "#Descending\n",
        "sDDec = sorted(dict.values(), reverse=True)\n",
        "sdDecData = {}\n",
        "\n",
        "for i in sDDec:\n",
        "  for k in dict.keys():\n",
        "    if dict[k] == i:\n",
        "      sdDecData[k] = dict[k]\n",
        "\n",
        "print(\"\\nIn Descending Order: \", sdDecData)"
      ],
      "execution_count": 46,
      "outputs": [
        {
          "output_type": "stream",
          "text": [
            "In Ascending Order:  {'name': 'Arya', 'Course': 'DS', 'univer': 'MIT'}\n",
            "\n",
            "In Descending Order:  {'univer': 'MIT', 'Course': 'DS', 'name': 'Arya'}\n"
          ],
          "name": "stdout"
        }
      ]
    },
    {
      "cell_type": "markdown",
      "metadata": {
        "id": "SmNICuHWe34K"
      },
      "source": [
        "Q.2 Write a Python Program to add a key to a dictionary. \n",
        "\n",
        "Sample Dictionary : {0: 10, 1: 20}\n",
        "\n",
        "Expected Result : {0: 10, 1: 20, 2: 30}"
      ]
    },
    {
      "cell_type": "code",
      "metadata": {
        "colab": {
          "base_uri": "https://localhost:8080/"
        },
        "id": "1w4YNYjTW3g7",
        "outputId": "618f87ae-88d4-47c4-ef61-0f7397b60a4b"
      },
      "source": [
        "d1 = {0: 10, 1: 20}\n",
        "d1[2] = 30\n",
        "print(d1)"
      ],
      "execution_count": 21,
      "outputs": [
        {
          "output_type": "stream",
          "text": [
            "{0: 10, 1: 20, 2: 30}\n"
          ],
          "name": "stdout"
        }
      ]
    },
    {
      "cell_type": "markdown",
      "metadata": {
        "id": "DNhbmP7Te8v7"
      },
      "source": [
        "Q.3 Write a  program asks for City name and Temperature and builds a dictionary using that Later on you can input City name and it will tell you the Temperature of that City"
      ]
    },
    {
      "cell_type": "code",
      "metadata": {
        "colab": {
          "base_uri": "https://localhost:8080/"
        },
        "id": "URbyx2luX0dd",
        "outputId": "0e7c485c-9d7c-4d3c-86c9-dee39c6e5c32"
      },
      "source": [
        "data = {}\n",
        "city = input(\"Enter city name: \")\n",
        "temp = int(input(\"Enter city temp: \"))\n",
        "\n",
        "data[city] =temp\n",
        "\n",
        "cityQuery = input(\"Enter city name for which u need data: \")\n",
        "print(data[cityQuery])\n"
      ],
      "execution_count": 25,
      "outputs": [
        {
          "output_type": "stream",
          "text": [
            "Enter city name: Bangalore\n",
            "Enter city temp: 23\n",
            "Enter city name for which u need data: Bangalore\n",
            "23\n"
          ],
          "name": "stdout"
        }
      ]
    },
    {
      "cell_type": "markdown",
      "metadata": {
        "id": "01O8iGRwfDtF"
      },
      "source": [
        "Q. 4 Write a Python program to convert list to list of dictionaries.\n",
        "\n",
        "Sample lists: [\"Black\", \"Red\", \"Maroon\", \"Yellow\"], [\"#000000\", \"#FF0000\", \"#800000\", \"#FFFF00\"]\n",
        "\n",
        "Expected Output: [{'color_name': 'Black', 'color_code': '#000000'}, {'color_name': 'Red', 'color_code': '#FF0000'}, {'color_name': 'Maroon', 'color_code': '#800000'}, {'color_name': 'Yellow', 'color_code': '#FFFF00'}]"
      ]
    },
    {
      "cell_type": "code",
      "metadata": {
        "colab": {
          "base_uri": "https://localhost:8080/"
        },
        "id": "mvKKUmH6YwYJ",
        "outputId": "e0a2cd49-0d84-461a-d07a-5af1bff56182"
      },
      "source": [
        "color_name_list = [\"Black\", \"Red\", \"Maroon\", \"Yellow\"]\n",
        "color_code_list = [\"#000000\", \"#FF0000\", \"#800000\", \"#FFFF00\"]\n",
        "\n",
        "color_list = []\n",
        "for i in range(len(color_name_list)):\n",
        "  color_dict = {}\n",
        "  color_dict[\"color_name\"] = color_name_list[i]\n",
        "  color_dict[\"color_code\"] = color_code_list[i]\n",
        "  color_list.append(color_dict)\n",
        "\n",
        "print(color_list)"
      ],
      "execution_count": 33,
      "outputs": [
        {
          "output_type": "stream",
          "text": [
            "[{'color_name': 'Black', 'color_code': '#000000'}, {'color_name': 'Red', 'color_code': '#FF0000'}, {'color_name': 'Maroon', 'color_code': '#800000'}, {'color_name': 'Yellow', 'color_code': '#FFFF00'}]\n"
          ],
          "name": "stdout"
        }
      ]
    },
    {
      "cell_type": "markdown",
      "metadata": {
        "id": "pmwabImNfJ_N"
      },
      "source": [
        " Q. 5 We have following information on Employees and their Salary (Salary is in lakhs)\n",
        "\n",
        "Using above create a dictionary of Employees and their Salary\n",
        "\n",
        "Write a program that asks user for three type of inputs,\n",
        "\n",
        "print: if user enter print then it should print all Employees with their Salary in this format,\n",
        "\n",
        "John ==>14\n",
        "Smith ==>13\n",
        "Alice ==>32\n",
        "Daneil ==>21\n",
        "\n",
        "add: if user input adds then it should further ask for an Employee name to add. If Employee already exists in our dataset then it should print that it exists and do nothing. If it doesn't then it asks for Salary and add that new Employee/Salary in our dictionary and print it\n",
        "\n",
        "remove: when user inputs remove it should ask for an Employee to remove. If an Employee exists in our dictionary then remove it and print a new dictionary using format shown above in (a). Else print that Employee doesn't exist!\n",
        "\n",
        "query: on this again ask the user for which Employee he or she wants to query. When a user inputs that Employee it will print the Salary of that Employee."
      ]
    },
    {
      "cell_type": "code",
      "metadata": {
        "colab": {
          "base_uri": "https://localhost:8080/"
        },
        "id": "UHElD2i8b8xb",
        "outputId": "cb25f6e8-68f0-4d92-9b6e-065f0f569a55"
      },
      "source": [
        "empData = {\"John\":14,\"Smith\":13, \"Alice\":32, \"Daniel\": 21}\n",
        "\n",
        "print(''' Please select your option from below option\n",
        "          1 Print\n",
        "          2 Add\n",
        "          3 Remove\n",
        "          4 Query''')\n",
        "userEntry = input(\"Please select youur options: \")\n",
        "count = 1\n",
        "if userEntry.lower() == \"print\":\n",
        "  for k,v in empData.items():\n",
        "    print(count, k, \"==>\", v)\n",
        "    count += 1\n",
        "\n",
        "elif userEntry.lower() == \"add\":\n",
        "  empName = input(\"Please enter the emp name to be added: \")\n",
        "  if empName in empData.keys():\n",
        "    print(\"Employee already exists\")\n",
        "  else:\n",
        "    empSalary = int(input(\"Please enter emp Salary: \"))\n",
        "    empData[empName] = empSalary\n",
        "    print(empData)\n",
        "\n",
        "elif userEntry.lower() == \"remove\":\n",
        "  empName = input(\"Please enter the emp name to be removed: \")\n",
        "  if empName in empData.keys():\n",
        "    empData.pop(empName)\n",
        "    for k,v in empData.items():\n",
        "      print(count, k, \"==>\", v)\n",
        "      count += 1\n",
        "\n",
        "  else:\n",
        "    print(\"Employee doesn't exists\")\n",
        "\n",
        "elif userEntry.lower() == \"query\":\n",
        "  empName = input(\"Please enter the emp name to be removed: \")\n",
        "  print(\"Salary of\",empName, \"is\", empData[empName])\n",
        "\n",
        "else:\n",
        "  print(\"Incorrect Entry\")"
      ],
      "execution_count": 56,
      "outputs": [
        {
          "output_type": "stream",
          "text": [
            " Please select your option from below option\n",
            "          1 Print\n",
            "          2 Add\n",
            "          3 Remove\n",
            "          4 Query\n",
            "Please select youur options: remove\n",
            "Please enter the emp name to be removed: John\n",
            "1 Smith ==> 13\n",
            "2 Alice ==> 32\n",
            "3 Daniel ==> 21\n"
          ],
          "name": "stdout"
        }
      ]
    },
    {
      "cell_type": "markdown",
      "metadata": {
        "id": "xFsCbWmNGKNU"
      },
      "source": [
        "Set - sets are unordered, and does not allow duplicate values, can be used when we don't want any duplicate values for the variable.\n",
        "\n",
        "Frozenset - can be used to covert the variable to immutable or unchangeable."
      ]
    },
    {
      "cell_type": "markdown",
      "metadata": {
        "id": "6EhyXCDvfgT8"
      },
      "source": [
        "# Questions on Sets-"
      ]
    },
    {
      "cell_type": "markdown",
      "metadata": {
        "id": "--tHwBTsfYmd"
      },
      "source": [
        " Q.1 What is the difference between a set and a frozenset? Create any set and try to use frozenset(setname)."
      ]
    },
    {
      "cell_type": "code",
      "metadata": {
        "id": "Yy5NHjVJF7J-"
      },
      "source": [
        "setData = {\"One\",\"Two\",\"Three\"}\n",
        "newData = frozenset(setData)"
      ],
      "execution_count": 58,
      "outputs": []
    },
    {
      "cell_type": "markdown",
      "metadata": {
        "id": "E7VRK77kfkIV"
      },
      "source": [
        "Q.2 Find the elements in a given set that are not in another set\n",
        "\n",
        "set1 = {10,20,30,40,50}\n",
        "\n",
        "set2 = {40,50,60,70,80}\n",
        "\n",
        "Difference between set1 and set2 is {10,20,30}"
      ]
    },
    {
      "cell_type": "code",
      "metadata": {
        "colab": {
          "base_uri": "https://localhost:8080/"
        },
        "id": "rmVCpQH1HBiW",
        "outputId": "2feda279-2487-4205-8ef9-2e02f5a16bc7"
      },
      "source": [
        "set1 = {10,20,30,40,50}\n",
        "set2 = {40,50,60,70,80}\n",
        "\n",
        "#dif = set1-set2\n",
        "dif = set1.difference(set2)\n",
        "print(dif)"
      ],
      "execution_count": 60,
      "outputs": [
        {
          "output_type": "stream",
          "text": [
            "{10, 20, 30}\n"
          ],
          "name": "stdout"
        }
      ]
    }
  ]
}