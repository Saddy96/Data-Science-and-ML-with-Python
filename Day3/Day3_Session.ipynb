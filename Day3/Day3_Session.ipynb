{
  "nbformat": 4,
  "nbformat_minor": 0,
  "metadata": {
    "colab": {
      "name": "Day3_Session.ipynb",
      "provenance": [],
      "collapsed_sections": []
    },
    "kernelspec": {
      "name": "python3",
      "display_name": "Python 3"
    },
    "language_info": {
      "name": "python"
    }
  },
  "cells": [
    {
      "cell_type": "code",
      "metadata": {
        "colab": {
          "base_uri": "https://localhost:8080/"
        },
        "id": "rrSixmhUWYts",
        "outputId": "9ed71441-4f2e-4954-beae-e15b9a8f7dc2"
      },
      "source": [
        "l1 = [1,2,3]\n",
        "l2 = [\"apple\", \"banana\", \"orange\", \"mango\"]\n",
        "\n",
        "l = []\n",
        "#l = list()\n",
        "t = (1,2,3)\n",
        "l = list(t)\n",
        "print(l)"
      ],
      "execution_count": null,
      "outputs": [
        {
          "output_type": "stream",
          "text": [
            "[1, 2, 3]\n"
          ],
          "name": "stdout"
        }
      ]
    },
    {
      "cell_type": "code",
      "metadata": {
        "colab": {
          "base_uri": "https://localhost:8080/"
        },
        "id": "vT97cHIuZzxm",
        "outputId": "2e602b03-089b-4903-ab49-c0682fd091f3"
      },
      "source": [
        "l = list()\n",
        "n = int(input(\"Enter the no of list data \"))\n",
        "\n",
        "for i in range(n):\n",
        "  item = input(\"Enter the item value\")\n",
        "  l.append(item)\n",
        "  print(l)"
      ],
      "execution_count": null,
      "outputs": [
        {
          "output_type": "stream",
          "text": [
            "Enter the no of list data 5\n",
            "Enter the item value10\n",
            "['10']\n",
            "Enter the item value20\n",
            "['10', '20']\n",
            "Enter the item value50\n",
            "['10', '20', '50']\n",
            "Enter the item value60\n",
            "['10', '20', '50', '60']\n",
            "Enter the item value50\n",
            "['10', '20', '50', '60', '50']\n"
          ],
          "name": "stdout"
        }
      ]
    },
    {
      "cell_type": "markdown",
      "metadata": {
        "id": "-6JarSaMaq9-"
      },
      "source": [
        "Accessing list elements"
      ]
    },
    {
      "cell_type": "code",
      "metadata": {
        "colab": {
          "base_uri": "https://localhost:8080/",
          "height": 35
        },
        "id": "iFQutC4JbXbp",
        "outputId": "63eca466-46f0-46b5-f94e-90c62ca2566b"
      },
      "source": [
        "l[3]"
      ],
      "execution_count": null,
      "outputs": [
        {
          "output_type": "execute_result",
          "data": {
            "application/vnd.google.colaboratory.intrinsic+json": {
              "type": "string"
            },
            "text/plain": [
              "'60'"
            ]
          },
          "metadata": {
            "tags": []
          },
          "execution_count": 9
        }
      ]
    },
    {
      "cell_type": "code",
      "metadata": {
        "colab": {
          "base_uri": "https://localhost:8080/",
          "height": 35
        },
        "id": "aC_5xZkAbTPS",
        "outputId": "2dacd2f8-27a2-4eee-b5db-e031bc7b8604"
      },
      "source": [
        "l[0]"
      ],
      "execution_count": null,
      "outputs": [
        {
          "output_type": "execute_result",
          "data": {
            "application/vnd.google.colaboratory.intrinsic+json": {
              "type": "string"
            },
            "text/plain": [
              "'10'"
            ]
          },
          "metadata": {
            "tags": []
          },
          "execution_count": 8
        }
      ]
    },
    {
      "cell_type": "code",
      "metadata": {
        "colab": {
          "base_uri": "https://localhost:8080/",
          "height": 35
        },
        "id": "FG7rENT6bZ52",
        "outputId": "bc91f3f2-2792-4c88-9269-300854efce74"
      },
      "source": [
        "l[-1]"
      ],
      "execution_count": null,
      "outputs": [
        {
          "output_type": "execute_result",
          "data": {
            "application/vnd.google.colaboratory.intrinsic+json": {
              "type": "string"
            },
            "text/plain": [
              "'50'"
            ]
          },
          "metadata": {
            "tags": []
          },
          "execution_count": 10
        }
      ]
    },
    {
      "cell_type": "code",
      "metadata": {
        "colab": {
          "base_uri": "https://localhost:8080/"
        },
        "id": "Y65JX_wOaJc9",
        "outputId": "7d273d03-b18e-4ee7-c59b-0c73afe16a52"
      },
      "source": [
        "l[2] = \"NewValue\"\n",
        "print(l)"
      ],
      "execution_count": null,
      "outputs": [
        {
          "output_type": "stream",
          "text": [
            "['10', '20', 'NewValue', '60', '50']\n"
          ],
          "name": "stdout"
        }
      ]
    },
    {
      "cell_type": "code",
      "metadata": {
        "colab": {
          "base_uri": "https://localhost:8080/"
        },
        "id": "JGrCnYn6cEHx",
        "outputId": "afadae0b-e26e-4b12-8851-775496db3816"
      },
      "source": [
        "l.insert(2,\"NewValueDF\")\n",
        "print(l)"
      ],
      "execution_count": null,
      "outputs": [
        {
          "output_type": "stream",
          "text": [
            "['10', '20', 'NewValueDF', 'NewValueDF', 'NewValue', '60', '50']\n"
          ],
          "name": "stdout"
        }
      ]
    },
    {
      "cell_type": "markdown",
      "metadata": {
        "id": "Qq0Kc5zwc3Bx"
      },
      "source": [
        "Nested List"
      ]
    },
    {
      "cell_type": "code",
      "metadata": {
        "colab": {
          "base_uri": "https://localhost:8080/"
        },
        "id": "LmT6URHuc5OE",
        "outputId": "fc292d57-3ccb-4ccd-b29e-dcdb6ece482b"
      },
      "source": [
        "lNew = [12,13,['a','b','5'],78]\n",
        "print(lNew)"
      ],
      "execution_count": null,
      "outputs": [
        {
          "output_type": "stream",
          "text": [
            "[12, 13, ['a', 'b', '5'], 78]\n"
          ],
          "name": "stdout"
        }
      ]
    },
    {
      "cell_type": "code",
      "metadata": {
        "colab": {
          "base_uri": "https://localhost:8080/"
        },
        "id": "bTcSHAcgqFhi",
        "outputId": "6d73a55a-1c18-46ab-b509-7f4e8c3c3f65"
      },
      "source": [
        "l = [1,2,3,4]\n",
        "lnew = [5,6]\n",
        "l.extend(lnew)\n",
        "print(l)"
      ],
      "execution_count": null,
      "outputs": [
        {
          "output_type": "stream",
          "text": [
            "[1, 2, 3, 4, 5, 6]\n"
          ],
          "name": "stdout"
        }
      ]
    },
    {
      "cell_type": "markdown",
      "metadata": {
        "id": "xs6tiTS1qkp7"
      },
      "source": [
        "TUPLE"
      ]
    },
    {
      "cell_type": "code",
      "metadata": {
        "colab": {
          "base_uri": "https://localhost:8080/"
        },
        "id": "jC0Q-AvmqkNL",
        "outputId": "5318c957-4bd8-4b3f-8fc2-fd4f248c23bb"
      },
      "source": [
        "x,y = 5,8\n",
        "a = (x,y)\n",
        "print(a)"
      ],
      "execution_count": null,
      "outputs": [
        {
          "output_type": "stream",
          "text": [
            "(5, 8)\n"
          ],
          "name": "stdout"
        }
      ]
    },
    {
      "cell_type": "code",
      "metadata": {
        "colab": {
          "base_uri": "https://localhost:8080/"
        },
        "id": "TBXVwcesr2QD",
        "outputId": "b925b26c-0c28-4fda-b81b-29691cc394a1"
      },
      "source": [
        "tuple = ('a','b','c','d')\n",
        "print('a' in tuple)"
      ],
      "execution_count": null,
      "outputs": [
        {
          "output_type": "stream",
          "text": [
            "True\n"
          ],
          "name": "stdout"
        }
      ]
    },
    {
      "cell_type": "code",
      "metadata": {
        "colab": {
          "base_uri": "https://localhost:8080/",
          "height": 35
        },
        "id": "oIhWuD37r---",
        "outputId": "317b81a9-eabe-420a-a7d6-ca81e13548f9"
      },
      "source": [
        "tuple[0]"
      ],
      "execution_count": null,
      "outputs": [
        {
          "output_type": "execute_result",
          "data": {
            "application/vnd.google.colaboratory.intrinsic+json": {
              "type": "string"
            },
            "text/plain": [
              "'a'"
            ]
          },
          "metadata": {
            "tags": []
          },
          "execution_count": 5
        }
      ]
    },
    {
      "cell_type": "code",
      "metadata": {
        "colab": {
          "base_uri": "https://localhost:8080/",
          "height": 35
        },
        "id": "615Gwnc-sB1t",
        "outputId": "4d39135a-0996-4452-e3a0-704269bd2343"
      },
      "source": [
        "tuple[2]"
      ],
      "execution_count": null,
      "outputs": [
        {
          "output_type": "execute_result",
          "data": {
            "application/vnd.google.colaboratory.intrinsic+json": {
              "type": "string"
            },
            "text/plain": [
              "'c'"
            ]
          },
          "metadata": {
            "tags": []
          },
          "execution_count": 6
        }
      ]
    },
    {
      "cell_type": "code",
      "metadata": {
        "colab": {
          "base_uri": "https://localhost:8080/"
        },
        "id": "xMwMFPwssE81",
        "outputId": "3516d29e-e604-4a10-b075-e48b4d5b14c0"
      },
      "source": [
        "t = (1,2,3,'Text')\n",
        "print(t)"
      ],
      "execution_count": null,
      "outputs": [
        {
          "output_type": "stream",
          "text": [
            "(1, 2, 3, 'Text')\n"
          ],
          "name": "stdout"
        }
      ]
    },
    {
      "cell_type": "code",
      "metadata": {
        "colab": {
          "base_uri": "https://localhost:8080/"
        },
        "id": "CoGTPWK1sUvl",
        "outputId": "6a6d85ed-ee83-423e-e4f0-764e5562ff93"
      },
      "source": [
        "type(t)"
      ],
      "execution_count": null,
      "outputs": [
        {
          "output_type": "execute_result",
          "data": {
            "text/plain": [
              "tuple"
            ]
          },
          "metadata": {
            "tags": []
          },
          "execution_count": 8
        }
      ]
    },
    {
      "cell_type": "markdown",
      "metadata": {
        "id": "XGYm8ORLtFMD"
      },
      "source": [
        "DICTIONARY"
      ]
    },
    {
      "cell_type": "code",
      "metadata": {
        "colab": {
          "base_uri": "https://localhost:8080/"
        },
        "id": "918b77JOtHf-",
        "outputId": "3928fe10-fc36-4eca-fb8a-2c94c768ad73"
      },
      "source": [
        "d = dict()\n",
        "print(d)"
      ],
      "execution_count": null,
      "outputs": [
        {
          "output_type": "stream",
          "text": [
            "{}\n"
          ],
          "name": "stdout"
        }
      ]
    },
    {
      "cell_type": "code",
      "metadata": {
        "colab": {
          "base_uri": "https://localhost:8080/"
        },
        "id": "eeD1GyrUuYpX",
        "outputId": "9cef5b24-daaf-4d8d-9f01-3e8cec7189a7"
      },
      "source": [
        "type(d)"
      ],
      "execution_count": null,
      "outputs": [
        {
          "output_type": "execute_result",
          "data": {
            "text/plain": [
              "dict"
            ]
          },
          "metadata": {
            "tags": []
          },
          "execution_count": 10
        }
      ]
    },
    {
      "cell_type": "code",
      "metadata": {
        "colab": {
          "base_uri": "https://localhost:8080/"
        },
        "id": "gGjJPGFsubVq",
        "outputId": "f0b8b66d-179a-4e44-bfe8-3c0e4e8ed0c3"
      },
      "source": [
        "dir(d)"
      ],
      "execution_count": null,
      "outputs": [
        {
          "output_type": "execute_result",
          "data": {
            "text/plain": [
              "['__class__',\n",
              " '__contains__',\n",
              " '__delattr__',\n",
              " '__delitem__',\n",
              " '__dir__',\n",
              " '__doc__',\n",
              " '__eq__',\n",
              " '__format__',\n",
              " '__ge__',\n",
              " '__getattribute__',\n",
              " '__getitem__',\n",
              " '__gt__',\n",
              " '__hash__',\n",
              " '__init__',\n",
              " '__init_subclass__',\n",
              " '__iter__',\n",
              " '__le__',\n",
              " '__len__',\n",
              " '__lt__',\n",
              " '__ne__',\n",
              " '__new__',\n",
              " '__reduce__',\n",
              " '__reduce_ex__',\n",
              " '__repr__',\n",
              " '__setattr__',\n",
              " '__setitem__',\n",
              " '__sizeof__',\n",
              " '__str__',\n",
              " '__subclasshook__',\n",
              " 'clear',\n",
              " 'copy',\n",
              " 'fromkeys',\n",
              " 'get',\n",
              " 'items',\n",
              " 'keys',\n",
              " 'pop',\n",
              " 'popitem',\n",
              " 'setdefault',\n",
              " 'update',\n",
              " 'values']"
            ]
          },
          "metadata": {
            "tags": []
          },
          "execution_count": 11
        }
      ]
    },
    {
      "cell_type": "code",
      "metadata": {
        "colab": {
          "base_uri": "https://localhost:8080/"
        },
        "id": "0FUOoZo-uhYe",
        "outputId": "38b8b6fe-b40a-43e3-e6dc-5f44ff3f392e"
      },
      "source": [
        "d = dict({'red':1,'green': 2, 'blue':3})\n",
        "print(d)"
      ],
      "execution_count": null,
      "outputs": [
        {
          "output_type": "stream",
          "text": [
            "{'red': 1, 'green': 2, 'blue': 3}\n"
          ],
          "name": "stdout"
        }
      ]
    },
    {
      "cell_type": "code",
      "metadata": {
        "colab": {
          "base_uri": "https://localhost:8080/"
        },
        "id": "kEEUQeJGuuum",
        "outputId": "32ffe433-0ce7-4c03-e616-a44b41b6dc0e"
      },
      "source": [
        "# or\n",
        "d = {'red':1,'green': 2, 'blue':3, 10:6}\n",
        "print(d)"
      ],
      "execution_count": null,
      "outputs": [
        {
          "output_type": "stream",
          "text": [
            "{'red': 1, 'green': 2, 'blue': 3, 10: 6}\n"
          ],
          "name": "stdout"
        }
      ]
    },
    {
      "cell_type": "code",
      "metadata": {
        "colab": {
          "base_uri": "https://localhost:8080/"
        },
        "id": "ry_OdMHXu7SK",
        "outputId": "3aee7042-2297-4da9-919c-11aa5b9eabf7"
      },
      "source": [
        "type(d)"
      ],
      "execution_count": null,
      "outputs": [
        {
          "output_type": "execute_result",
          "data": {
            "text/plain": [
              "dict"
            ]
          },
          "metadata": {
            "tags": []
          },
          "execution_count": 16
        }
      ]
    },
    {
      "cell_type": "code",
      "metadata": {
        "colab": {
          "base_uri": "https://localhost:8080/"
        },
        "id": "d0Z_68gavQds",
        "outputId": "a4e27aae-171f-4d28-81fc-9bfc40ad36ee"
      },
      "source": [
        "# creating a dictionary from two list\n",
        "l1 = ['red','green','blue']\n",
        "l2 = [1,2,3]\n",
        "d = dict(zip(l1,l2))\n",
        "d"
      ],
      "execution_count": null,
      "outputs": [
        {
          "output_type": "execute_result",
          "data": {
            "text/plain": [
              "{'blue': 3, 'green': 2, 'red': 1}"
            ]
          },
          "metadata": {
            "tags": []
          },
          "execution_count": 18
        }
      ]
    },
    {
      "cell_type": "markdown",
      "metadata": {
        "id": "LcTB3Z-1vrkb"
      },
      "source": [
        "Accessing the elements"
      ]
    },
    {
      "cell_type": "code",
      "metadata": {
        "colab": {
          "base_uri": "https://localhost:8080/"
        },
        "id": "jIlgBGVpvrAI",
        "outputId": "ae81f224-5f85-4657-ac27-f86b89aa4205"
      },
      "source": [
        "d.keys()"
      ],
      "execution_count": null,
      "outputs": [
        {
          "output_type": "execute_result",
          "data": {
            "text/plain": [
              "dict_keys(['red', 'green', 'blue'])"
            ]
          },
          "metadata": {
            "tags": []
          },
          "execution_count": 19
        }
      ]
    },
    {
      "cell_type": "code",
      "metadata": {
        "colab": {
          "base_uri": "https://localhost:8080/"
        },
        "id": "_xURTnd0wjPy",
        "outputId": "7e02e572-96a6-46c8-fe00-02208835b03f"
      },
      "source": [
        "d.values()"
      ],
      "execution_count": null,
      "outputs": [
        {
          "output_type": "execute_result",
          "data": {
            "text/plain": [
              "dict_values([1, 2, 3])"
            ]
          },
          "metadata": {
            "tags": []
          },
          "execution_count": 20
        }
      ]
    },
    {
      "cell_type": "code",
      "metadata": {
        "colab": {
          "base_uri": "https://localhost:8080/"
        },
        "id": "s0OQgLfcwlph",
        "outputId": "a0e39b96-ac45-43ca-80c5-7c252d2ff29f"
      },
      "source": [
        "d.items()"
      ],
      "execution_count": null,
      "outputs": [
        {
          "output_type": "execute_result",
          "data": {
            "text/plain": [
              "dict_items([('red', 1), ('green', 2), ('blue', 3)])"
            ]
          },
          "metadata": {
            "tags": []
          },
          "execution_count": 21
        }
      ]
    },
    {
      "cell_type": "code",
      "metadata": {
        "colab": {
          "base_uri": "https://localhost:8080/"
        },
        "id": "7PH-KwdKw_kY",
        "outputId": "f77ca580-7ac4-4416-b178-f556b599520b"
      },
      "source": [
        "for i in d:\n",
        "  print(i) #Keys\n",
        "  print(d[i]) #Values"
      ],
      "execution_count": null,
      "outputs": [
        {
          "output_type": "stream",
          "text": [
            "red\n",
            "1\n",
            "green\n",
            "2\n",
            "blue\n",
            "3\n"
          ],
          "name": "stdout"
        }
      ]
    },
    {
      "cell_type": "code",
      "metadata": {
        "colab": {
          "base_uri": "https://localhost:8080/"
        },
        "id": "80zdjx-vxK-N",
        "outputId": "a6089046-f67d-4fc5-c70e-5acc92dc0e82"
      },
      "source": [
        "# only the values of the list\n",
        "for i in d.values():\n",
        "  print(i)"
      ],
      "execution_count": null,
      "outputs": [
        {
          "output_type": "stream",
          "text": [
            "1\n",
            "2\n",
            "3\n"
          ],
          "name": "stdout"
        }
      ]
    },
    {
      "cell_type": "code",
      "metadata": {
        "colab": {
          "base_uri": "https://localhost:8080/"
        },
        "id": "ZxMvCyw6xUB0",
        "outputId": "3e4e6d61-172e-4370-e2ff-a50a5a2700be"
      },
      "source": [
        "# only the keys of the list\n",
        "for i in d.keys():\n",
        "  print(i)"
      ],
      "execution_count": null,
      "outputs": [
        {
          "output_type": "stream",
          "text": [
            "red\n",
            "green\n",
            "blue\n"
          ],
          "name": "stdout"
        }
      ]
    },
    {
      "cell_type": "code",
      "metadata": {
        "colab": {
          "base_uri": "https://localhost:8080/"
        },
        "id": "nUojfVeqxYOZ",
        "outputId": "50835f41-55a2-4b39-b5d6-a7849b465fc8"
      },
      "source": [
        "d.get('red')"
      ],
      "execution_count": null,
      "outputs": [
        {
          "output_type": "execute_result",
          "data": {
            "text/plain": [
              "1"
            ]
          },
          "metadata": {
            "tags": []
          },
          "execution_count": 27
        }
      ]
    },
    {
      "cell_type": "code",
      "metadata": {
        "colab": {
          "base_uri": "https://localhost:8080/"
        },
        "id": "ykeYu6SwxiSW",
        "outputId": "07f0d2eb-a7d8-4a09-9159-acada7cbef41"
      },
      "source": [
        "d['red']"
      ],
      "execution_count": null,
      "outputs": [
        {
          "output_type": "execute_result",
          "data": {
            "text/plain": [
              "1"
            ]
          },
          "metadata": {
            "tags": []
          },
          "execution_count": 28
        }
      ]
    },
    {
      "cell_type": "code",
      "metadata": {
        "colab": {
          "base_uri": "https://localhost:8080/"
        },
        "id": "XSzuUg91xk0e",
        "outputId": "9c837d3d-8dd3-4364-fa8b-08d922cb8ec2"
      },
      "source": [
        "d['blue'] = 300\n",
        "print(d)"
      ],
      "execution_count": null,
      "outputs": [
        {
          "output_type": "stream",
          "text": [
            "{'red': 1, 'green': 2, 'blue': 300}\n"
          ],
          "name": "stdout"
        }
      ]
    },
    {
      "cell_type": "code",
      "metadata": {
        "colab": {
          "base_uri": "https://localhost:8080/"
        },
        "id": "d0180E_Kxtwn",
        "outputId": "88720eb4-040e-47ef-82c9-b201ac166839"
      },
      "source": [
        "# Adding the element in dict\n",
        "\n",
        "d['orange'] = 450\n",
        "print(d)"
      ],
      "execution_count": null,
      "outputs": [
        {
          "output_type": "stream",
          "text": [
            "{'red': 1, 'green': 2, 'blue': 300, 'orange': 450}\n"
          ],
          "name": "stdout"
        }
      ]
    },
    {
      "cell_type": "code",
      "metadata": {
        "colab": {
          "base_uri": "https://localhost:8080/"
        },
        "id": "Kal_PzB7yEro",
        "outputId": "c7443ced-2309-43c3-cea9-bec6dba03e2a"
      },
      "source": [
        "p = {10:'hello',20:'world'}\n",
        "print(d)\n",
        "print(p)"
      ],
      "execution_count": null,
      "outputs": [
        {
          "output_type": "stream",
          "text": [
            "{'red': 1, 'green': 2, 'blue': 300, 'orange': 450}\n",
            "{10: 'hello', 20: 'world'}\n"
          ],
          "name": "stdout"
        }
      ]
    },
    {
      "cell_type": "code",
      "metadata": {
        "colab": {
          "base_uri": "https://localhost:8080/"
        },
        "id": "EBlKhbmgyNte",
        "outputId": "9f92ae39-6512-471b-bd9b-ba5f55405f54"
      },
      "source": [
        "d.update(p)\n",
        "print(d)"
      ],
      "execution_count": null,
      "outputs": [
        {
          "output_type": "stream",
          "text": [
            "{'red': 1, 'green': 2, 'blue': 300, 'orange': 450, 10: 'hello', 20: 'world'}\n"
          ],
          "name": "stdout"
        }
      ]
    },
    {
      "cell_type": "code",
      "metadata": {
        "colab": {
          "base_uri": "https://localhost:8080/"
        },
        "id": "00f63bPXybAw",
        "outputId": "5625389c-1a34-4e06-d049-5755bfde5dfe"
      },
      "source": [
        "len(d)"
      ],
      "execution_count": null,
      "outputs": [
        {
          "output_type": "execute_result",
          "data": {
            "text/plain": [
              "6"
            ]
          },
          "metadata": {
            "tags": []
          },
          "execution_count": 33
        }
      ]
    },
    {
      "cell_type": "markdown",
      "metadata": {
        "id": "xqKOvfgFyfB6"
      },
      "source": [
        "Removing certain items from dict"
      ]
    },
    {
      "cell_type": "code",
      "metadata": {
        "colab": {
          "base_uri": "https://localhost:8080/"
        },
        "id": "xheqNyZZyeNy",
        "outputId": "ed496518-f9e9-45c1-bc49-b880a8848f17"
      },
      "source": [
        "d.pop('red')"
      ],
      "execution_count": null,
      "outputs": [
        {
          "output_type": "execute_result",
          "data": {
            "text/plain": [
              "1"
            ]
          },
          "metadata": {
            "tags": []
          },
          "execution_count": 34
        }
      ]
    },
    {
      "cell_type": "code",
      "metadata": {
        "colab": {
          "base_uri": "https://localhost:8080/"
        },
        "id": "Z-RosNLxyxqN",
        "outputId": "4992b340-37e2-4d68-eae5-6b409c26ca09"
      },
      "source": [
        "d"
      ],
      "execution_count": null,
      "outputs": [
        {
          "output_type": "execute_result",
          "data": {
            "text/plain": [
              "{10: 'hello', 20: 'world', 'blue': 300, 'green': 2, 'orange': 450}"
            ]
          },
          "metadata": {
            "tags": []
          },
          "execution_count": 35
        }
      ]
    },
    {
      "cell_type": "code",
      "metadata": {
        "id": "fzglwi7gy6HO"
      },
      "source": [
        "k = d.keys"
      ],
      "execution_count": null,
      "outputs": []
    },
    {
      "cell_type": "code",
      "metadata": {
        "colab": {
          "base_uri": "https://localhost:8080/"
        },
        "id": "kh7ScMCtzK_u",
        "outputId": "e31a6113-99c4-472d-ef49-9cb641fb0232"
      },
      "source": [
        "print(k)"
      ],
      "execution_count": null,
      "outputs": [
        {
          "output_type": "stream",
          "text": [
            "<built-in method keys of dict object at 0x7f34b5f37dc0>\n"
          ],
          "name": "stdout"
        }
      ]
    },
    {
      "cell_type": "code",
      "metadata": {
        "colab": {
          "base_uri": "https://localhost:8080/"
        },
        "id": "xbAURkijzPqI",
        "outputId": "b336be0e-85ac-44eb-c7f7-80c136391e5e"
      },
      "source": [
        "type(k)"
      ],
      "execution_count": null,
      "outputs": [
        {
          "output_type": "execute_result",
          "data": {
            "text/plain": [
              "builtin_function_or_method"
            ]
          },
          "metadata": {
            "tags": []
          },
          "execution_count": 49
        }
      ]
    },
    {
      "cell_type": "markdown",
      "metadata": {
        "id": "7THIqUK113RW"
      },
      "source": [
        "# SETS"
      ]
    },
    {
      "cell_type": "code",
      "metadata": {
        "colab": {
          "base_uri": "https://localhost:8080/"
        },
        "id": "buFdxh7a1c1n",
        "outputId": "497f54db-ee07-4e21-c46e-55d6615ea7e1"
      },
      "source": [
        "s= {1,2,3,4,5}\n",
        "print(s)\n",
        "print(type(s))"
      ],
      "execution_count": null,
      "outputs": [
        {
          "output_type": "stream",
          "text": [
            "{1, 2, 3, 4, 5}\n",
            "<class 'set'>\n"
          ],
          "name": "stdout"
        }
      ]
    },
    {
      "cell_type": "code",
      "metadata": {
        "colab": {
          "base_uri": "https://localhost:8080/"
        },
        "id": "3DadBuGU25hB",
        "outputId": "b159a9e9-7d5f-4ad6-8367-44b27b439a8c"
      },
      "source": [
        "string = 'hello'\n",
        "s1 = set(string)\n",
        "print(s1)"
      ],
      "execution_count": null,
      "outputs": [
        {
          "output_type": "stream",
          "text": [
            "{'e', 'o', 'l', 'h'}\n"
          ],
          "name": "stdout"
        }
      ]
    },
    {
      "cell_type": "code",
      "metadata": {
        "colab": {
          "base_uri": "https://localhost:8080/"
        },
        "id": "kc-RkFbn3EQr",
        "outputId": "90e398a9-5ab2-447a-d833-c43e6f6d6b57"
      },
      "source": [
        "s2 = set(['a','b','c','d'])\n",
        "print(s2)"
      ],
      "execution_count": null,
      "outputs": [
        {
          "output_type": "stream",
          "text": [
            "{'d', 'b', 'a', 'c'}\n"
          ],
          "name": "stdout"
        }
      ]
    },
    {
      "cell_type": "code",
      "metadata": {
        "colab": {
          "base_uri": "https://localhost:8080/"
        },
        "id": "QJo9OIBA3Pnv",
        "outputId": "0fdc1f19-c0de-4d6d-df7a-cc946a2c7bfe"
      },
      "source": [
        "s3 = {1,2,2,3,3,4,4,4,4,5,12,12,12,56,56,90}\n",
        "print(s3)"
      ],
      "execution_count": null,
      "outputs": [
        {
          "output_type": "stream",
          "text": [
            "{1, 2, 3, 4, 5, 12, 56, 90}\n"
          ],
          "name": "stdout"
        }
      ]
    },
    {
      "cell_type": "code",
      "metadata": {
        "colab": {
          "base_uri": "https://localhost:8080/"
        },
        "id": "XMNPE-Pi3s7i",
        "outputId": "5b6a2b26-06d5-4e6a-93c1-fefdf5f8b2e9"
      },
      "source": [
        "s3.add('a')\n",
        "print(s3)"
      ],
      "execution_count": null,
      "outputs": [
        {
          "output_type": "stream",
          "text": [
            "{1, 2, 3, 4, 5, 'a', 12, 56, 90}\n"
          ],
          "name": "stdout"
        }
      ]
    },
    {
      "cell_type": "code",
      "metadata": {
        "colab": {
          "base_uri": "https://localhost:8080/"
        },
        "id": "p0MXAcZZ3wyr",
        "outputId": "0c95a16a-6ae2-4215-d4bb-4c0f6c0e212f"
      },
      "source": [
        "s3.update(['hello','world'])\n",
        "print(s3)"
      ],
      "execution_count": null,
      "outputs": [
        {
          "output_type": "stream",
          "text": [
            "{1, 2, 3, 4, 5, 'a', 12, 'world', 56, 'hello', 90}\n"
          ],
          "name": "stdout"
        }
      ]
    },
    {
      "cell_type": "code",
      "metadata": {
        "colab": {
          "base_uri": "https://localhost:8080/"
        },
        "id": "zH7kHgp434yn",
        "outputId": "afb6539e-af88-456b-8ecd-315a517c2b29"
      },
      "source": [
        "s3.remove(12)\n",
        "print(s3)"
      ],
      "execution_count": null,
      "outputs": [
        {
          "output_type": "stream",
          "text": [
            "{1, 2, 3, 4, 5, 'a', 'world', 56, 'hello', 90}\n"
          ],
          "name": "stdout"
        }
      ]
    },
    {
      "cell_type": "code",
      "metadata": {
        "colab": {
          "base_uri": "https://localhost:8080/"
        },
        "id": "Z2uMMxOx4NOf",
        "outputId": "8e262f8a-158c-4f22-a1b4-aa2ef085c82e"
      },
      "source": [
        "for i in s3:\n",
        "  print(i)"
      ],
      "execution_count": null,
      "outputs": [
        {
          "output_type": "stream",
          "text": [
            "1\n",
            "2\n",
            "3\n",
            "4\n",
            "5\n",
            "a\n",
            "world\n",
            "56\n",
            "hello\n",
            "90\n"
          ],
          "name": "stdout"
        }
      ]
    },
    {
      "cell_type": "code",
      "metadata": {
        "colab": {
          "base_uri": "https://localhost:8080/",
          "height": 299
        },
        "id": "bc-M74L347xx",
        "outputId": "9c348280-3f8c-4a9b-9a1e-30d4dcf209ba"
      },
      "source": [
        "#Making set immutable\n",
        "set = frozenset([1,2,3,4,5])\n",
        "print(type(set))\n",
        "for i in set:\n",
        "  print(i)\n",
        "\n",
        "set.remove(3)"
      ],
      "execution_count": null,
      "outputs": [
        {
          "output_type": "stream",
          "text": [
            "<class 'frozenset'>\n",
            "1\n",
            "2\n",
            "3\n",
            "4\n",
            "5\n"
          ],
          "name": "stdout"
        },
        {
          "output_type": "error",
          "ename": "AttributeError",
          "evalue": "ignored",
          "traceback": [
            "\u001b[0;31m---------------------------------------------------------------------------\u001b[0m",
            "\u001b[0;31mAttributeError\u001b[0m                            Traceback (most recent call last)",
            "\u001b[0;32m<ipython-input-61-0331e4bf4c2a>\u001b[0m in \u001b[0;36m<module>\u001b[0;34m()\u001b[0m\n\u001b[1;32m      4\u001b[0m   \u001b[0mprint\u001b[0m\u001b[0;34m(\u001b[0m\u001b[0mi\u001b[0m\u001b[0;34m)\u001b[0m\u001b[0;34m\u001b[0m\u001b[0;34m\u001b[0m\u001b[0m\n\u001b[1;32m      5\u001b[0m \u001b[0;34m\u001b[0m\u001b[0m\n\u001b[0;32m----> 6\u001b[0;31m \u001b[0mset\u001b[0m\u001b[0;34m.\u001b[0m\u001b[0mremove\u001b[0m\u001b[0;34m(\u001b[0m\u001b[0;36m3\u001b[0m\u001b[0;34m)\u001b[0m\u001b[0;34m\u001b[0m\u001b[0;34m\u001b[0m\u001b[0m\n\u001b[0m",
            "\u001b[0;31mAttributeError\u001b[0m: 'frozenset' object has no attribute 'remove'"
          ]
        }
      ]
    }
  ]
}