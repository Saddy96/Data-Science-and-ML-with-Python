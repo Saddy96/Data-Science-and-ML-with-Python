{
  "nbformat": 4,
  "nbformat_minor": 0,
  "metadata": {
    "colab": {
      "name": "Day14_Session.ipynb",
      "provenance": [],
      "collapsed_sections": []
    },
    "kernelspec": {
      "name": "python3",
      "display_name": "Python 3"
    },
    "language_info": {
      "name": "python"
    }
  },
  "cells": [
    {
      "cell_type": "code",
      "metadata": {
        "id": "RIZyxgpN7VEV"
      },
      "source": [
        "import math"
      ],
      "execution_count": null,
      "outputs": []
    },
    {
      "cell_type": "code",
      "metadata": {
        "colab": {
          "base_uri": "https://localhost:8080/"
        },
        "id": "x8w-ykp97tZs",
        "outputId": "d3132dd3-181c-4c68-eb7f-91fb48d7e158"
      },
      "source": [
        "math.sqrt(4)"
      ],
      "execution_count": null,
      "outputs": [
        {
          "output_type": "execute_result",
          "data": {
            "text/plain": [
              "2.0"
            ]
          },
          "metadata": {
            "tags": []
          },
          "execution_count": 3
        }
      ]
    },
    {
      "cell_type": "code",
      "metadata": {
        "colab": {
          "base_uri": "https://localhost:8080/"
        },
        "id": "DM_jYN9u8GXQ",
        "outputId": "45d16d83-4288-42a9-cbfc-0e972d6fc88c"
      },
      "source": [
        "dir(math)"
      ],
      "execution_count": null,
      "outputs": [
        {
          "output_type": "execute_result",
          "data": {
            "text/plain": [
              "['__doc__',\n",
              " '__loader__',\n",
              " '__name__',\n",
              " '__package__',\n",
              " '__spec__',\n",
              " 'acos',\n",
              " 'acosh',\n",
              " 'asin',\n",
              " 'asinh',\n",
              " 'atan',\n",
              " 'atan2',\n",
              " 'atanh',\n",
              " 'ceil',\n",
              " 'copysign',\n",
              " 'cos',\n",
              " 'cosh',\n",
              " 'degrees',\n",
              " 'e',\n",
              " 'erf',\n",
              " 'erfc',\n",
              " 'exp',\n",
              " 'expm1',\n",
              " 'fabs',\n",
              " 'factorial',\n",
              " 'floor',\n",
              " 'fmod',\n",
              " 'frexp',\n",
              " 'fsum',\n",
              " 'gamma',\n",
              " 'gcd',\n",
              " 'hypot',\n",
              " 'inf',\n",
              " 'isclose',\n",
              " 'isfinite',\n",
              " 'isinf',\n",
              " 'isnan',\n",
              " 'ldexp',\n",
              " 'lgamma',\n",
              " 'log',\n",
              " 'log10',\n",
              " 'log1p',\n",
              " 'log2',\n",
              " 'modf',\n",
              " 'nan',\n",
              " 'pi',\n",
              " 'pow',\n",
              " 'radians',\n",
              " 'remainder',\n",
              " 'sin',\n",
              " 'sinh',\n",
              " 'sqrt',\n",
              " 'tan',\n",
              " 'tanh',\n",
              " 'tau',\n",
              " 'trunc']"
            ]
          },
          "metadata": {
            "tags": []
          },
          "execution_count": 5
        }
      ]
    },
    {
      "cell_type": "code",
      "metadata": {
        "colab": {
          "base_uri": "https://localhost:8080/"
        },
        "id": "x4OS7Sk78RLC",
        "outputId": "50171130-be03-49aa-b2f7-05195eb7eacf"
      },
      "source": [
        "import calendar\n",
        "dir(calendar)"
      ],
      "execution_count": null,
      "outputs": [
        {
          "output_type": "execute_result",
          "data": {
            "text/plain": [
              "['Calendar',\n",
              " 'EPOCH',\n",
              " 'FRIDAY',\n",
              " 'February',\n",
              " 'HTMLCalendar',\n",
              " 'IllegalMonthError',\n",
              " 'IllegalWeekdayError',\n",
              " 'January',\n",
              " 'LocaleHTMLCalendar',\n",
              " 'LocaleTextCalendar',\n",
              " 'MONDAY',\n",
              " 'SATURDAY',\n",
              " 'SUNDAY',\n",
              " 'THURSDAY',\n",
              " 'TUESDAY',\n",
              " 'TextCalendar',\n",
              " 'WEDNESDAY',\n",
              " '_EPOCH_ORD',\n",
              " '__all__',\n",
              " '__builtins__',\n",
              " '__cached__',\n",
              " '__doc__',\n",
              " '__file__',\n",
              " '__loader__',\n",
              " '__name__',\n",
              " '__package__',\n",
              " '__spec__',\n",
              " '_colwidth',\n",
              " '_locale',\n",
              " '_localized_day',\n",
              " '_localized_month',\n",
              " '_spacing',\n",
              " 'c',\n",
              " 'calendar',\n",
              " 'datetime',\n",
              " 'day_abbr',\n",
              " 'day_name',\n",
              " 'different_locale',\n",
              " 'error',\n",
              " 'firstweekday',\n",
              " 'format',\n",
              " 'formatstring',\n",
              " 'isleap',\n",
              " 'leapdays',\n",
              " 'main',\n",
              " 'mdays',\n",
              " 'month',\n",
              " 'month_abbr',\n",
              " 'month_name',\n",
              " 'monthcalendar',\n",
              " 'monthlen',\n",
              " 'monthrange',\n",
              " 'nextmonth',\n",
              " 'prcal',\n",
              " 'prevmonth',\n",
              " 'prmonth',\n",
              " 'prweek',\n",
              " 'repeat',\n",
              " 'setfirstweekday',\n",
              " 'sys',\n",
              " 'timegm',\n",
              " 'week',\n",
              " 'weekday',\n",
              " 'weekheader']"
            ]
          },
          "metadata": {
            "tags": []
          },
          "execution_count": 11
        }
      ]
    },
    {
      "cell_type": "code",
      "metadata": {
        "colab": {
          "base_uri": "https://localhost:8080/"
        },
        "id": "gljHjvNf8zku",
        "outputId": "f3d5d87f-4a75-4a22-97db-a88de9b623c0"
      },
      "source": [
        "calendar.isleap(2001)"
      ],
      "execution_count": null,
      "outputs": [
        {
          "output_type": "execute_result",
          "data": {
            "text/plain": [
              "False"
            ]
          },
          "metadata": {
            "tags": []
          },
          "execution_count": 15
        }
      ]
    },
    {
      "cell_type": "code",
      "metadata": {
        "colab": {
          "base_uri": "https://localhost:8080/"
        },
        "id": "cA100foy9GUy",
        "outputId": "f6a43d88-88cb-4d0d-c4f6-76923f27d17c"
      },
      "source": [
        "help('modules')"
      ],
      "execution_count": null,
      "outputs": [
        {
          "output_type": "stream",
          "text": [
            "\n",
            "Please wait a moment while I gather a list of all available modules...\n",
            "\n"
          ],
          "name": "stdout"
        },
        {
          "output_type": "stream",
          "text": [
            "/usr/local/lib/python3.7/dist-packages/IPython/kernel/__init__.py:13: ShimWarning: The `IPython.kernel` package has been deprecated since IPython 4.0.You should import from ipykernel or jupyter_client instead.\n",
            "  \"You should import from ipykernel or jupyter_client instead.\", ShimWarning)\n",
            "WARNING: AstropyDeprecationWarning: The private astropy._erfa module has been made into its own package, pyerfa, which is a dependency of astropy and can be imported directly using \"import erfa\" [astropy._erfa]\n",
            "/usr/local/lib/python3.7/dist-packages/datascience/tables.py:17: MatplotlibDeprecationWarning:\n",
            "\n",
            "The 'warn' parameter of use() is deprecated since Matplotlib 3.1 and will be removed in 3.3.  If any parameter follows 'warn', they should be pass as keyword, not positionally.\n",
            "\n",
            "/usr/local/lib/python3.7/dist-packages/datascience/util.py:10: MatplotlibDeprecationWarning:\n",
            "\n",
            "The 'warn' parameter of use() is deprecated since Matplotlib 3.1 and will be removed in 3.3.  If any parameter follows 'warn', they should be pass as keyword, not positionally.\n",
            "\n",
            "/usr/local/lib/python3.7/dist-packages/sklearn/externals/six.py:31: FutureWarning:\n",
            "\n",
            "The module is deprecated in version 0.21 and will be removed in version 0.23 since we've dropped support for Python 2.7. Please rely on the official version of six (https://pypi.org/project/six/).\n",
            "\n",
            "/usr/local/lib/python3.7/dist-packages/sklearn/utils/deprecation.py:144: FutureWarning:\n",
            "\n",
            "The sklearn.neighbors.base module is  deprecated in version 0.22 and will be removed in version 0.24. The corresponding classes / functions should instead be imported from sklearn.neighbors. Anything that cannot be imported from sklearn.neighbors is now part of the private API.\n",
            "\n",
            "/usr/local/lib/python3.7/dist-packages/sklearn/utils/deprecation.py:144: FutureWarning:\n",
            "\n",
            "The sklearn.datasets.base module is  deprecated in version 0.22 and will be removed in version 0.24. The corresponding classes / functions should instead be imported from sklearn.datasets. Anything that cannot be imported from sklearn.datasets is now part of the private API.\n",
            "\n",
            "/usr/local/lib/python3.7/dist-packages/sklearn/utils/deprecation.py:144: FutureWarning:\n",
            "\n",
            "The sklearn.ensemble.bagging module is  deprecated in version 0.22 and will be removed in version 0.24. The corresponding classes / functions should instead be imported from sklearn.ensemble. Anything that cannot be imported from sklearn.ensemble is now part of the private API.\n",
            "\n",
            "/usr/local/lib/python3.7/dist-packages/sklearn/utils/deprecation.py:144: FutureWarning:\n",
            "\n",
            "The sklearn.ensemble.base module is  deprecated in version 0.22 and will be removed in version 0.24. The corresponding classes / functions should instead be imported from sklearn.ensemble. Anything that cannot be imported from sklearn.ensemble is now part of the private API.\n",
            "\n",
            "/usr/local/lib/python3.7/dist-packages/sklearn/utils/deprecation.py:144: FutureWarning:\n",
            "\n",
            "The sklearn.ensemble.forest module is  deprecated in version 0.22 and will be removed in version 0.24. The corresponding classes / functions should instead be imported from sklearn.ensemble. Anything that cannot be imported from sklearn.ensemble is now part of the private API.\n",
            "\n",
            "/usr/local/lib/python3.7/dist-packages/sklearn/externals/joblib/__init__.py:15: FutureWarning:\n",
            "\n",
            "sklearn.externals.joblib is deprecated in 0.21 and will be removed in 0.23. Please import this functionality directly from joblib, which can be installed with: pip install joblib. If this warning is raised when loading pickled models, you may need to re-serialize those models with scikit-learn 0.21+.\n",
            "\n",
            "/usr/local/lib/python3.7/dist-packages/sklearn/utils/deprecation.py:144: FutureWarning:\n",
            "\n",
            "The sklearn.metrics.classification module is  deprecated in version 0.22 and will be removed in version 0.24. The corresponding classes / functions should instead be imported from sklearn.metrics. Anything that cannot be imported from sklearn.metrics is now part of the private API.\n",
            "\n",
            "/usr/local/lib/python3.7/dist-packages/sklearn/utils/deprecation.py:144: FutureWarning:\n",
            "\n",
            "The sklearn.utils.testing module is  deprecated in version 0.22 and will be removed in version 0.24. The corresponding classes / functions should instead be imported from sklearn.utils. Anything that cannot be imported from sklearn.utils is now part of the private API.\n",
            "\n"
          ],
          "name": "stderr"
        },
        {
          "output_type": "stream",
          "text": [
            "Downloading http://dlib.net/files/shape_predictor_68_face_landmarks.dat.bz2 to /root/mlxtend_data/shape_predictor_68_face_landmarks.dat.bz2\n"
          ],
          "name": "stdout"
        },
        {
          "output_type": "stream",
          "text": [
            "/usr/lib/python3.7/pkgutil.py:92: UserWarning:\n",
            "\n",
            "The DICOM readers are highly experimental, unstable, and only work for Siemens time-series at the moment\n",
            "Please use with caution.  We would be grateful for your help in improving them\n",
            "\n",
            "/usr/local/lib/python3.7/dist-packages/nltk/twitter/__init__.py:20: UserWarning:\n",
            "\n",
            "The twython library has not been installed. Some functionality from the twitter package will not be available.\n",
            "\n",
            "/usr/local/lib/python3.7/dist-packages/psycopg2/__init__.py:144: UserWarning:\n",
            "\n",
            "The psycopg2 wheel package will be renamed from release 2.8; in order to keep installing from binary please use \"pip install psycopg2-binary\" instead. For details see: <http://initd.org/psycopg/docs/install.html#binary-install-from-pypi>.\n",
            "\n",
            "WARNING:pystan:This submodule contains experimental code, please use with caution\n"
          ],
          "name": "stderr"
        },
        {
          "output_type": "stream",
          "text": [
            "No CUDA runtime is found, using CUDA_HOME='/usr/local/cuda'\n",
            "Cython              colorcet            kaggle              random\n",
            "IPython             colorlover          kapre               re\n",
            "OpenGL              colorsys            keras               readline\n",
            "PIL                 community           keras_preprocessing regex\n",
            "ScreenResolution    compileall          keyword             reprlib\n",
            "__future__          concurrent          kiwisolver          requests\n",
            "_abc                configparser        korean_lunar_calendar requests_oauthlib\n",
            "_ast                contextlib          lib2to3             resampy\n",
            "_asyncio            contextlib2         libfuturize         resource\n",
            "_bisect             contextvars         libpasteurize       retrying\n",
            "_blake2             convertdate         librosa             rlcompleter\n",
            "_bootlocale         copy                lightgbm            rmagic\n",
            "_bz2                copyreg             linecache           rpy2\n",
            "_cffi_backend       coverage            llvmlite            rsa\n",
            "_codecs             coveralls           lmdb                runpy\n",
            "_codecs_cn          crcmod              locale              samples\n",
            "_codecs_hk          crypt               logging             sched\n",
            "_codecs_iso2022     csv                 lsb_release         scipy\n",
            "_codecs_jp          ctypes              lunarcalendar       scs\n",
            "_codecs_kr          cufflinks           lxml                seaborn\n",
            "_codecs_tw          curses              lzma                secrets\n",
            "_collections        cv2                 macpath             select\n",
            "_collections_abc    cvxopt              mailbox             selectors\n",
            "_compat_pickle      cvxpy               mailcap             semver\n",
            "_compression        cycler              markdown            send2trash\n",
            "_contextvars        cymem               markupsafe          setuptools\n",
            "_crypt              cython              marshal             setuptools_git\n",
            "_csv                cythonmagic         math                shapely\n",
            "_ctypes             daft                matplotlib          shelve\n",
            "_ctypes_test        dask                matplotlib_inline   shlex\n",
            "_curses             dataclasses         matplotlib_venn     shutil\n",
            "_curses_panel       datascience         mimetypes           signal\n",
            "_cvxcore            datetime            missingno           simplegeneric\n",
            "_datetime           dateutil            mistune             site\n",
            "_dbm                dbm                 mizani              sitecustomize\n",
            "_decimal            dbus                mlxtend             six\n",
            "_distutils_hack     debugpy             mmap                skimage\n",
            "_dummy_thread       decimal             modulefinder        sklearn\n",
            "_ecos               decorator           more_itertools      sklearn_pandas\n",
            "_elementtree        defusedxml          moviepy             slugify\n",
            "_functools          descartes           mpmath              smart_open\n",
            "_hashlib            difflib             msgpack             smtpd\n",
            "_heapq              dill                multiprocess        smtplib\n",
            "_imp                dis                 multiprocessing     sndhdr\n",
            "_io                 distributed         multitasking        snowballstemmer\n",
            "_json               distutils           murmurhash          socket\n",
            "_locale             dlib                music21             socketserver\n",
            "_lsprof             docopt              natsort             socks\n",
            "_lzma               docs                nbclient            sockshandler\n",
            "_markupbase         doctest             nbconvert           softwareproperties\n",
            "_md5                docutils            nbformat            sortedcontainers\n",
            "_multibytecodec     dopamine            nest_asyncio        soundfile\n",
            "_multiprocess       dot_parser          netCDF4             spacy\n",
            "_multiprocessing    dummy_threading     netrc               sphinx\n",
            "_opcode             easydict            networkx            spwd\n",
            "_operator           ecos                nibabel             sql\n",
            "_osx_support        editdistance        nis                 sqlalchemy\n",
            "_pickle             ee                  nisext              sqlite3\n",
            "_plotly_future_     email               nltk                sqlparse\n",
            "_plotly_utils       en_core_web_sm      nntplib             sre_compile\n",
            "_posixsubprocess    encodings           notebook            sre_constants\n",
            "_py_abc             entrypoints         ntpath              sre_parse\n",
            "_pydecimal          enum                nturl2path          srsly\n",
            "_pyio               ephem               numba               ssl\n",
            "_pyrsistent_version erfa                numbergen           stat\n",
            "_pytest             errno               numbers             statistics\n",
            "_queue              et_xmlfile          numexpr             statsmodels\n",
            "_random             examples            numpy               storemagic\n",
            "_rinterface_cffi_abi fa2                 nvidia_smi          string\n",
            "_rinterface_cffi_api fastai              oauth2client        stringprep\n",
            "_scs_direct         fastdtw             oauthlib            struct\n",
            "_scs_indirect       fastprogress        ogr                 subprocess\n",
            "_scs_python         fastrlock           okgrade             sunau\n",
            "_sha1               faulthandler        onnx_chainer        symbol\n",
            "_sha256             fbprophet           opcode              sympy\n",
            "_sha3               fcntl               openpyxl            sympyprinting\n",
            "_sha512             feather             operator            symtable\n",
            "_signal             filecmp             opt_einsum          sys\n",
            "_sitebuiltins       fileinput           optparse            sysconfig\n",
            "_socket             filelock            os                  syslog\n",
            "_soundfile          firebase_admin      osgeo               tables\n",
            "_sqlite3            fix_yahoo_finance   osqp                tabnanny\n",
            "_sre                flask               osqppurepy          tabulate\n",
            "_ssl                flatbuffers         osr                 tarfile\n",
            "_stat               fnmatch             ossaudiodev         tblib\n",
            "_string             folium              packaging           telnetlib\n",
            "_strptime           formatter           palettable          tempfile\n",
            "_struct             fractions           pandas              tensorboard\n",
            "_symtable           ftplib              pandas_datareader   tensorboard_data_server\n",
            "_sysconfigdata_m_linux_x86_64-linux-gnu functools           pandas_gbq          tensorboard_plugin_wit\n",
            "_testbuffer         future              pandas_profiling    tensorflow\n",
            "_testcapi           gast                pandocfilters       tensorflow_datasets\n",
            "_testimportmultiple gc                  panel               tensorflow_estimator\n",
            "_testmultiphase     gdal                param               tensorflow_gcs_config\n",
            "_thread             gdalconst           parser              tensorflow_hub\n",
            "_threading_local    gdalnumeric         parso               tensorflow_metadata\n",
            "_tkinter            gdown               past                tensorflow_probability\n",
            "_tracemalloc        genericpath         pasta               termcolor\n",
            "_warnings           gensim              pathlib             terminado\n",
            "_weakref            geographiclib       patsy               termios\n",
            "_weakrefset         geopy               pdb                 test\n",
            "_xxtestfuzz         getopt              pexpect             testpath\n",
            "abc                 getpass             pickle              tests\n",
            "absl                gettext             pickleshare         text_unidecode\n",
            "aifc                gi                  pickletools         textblob\n",
            "alabaster           gin                 pip                 textwrap\n",
            "albumentations      github2pypi         pipes               theano\n",
            "altair              glob                piptools            thinc\n",
            "antigravity         glob2               pkg_resources       this\n",
            "apiclient           gnm                 pkgutil             threading\n",
            "appdirs             google_auth_httplib2 plac                tifffile\n",
            "apt                 google_auth_oauthlib plac_core           time\n",
            "apt_inst            google_drive_downloader plac_ext            timeit\n",
            "apt_pkg             googleapiclient     plac_tk             tkinter\n",
            "aptsources          googlesearch        platform            tlz\n",
            "argon2              graphviz            plistlib            token\n",
            "argparse            greenlet            plotly              tokenize\n",
            "array               gridfs              plotlywidget        toml\n",
            "arviz               grp                 plotnine            toolz\n",
            "ast                 grpc                pluggy              torch\n",
            "astor               gspread             pooch               torchsummary\n",
            "astropy             gspread_dataframe   poplib              torchtext\n",
            "astunparse          gym                 portpicker          torchvision\n",
            "async_generator     gzip                posix               tornado\n",
            "asynchat            h5py                posixpath           tqdm\n",
            "asyncio             hashlib             pprint              trace\n",
            "asyncore            heapdict            prefetch_generator  traceback\n",
            "atari_py            heapq               preshed             tracemalloc\n",
            "atexit              hijri_converter     prettytable         traitlets\n",
            "atomicwrites        hmac                profile             tree\n",
            "attr                holidays            progressbar         tty\n",
            "audioop             holoviews           prometheus_client   turtle\n",
            "audioread           html                promise             tweepy\n",
            "autograd            html5lib            prompt_toolkit      typeguard\n",
            "autoreload          http                pstats              types\n",
            "babel               httpimport          psutil              typing\n",
            "backcall            httplib2            psycopg2            typing_extensions\n",
            "base64              httplib2shim        pty                 tzlocal\n",
            "bdb                 humanize            ptyprocess          unicodedata\n",
            "bin                 hyperopt            pvectorc            unittest\n",
            "binascii            ideep4py            pwd                 uritemplate\n",
            "binhex              idna                py                  urllib\n",
            "bisect              imageio             py_compile          urllib3\n",
            "bleach              imagesize           pyarrow             uu\n",
            "blis                imaplib             pyasn1              uuid\n",
            "bokeh               imblearn            pyasn1_modules      vega_datasets\n",
            "boost               imgaug              pyclbr              venv\n",
            "bottleneck          imghdr              pycocotools         vis\n",
            "branca              imp                 pycparser           warnings\n",
            "bs4                 importlib           pyct                wasabi\n",
            "bson                importlib_metadata  pydata_google_auth  wave\n",
            "builtins            importlib_resources pydoc               wcwidth\n",
            "bz2                 imutils             pydoc_data          weakref\n",
            "cProfile            inflect             pydot               webbrowser\n",
            "cachecontrol        iniconfig           pydot_ng            webencodings\n",
            "cached_property     inspect             pydotplus           werkzeug\n",
            "cachetools          install             pydrive             wheel\n",
            "caffe2              intervaltree        pyemd               widgetsnbextension\n",
            "calendar            io                  pyexpat             wordcloud\n",
            "catalogue           ipaddress           pyglet              wrapt\n",
            "certifi             ipykernel           pygments            wsgiref\n",
            "cffi                ipykernel_launcher  pygtkcompat         xarray\n",
            "cftime              ipython_genutils    pylab               xdrlib\n",
            "cgi                 ipywidgets          pymc3               xgboost\n",
            "cgitb               isympy              pymeeus             xkit\n",
            "chainer             itertools           pymongo             xlrd\n",
            "chainermn           itsdangerous        pymystem3           xlwt\n",
            "chainerx            jax                 pynvml              xml\n",
            "chardet             jaxlib              pyparsing           xmlrpc\n",
            "chess               jdcal               pyrsistent          xxlimited\n",
            "chunk               jedi                pysndfile           xxsubtype\n",
            "click               jieba               pystan              yaml\n",
            "client              jinja2              pytest              yellowbrick\n",
            "cloudpickle         joblib              python_utils        zict\n",
            "cmake               jpeg4py             pytz                zipapp\n",
            "cmath               json                pyviz_comms         zipfile\n",
            "cmd                 jsonschema          pywt                zipimport\n",
            "cmdstanpy           jupyter             pyximport           zipp\n",
            "code                jupyter_client      qdldl               zlib\n",
            "codecs              jupyter_console     qtconsole           zmq\n",
            "codeop              jupyter_core        qtpy                \n",
            "colab               jupyterlab_pygments queue               \n",
            "collections         jupyterlab_widgets  quopri              \n",
            "\n",
            "Enter any module name to get more help.  Or, type \"modules spam\" to search\n",
            "for modules whose name or summary contain the string \"spam\".\n",
            "\n"
          ],
          "name": "stdout"
        }
      ]
    },
    {
      "cell_type": "code",
      "metadata": {
        "id": "LEH_rplr9dh5"
      },
      "source": [
        "def add(x,y):\n",
        "  '''Takes two input and return a added value of the passed input'''\n",
        "  return x+y\n",
        "\n",
        "def sub(x,y):\n",
        "  '''Takes two input and return a subtract value of the passed input'''\n",
        "  return x-y\n",
        "\n",
        "def prod(x,y):\n",
        "  '''Takes two input and return a Product value of the passed input'''\n",
        "  return x*y\n",
        "\n",
        "def div(x,y):\n",
        "  '''Takes two input and return a division value of the passed input'''\n",
        "  return x/y"
      ],
      "execution_count": null,
      "outputs": []
    },
    {
      "cell_type": "markdown",
      "metadata": {
        "id": "xP6hCj5G_Xta"
      },
      "source": [
        "Function: Different functionality is created so that it can be reused again.\n",
        "\n",
        "Module: Collection of different functions under it\n",
        "\n",
        "Package: collection of different modules under it\n",
        "\n",
        "Library: collection of related modules under it. or a collection of packages. e.g. Pandas\n"
      ]
    },
    {
      "cell_type": "code",
      "metadata": {
        "id": "8xE37uMo-kYz"
      },
      "source": [
        "#Importing the created module\n",
        "\n",
        "import calc as a"
      ],
      "execution_count": null,
      "outputs": []
    },
    {
      "cell_type": "code",
      "metadata": {
        "colab": {
          "base_uri": "https://localhost:8080/"
        },
        "id": "sF06zIK3-niJ",
        "outputId": "cc0b9805-4d01-43aa-a7aa-cb3e51efb845"
      },
      "source": [
        "p = 20\n",
        "q = 10\n",
        "\n",
        "addition = a.add(p,q)\n",
        "print(addition)"
      ],
      "execution_count": null,
      "outputs": [
        {
          "output_type": "stream",
          "text": [
            "30\n"
          ],
          "name": "stdout"
        }
      ]
    },
    {
      "cell_type": "code",
      "metadata": {
        "colab": {
          "base_uri": "https://localhost:8080/"
        },
        "id": "r82admt9APrx",
        "outputId": "cf31b5c7-63be-41e4-ede6-92811df7eb28"
      },
      "source": [
        "from calc import *\n",
        "\n",
        "p = 20\n",
        "q = 10\n",
        "\n",
        "print(add(p,q))"
      ],
      "execution_count": null,
      "outputs": [
        {
          "output_type": "stream",
          "text": [
            "30\n"
          ],
          "name": "stdout"
        }
      ]
    },
    {
      "cell_type": "code",
      "metadata": {
        "id": "ZwsrLb-pAZ_U"
      },
      "source": [
        "import sys\n",
        "# To communicate with the system"
      ],
      "execution_count": null,
      "outputs": []
    },
    {
      "cell_type": "code",
      "metadata": {
        "colab": {
          "base_uri": "https://localhost:8080/"
        },
        "id": "OiTBL2PXAZ4H",
        "outputId": "4a763362-6c1a-4195-d049-dc983abdf3ec"
      },
      "source": [
        "print(sys.path)"
      ],
      "execution_count": null,
      "outputs": [
        {
          "output_type": "stream",
          "text": [
            "['', '/content', '/env/python', '/usr/lib/python37.zip', '/usr/lib/python3.7', '/usr/lib/python3.7/lib-dynload', '/usr/local/lib/python3.7/dist-packages', '/usr/lib/python3/dist-packages', '/usr/local/lib/python3.7/dist-packages/IPython/extensions', '/root/.ipython', '/tmp/tmpk5svy7b2']\n"
          ],
          "name": "stdout"
        }
      ]
    },
    {
      "cell_type": "markdown",
      "metadata": {
        "id": "W9urh63oCuSB"
      },
      "source": [
        "Class"
      ]
    },
    {
      "cell_type": "code",
      "metadata": {
        "colab": {
          "base_uri": "https://localhost:8080/"
        },
        "id": "s6I0KAczCvo8",
        "outputId": "34b3ba9d-4d30-47f1-f0e9-662579eea92a"
      },
      "source": [
        "class Human:\n",
        "  age = 20\n",
        "\n",
        "  def speaks(self):\n",
        "    print('Hello')\n",
        "\n",
        "print(Human.age)\n",
        "\n",
        "print(Human.speaks)"
      ],
      "execution_count": null,
      "outputs": [
        {
          "output_type": "stream",
          "text": [
            "20\n",
            "<function Human.speaks at 0x7faa95eae0e0>\n"
          ],
          "name": "stdout"
        }
      ]
    },
    {
      "cell_type": "code",
      "metadata": {
        "colab": {
          "base_uri": "https://localhost:8080/"
        },
        "id": "wrY4rA2pDWBP",
        "outputId": "d5b4854e-db9c-48e9-d5f5-3d28338990f8"
      },
      "source": [
        "#Objects\n",
        "\n",
        "robin = Human()\n",
        "robin.speaks()  # ~= Human.speaks(robin)\n",
        "# Self represents the instance of the class"
      ],
      "execution_count": null,
      "outputs": [
        {
          "output_type": "stream",
          "text": [
            "Hello\n"
          ],
          "name": "stdout"
        }
      ]
    },
    {
      "cell_type": "code",
      "metadata": {
        "id": "prH7gFW8E9M2"
      },
      "source": [
        "class Employee:\n",
        "  \n",
        "  #Constructor: Initialization of the value to the class variables\n",
        "  #Parmeterized Consrutctor as some values is passed\n",
        "  def __init__(self, name, id):\n",
        "    self.name = name\n",
        "    self.id = id\n",
        "\n",
        "  def display(self):\n",
        "    print(\"Name: %s \\n ID: %d\"%(self.name, self.id))"
      ],
      "execution_count": null,
      "outputs": []
    },
    {
      "cell_type": "code",
      "metadata": {
        "colab": {
          "base_uri": "https://localhost:8080/"
        },
        "id": "38Zmqn_IFlun",
        "outputId": "060be311-b0a7-4cd9-d950-8cb5da8c4cc2"
      },
      "source": [
        "emp1 = Employee('John', 102)\n",
        "emp2 = Employee('Arya', 105)\n",
        "\n",
        "emp1.display()\n",
        "emp2.display()\n",
        "\n",
        "emp1.__class__\n"
      ],
      "execution_count": null,
      "outputs": [
        {
          "output_type": "stream",
          "text": [
            "Name: John \n",
            " ID: 102\n",
            "Name: Arya \n",
            " ID: 105\n",
            "None\n"
          ],
          "name": "stdout"
        }
      ]
    }
  ]
}