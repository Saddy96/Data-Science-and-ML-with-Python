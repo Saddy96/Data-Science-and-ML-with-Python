{
  "nbformat": 4,
  "nbformat_minor": 0,
  "metadata": {
    "colab": {
      "name": "Day20_WebScraping_Flipkart.ipynb",
      "provenance": [],
      "collapsed_sections": []
    },
    "kernelspec": {
      "name": "python3",
      "display_name": "Python 3"
    },
    "language_info": {
      "name": "python"
    }
  },
  "cells": [
    {
      "cell_type": "markdown",
      "metadata": {
        "id": "Nnj9WHxWKh1R"
      },
      "source": [
        "URL: https://www.youtube.com/watch?v=Xz0jXZABBWY"
      ]
    },
    {
      "cell_type": "markdown",
      "metadata": {
        "id": "BL8HvFVWKP1Q"
      },
      "source": [
        "# STEPS\n",
        "\n",
        "1. Find Url\n",
        "2. Inspecting Page\n",
        "3. Find data you want to extract\n",
        "4. Code\n",
        "5. Execute cpde\n",
        "6. Store the data\n",
        "\n"
      ]
    },
    {
      "cell_type": "code",
      "metadata": {
        "id": "nQNyg4z3JXjn"
      },
      "source": [
        "from bs4 import BeautifulSoup\n",
        "import requests\n",
        "import pandas as pd"
      ],
      "execution_count": null,
      "outputs": []
    },
    {
      "cell_type": "markdown",
      "metadata": {
        "id": "ecEDN8kWMvVU"
      },
      "source": [
        "Reuesust -Python http call lib \n",
        "\n",
        "BeautifulSoup - used for making a data to some format i.e. as required"
      ]
    },
    {
      "cell_type": "code",
      "metadata": {
        "id": "CICu-H-CNeaa"
      },
      "source": [
        "url = 'https://www.flipkart.com/search?q=laptop&otracker=search&otracker1=search&marketplace=FLIPKART&as-show=on&as=off'"
      ],
      "execution_count": null,
      "outputs": []
    },
    {
      "cell_type": "code",
      "metadata": {
        "colab": {
          "base_uri": "https://localhost:8080/"
        },
        "id": "HwpEzJVkNhh5",
        "outputId": "648a4f6f-70ef-491c-8c82-ac6f8109c612"
      },
      "source": [
        "response = requests.get(url)\n",
        "print(response)\n",
        "#print(reponse.content)\n",
        "\n",
        "htmlContent = response.content"
      ],
      "execution_count": null,
      "outputs": [
        {
          "output_type": "stream",
          "text": [
            "<Response [200]>\n"
          ],
          "name": "stdout"
        }
      ]
    },
    {
      "cell_type": "code",
      "metadata": {
        "colab": {
          "base_uri": "https://localhost:8080/"
        },
        "id": "u3TxyNl4NxP2",
        "outputId": "96446bc1-82d2-436b-b421-a8a2cc443510"
      },
      "source": [
        "soup = BeautifulSoup(htmlContent, \"html.parser\")\n",
        "\n",
        "print(soup.pretify)"
      ],
      "execution_count": null,
      "outputs": [
        {
          "output_type": "stream",
          "text": [
            "None\n"
          ],
          "name": "stdout"
        }
      ]
    },
    {
      "cell_type": "code",
      "metadata": {
        "colab": {
          "base_uri": "https://localhost:8080/"
        },
        "id": "RTQ-hnxJN4YI",
        "outputId": "da795a13-8a97-4fe7-c65d-c6a773ae5ea8"
      },
      "source": [
        "products = []\n",
        "prices= []\n",
        "reviews = []\n",
        "\n",
        "product = soup.find('div', attrs = {'class':'_4rR01T'})\n",
        "print(product.text)"
      ],
      "execution_count": null,
      "outputs": [
        {
          "output_type": "stream",
          "text": [
            "HP 15s Athlon Dual Core - (4 GB/1 TB HDD/Windows 10 Home) 15s-GY0001AU Thin and Light Laptop\n"
          ],
          "name": "stdout"
        }
      ]
    },
    {
      "cell_type": "code",
      "metadata": {
        "colab": {
          "base_uri": "https://localhost:8080/"
        },
        "id": "kz0r8GbRQiO5",
        "outputId": "45ceb944-5e8c-45d1-b605-ddac21f33e78"
      },
      "source": [
        "for i in soup.find_all('a', href = True, attrs = {'class': '_1fQZEK'}):\n",
        "  try:\n",
        "    product = i.find('div', attrs = {'class':'_4rR01T'})\n",
        "    price = i.find('div', attrs = {'class': '_30jeq3 _1_WHN1'})\n",
        "    rating = i.find('div', attrs = {'class':'_3LWZlK'})\n",
        "    products.append(product.text)\n",
        "    prices.append(price.text)\n",
        "    reviews.append(rating.text)\n",
        "  except:\n",
        "    reviews.append(None)\n",
        "    print('Exception')\n",
        "\n",
        "\n",
        "print(len(products))\n",
        "\n",
        "print(len(prices))\n",
        "print(len(reviews))"
      ],
      "execution_count": null,
      "outputs": [
        {
          "output_type": "stream",
          "text": [
            "Exception\n",
            "24\n",
            "24\n",
            "24\n"
          ],
          "name": "stdout"
        }
      ]
    },
    {
      "cell_type": "markdown",
      "metadata": {
        "id": "s8Jg8D5eYumr"
      },
      "source": [
        "#Store Result in a required format"
      ]
    },
    {
      "cell_type": "code",
      "metadata": {
        "id": "-LY6KkwiYuH1"
      },
      "source": [
        "df = pd.DataFrame({'Product Name': products, 'Prices': prices, 'Reviews': reviews})"
      ],
      "execution_count": null,
      "outputs": []
    },
    {
      "cell_type": "code",
      "metadata": {
        "colab": {
          "base_uri": "https://localhost:8080/",
          "height": 204
        },
        "id": "0_gQpImvZF_V",
        "outputId": "a49bba16-2b8e-48e0-d899-eefeb6e26110"
      },
      "source": [
        "df.head()"
      ],
      "execution_count": null,
      "outputs": [
        {
          "output_type": "execute_result",
          "data": {
            "text/html": [
              "<div>\n",
              "<style scoped>\n",
              "    .dataframe tbody tr th:only-of-type {\n",
              "        vertical-align: middle;\n",
              "    }\n",
              "\n",
              "    .dataframe tbody tr th {\n",
              "        vertical-align: top;\n",
              "    }\n",
              "\n",
              "    .dataframe thead th {\n",
              "        text-align: right;\n",
              "    }\n",
              "</style>\n",
              "<table border=\"1\" class=\"dataframe\">\n",
              "  <thead>\n",
              "    <tr style=\"text-align: right;\">\n",
              "      <th></th>\n",
              "      <th>Product Name</th>\n",
              "      <th>Prices</th>\n",
              "      <th>Reviews</th>\n",
              "    </tr>\n",
              "  </thead>\n",
              "  <tbody>\n",
              "    <tr>\n",
              "      <th>0</th>\n",
              "      <td>HP 15s Athlon Dual Core - (4 GB/1 TB HDD/Windo...</td>\n",
              "      <td>₹27,490</td>\n",
              "      <td>4.1</td>\n",
              "    </tr>\n",
              "    <tr>\n",
              "      <th>1</th>\n",
              "      <td>HP 14s Core i3 11th Gen - (8 GB/256 GB SSD/Win...</td>\n",
              "      <td>₹41,990</td>\n",
              "      <td>4.6</td>\n",
              "    </tr>\n",
              "    <tr>\n",
              "      <th>2</th>\n",
              "      <td>HP Pavilion Gaming Ryzen 5 Quad Core 3550H - (...</td>\n",
              "      <td>₹50,990</td>\n",
              "      <td>4.2</td>\n",
              "    </tr>\n",
              "    <tr>\n",
              "      <th>3</th>\n",
              "      <td>ASUS VivoBook 15 Core i3 10th Gen - (8 GB/1 TB...</td>\n",
              "      <td>₹37,990</td>\n",
              "      <td>4.1</td>\n",
              "    </tr>\n",
              "    <tr>\n",
              "      <th>4</th>\n",
              "      <td>acer Aspire 7 Ryzen 5 Quad Core 3550H - (8 GB/...</td>\n",
              "      <td>₹50,990</td>\n",
              "      <td>4.5</td>\n",
              "    </tr>\n",
              "  </tbody>\n",
              "</table>\n",
              "</div>"
            ],
            "text/plain": [
              "                                        Product Name   Prices Reviews\n",
              "0  HP 15s Athlon Dual Core - (4 GB/1 TB HDD/Windo...  ₹27,490     4.1\n",
              "1  HP 14s Core i3 11th Gen - (8 GB/256 GB SSD/Win...  ₹41,990     4.6\n",
              "2  HP Pavilion Gaming Ryzen 5 Quad Core 3550H - (...  ₹50,990     4.2\n",
              "3  ASUS VivoBook 15 Core i3 10th Gen - (8 GB/1 TB...  ₹37,990     4.1\n",
              "4  acer Aspire 7 Ryzen 5 Quad Core 3550H - (8 GB/...  ₹50,990     4.5"
            ]
          },
          "metadata": {
            "tags": []
          },
          "execution_count": 10
        }
      ]
    },
    {
      "cell_type": "code",
      "metadata": {
        "id": "esVA7JVlZK0U"
      },
      "source": [
        "df.to_csv('Laptops.csv')"
      ],
      "execution_count": null,
      "outputs": []
    }
  ]
}